{
 "cells": [
  {
   "cell_type": "markdown",
   "metadata": {},
   "source": [
    "# Preprocessing Data"
   ]
  },
  {
   "cell_type": "markdown",
   "metadata": {},
   "source": [
    "## Repairing Missing Data"
   ]
  },
  {
   "cell_type": "code",
   "execution_count": 1,
   "metadata": {},
   "outputs": [
    {
     "name": "stdout",
     "output_type": "stream",
     "text": [
      "       A   B   C\n",
      "[1,]   1   2 NaN\n",
      "[2,] NaN   2 NaN\n",
      "[3,]   3 NaN NaN\n",
      "[4,] NaN   3   8\n",
      "[5,]   5   3 NaN\n"
     ]
    },
    {
     "data": {
      "text/html": [
       "<style>\n",
       ".dl-inline {width: auto; margin:0; padding: 0}\n",
       ".dl-inline>dt, .dl-inline>dd {float: none; width: auto; display: inline-block}\n",
       ".dl-inline>dt::after {content: \":\\0020\"; padding-right: .5ex}\n",
       ".dl-inline>dt:not(:first-of-type) {padding-left: .5ex}\n",
       "</style><dl class=dl-inline><dt>A</dt><dd>2</dd><dt>B</dt><dd>1</dd><dt>C</dt><dd>4</dd></dl>\n"
      ],
      "text/latex": [
       "\\begin{description*}\n",
       "\\item[A] 2\n",
       "\\item[B] 1\n",
       "\\item[C] 4\n",
       "\\end{description*}\n"
      ],
      "text/markdown": [
       "A\n",
       ":   2B\n",
       ":   1C\n",
       ":   4\n",
       "\n"
      ],
      "text/plain": [
       "A B C \n",
       "2 1 4 "
      ]
     },
     "metadata": {},
     "output_type": "display_data"
    }
   ],
   "source": [
    "data <- matrix(c(1, 2, NaN,\n",
    "                 NaN, 2, NaN,\n",
    "                 3, NaN, NaN,\n",
    "                 NaN, 3, 8,\n",
    "                 5, 3, NaN), nrow=5, byrow=TRUE)\n",
    "colnames(data) <- c(\"A\", \"B\", \"C\")\n",
    "\n",
    "print(data)\n",
    "\n",
    "# counts NaN values for each feature\n",
    "colSums(is.na(data))"
   ]
  },
  {
   "cell_type": "code",
   "execution_count": 2,
   "metadata": {},
   "outputs": [
    {
     "name": "stderr",
     "output_type": "stream",
     "text": [
      "\n",
      "Attaching package: 'zoo'\n",
      "\n",
      "\n",
      "The following objects are masked from 'package:base':\n",
      "\n",
      "    as.Date, as.Date.numeric\n",
      "\n",
      "\n"
     ]
    },
    {
     "name": "stdout",
     "output_type": "stream",
     "text": [
      "     A   B missing_B\n",
      "[1,] 1 2.0         0\n",
      "[2,] 2 2.0         0\n",
      "[3,] 3 2.5         1\n",
      "[4,] 4 3.0         0\n",
      "[5,] 5 3.0         0\n"
     ]
    }
   ],
   "source": [
    "library(zoo)\n",
    "\n",
    "# Drops feature C from the dataset\n",
    "data <- subset(data, select = -c(C) )\n",
    "\n",
    "# Create a placeholder for B's missing values\n",
    "missing_B <- as.integer(is.nan(data[,c(\"B\")]))\n",
    "data <- cbind(data, missing_B)\n",
    "colnames(data) <- c(\"A\", \"B\", \"missing_B\")\n",
    "\n",
    "# Fills missings in B using B's average\n",
    "fill <- mean(na.omit(data[,c(\"B\")]))\n",
    "data[is.nan(data[,c(\"B\")]),c(\"B\")] <- fill\n",
    "\n",
    "# Interpolate A\n",
    "data[,c(\"A\")] <- na.approx(data[,c(\"A\")])\n",
    "\n",
    "print(data)"
   ]
  },
  {
   "cell_type": "markdown",
   "metadata": {},
   "source": [
    "# Creating Your Own Features"
   ]
  },
  {
   "cell_type": "markdown",
   "metadata": {},
   "source": [
    "## Explaining the basics of SVD"
   ]
  },
  {
   "cell_type": "code",
   "execution_count": 3,
   "metadata": {},
   "outputs": [
    {
     "name": "stdout",
     "output_type": "stream",
     "text": [
      "     [,1] [,2] [,3]\n",
      "[1,]    1    2    3\n",
      "[2,]    4    5    6\n",
      "[3,]    7    8    9\n",
      "[1] \"U:\"\n",
      "           [,1]       [,2]       [,3]\n",
      "[1,] -0.2148372  0.8872307  0.4082483\n",
      "[2,] -0.5205874  0.2496440 -0.8164966\n",
      "[3,] -0.8263375 -0.3879428  0.4082483\n",
      "[1] \"s:\"\n",
      "[1] 1.684810e+01 1.068370e+00 1.472808e-16\n",
      "[1] \"VT:\"\n",
      "           [,1]        [,2]       [,3]\n",
      "[1,] -0.4796712 -0.77669099  0.4082483\n",
      "[2,] -0.5723678 -0.07568647 -0.8164966\n",
      "[3,] -0.6650644  0.62531805  0.4082483\n",
      "[1] \"Sigma Matrix:\"\n",
      "        [,1]    [,2]         [,3]\n",
      "[1,] 16.8481 0.00000 0.000000e+00\n",
      "[2,]  0.0000 1.06837 0.000000e+00\n",
      "[3,]  0.0000 0.00000 1.472808e-16\n",
      "[1] \"Reconstructed Matrix:\"\n",
      "     [,1] [,2] [,3]\n",
      "[1,]    1    2    3\n",
      "[2,]    4    5    6\n",
      "[3,]    7    8    9\n"
     ]
    }
   ],
   "source": [
    "A <- matrix(c(1, 2, 3, 4, 5, 6, 7, 8, 9), nrow=3, byrow=TRUE)\n",
    "print(A)\n",
    "\n",
    "# Perform the decomposition.\n",
    "s <- svd(A)\n",
    "print('U:')\n",
    "print(s$u)\n",
    "print('s:')\n",
    "print(s$d)\n",
    "print(\"VT:\")\n",
    "print(s$v)\n",
    "\n",
    "# Create the m x n Sigma matrix.\n",
    "Sigma <- diag(s$d)\n",
    "print(\"Sigma Matrix:\")\n",
    "print(Sigma)\n",
    "\n",
    "# Reconstruct the original matrix.\n",
    "# Note that you must transpose s$v to obtain the correct output.\n",
    "B <- s$u %*% (Sigma %*% t(s$v))\n",
    "print(\"Reconstructed Matrix:\")\n",
    "print(B)"
   ]
  },
  {
   "cell_type": "markdown",
   "metadata": {},
   "source": [
    "## Reorganizing data"
   ]
  },
  {
   "cell_type": "code",
   "execution_count": 4,
   "metadata": {},
   "outputs": [
    {
     "data": {
      "text/plain": [
       "Importance of components:\n",
       "                            PC1     PC2      PC3      PC4     PC5     PC6\n",
       "Standard deviation     175.8124 79.0621 28.67863 16.34920 8.77742 6.83253\n",
       "Proportion of Variance   0.8046  0.1627  0.02141  0.00696 0.00201 0.00122\n",
       "Cumulative Proportion    0.8046  0.9673  0.98869  0.99564 0.99765 0.99886\n",
       "                           PC7     PC8     PC9    PC10    PC11    PC12   PC13\n",
       "Standard deviation     4.13073 3.68218 2.98490 1.64961 1.04977 0.46683 0.2431\n",
       "Proportion of Variance 0.00044 0.00035 0.00023 0.00007 0.00003 0.00001 0.0000\n",
       "Cumulative Proportion  0.99931 0.99966 0.99989 0.99996 0.99999 1.00000 1.0000\n",
       "                          PC14\n",
       "Standard deviation     0.05409\n",
       "Proportion of Variance 0.00000\n",
       "Cumulative Proportion  1.00000"
      ]
     },
     "metadata": {},
     "output_type": "display_data"
    }
   ],
   "source": [
    "library(MASS)\n",
    "pca <- prcomp(Boston)\n",
    "summary(pca)"
   ]
  },
  {
   "cell_type": "markdown",
   "metadata": {},
   "source": [
    "## Reorganizing data"
   ]
  },
  {
   "cell_type": "markdown",
   "metadata": {},
   "source": [
    "## Using a univariate strategy"
   ]
  },
  {
   "cell_type": "code",
   "execution_count": 5,
   "metadata": {},
   "outputs": [
    {
     "data": {
      "image/png": "[encoded data removed]",
      "text/plain": [
       "plot without title"
      ]
     },
     "metadata": {
      "image/png": {
       "height": 420,
       "width": 420
      }
     },
     "output_type": "display_data"
    }
   ],
   "source": [
    "boxplot(Boston$lstat, xlab=\"LSTAT\")"
   ]
  },
  {
   "cell_type": "markdown",
   "metadata": {},
   "source": [
    "## Resorting to Multivariate Models"
   ]
  },
  {
   "cell_type": "code",
   "execution_count": 6,
   "metadata": {},
   "outputs": [],
   "source": [
    "pca <- prcomp(scale(Boston))"
   ]
  },
  {
   "cell_type": "code",
   "execution_count": 7,
   "metadata": {},
   "outputs": [
    {
     "data": {
      "image/png": "[encoded data removed]",
      "text/plain": [
       "plot without title"
      ]
     },
     "metadata": {
      "image/png": {
       "height": 420,
       "width": 420
      }
     },
     "output_type": "display_data"
    }
   ],
   "source": [
    "C <- scale(pca$x)\n",
    "plot(C[,1], C[,2], xlab=\"Component 1\", ylab=\"Component 2\")"
   ]
  },
  {
   "cell_type": "code",
   "execution_count": 8,
   "metadata": {},
   "outputs": [
    {
     "data": {
      "image/png": "[encoded data removed]",
      "text/plain": [
       "plot without title"
      ]
     },
     "metadata": {
      "image/png": {
       "height": 420,
       "width": 420
      }
     },
     "output_type": "display_data"
    }
   ],
   "source": [
    "plot(C[,13], C[,14], xlab=\"Component 12\", ylab=\"Component 13\")"
   ]
  },
  {
   "cell_type": "code",
   "execution_count": null,
   "metadata": {},
   "outputs": [],
   "source": []
  }
 ],
 "metadata": {
  "kernelspec": {
   "display_name": "R",
   "language": "R",
   "name": "ir"
  },
  "language_info": {
   "codemirror_mode": "r",
   "file_extension": ".r",
   "mimetype": "text/x-r-source",
   "name": "R",
   "pygments_lexer": "r",
   "version": "4.0.3"
  }
 },
 "nbformat": 4,
 "nbformat_minor": 4
}
