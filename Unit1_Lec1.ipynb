{
 "cells": [
  {
   "cell_type": "markdown",
   "id": "9b9f86fb-5f54-427d-abab-19cf1f1d22ae",
   "metadata": {},
   "source": [
    "# Unit 1: Python Basics"
   ]
  },
  {
   "cell_type": "markdown",
   "id": "3843e708-4382-40b2-9f6b-5adb323532e8",
   "metadata": {},
   "source": [
    "## Lecture 1: Introduction to Python"
   ]
  },
  {
   "cell_type": "markdown",
   "id": "925ff440-7c8f-4189-97c7-7779043364ff",
   "metadata": {},
   "source": [
    "**Python Programs**\n",
    "* **program** is a sequence of definitions and commands.\n",
    "* **Commands** (statements) instruct interpreter to do something."
   ]
  },
  {
   "cell_type": "markdown",
   "id": "27f03fe9-7641-420d-852a-f36d6fa7ab35",
   "metadata": {},
   "source": [
    "**Objects**\n",
    "* programs manipulate **data objects**\n",
    "* objects have a **type** that defines the kinds of things programs can do to them\n",
    "* objects are\n",
    "  * **scalar** (cannot be subdivided)\n",
    "  * **non-scalar** (have internal structure that can be accessed)"
   ]
  },
  {
   "cell_type": "markdown",
   "id": "18ce03c2-3ac4-4557-94c6-867dc6ea3a6c",
   "metadata": {},
   "source": [
    "**Scalar Objects**\n",
    "* `int` – represent **integers**, ex. 5\n",
    "* `float` – represent **real numbers**, ex. 3.27\n",
    "* `bool` – represent **Boolean** values `True` and `False`\n",
    "* `NoneType` – **special** and has one value, `None`"
   ]
  },
  {
   "cell_type": "code",
   "execution_count": 19,
   "id": "4f9623d5-14d4-4ace-986f-64e75d69ef31",
   "metadata": {},
   "outputs": [
    {
     "data": {
      "text/plain": [
       "int"
      ]
     },
     "execution_count": 19,
     "metadata": {},
     "output_type": "execute_result"
    }
   ],
   "source": [
    "# Use type() to see the type of an object\n",
    "type(5)"
   ]
  },
  {
   "cell_type": "code",
   "execution_count": 20,
   "id": "8ea0d3b0-69ef-487d-8d5e-f5c428a0372e",
   "metadata": {},
   "outputs": [
    {
     "data": {
      "text/plain": [
       "3.0"
      ]
     },
     "execution_count": 20,
     "metadata": {},
     "output_type": "execute_result"
    }
   ],
   "source": [
    "# Convert object of one type to another\n",
    "float(3)       # converts integer 3 to float 3.0"
   ]
  },
  {
   "cell_type": "code",
   "execution_count": 21,
   "id": "bf65f257-210b-4e18-9732-d7937cc8b100",
   "metadata": {},
   "outputs": [
    {
     "data": {
      "text/plain": [
       "3"
      ]
     },
     "execution_count": 21,
     "metadata": {},
     "output_type": "execute_result"
    }
   ],
   "source": [
    "int(3.9)       # truncates float 3.9 to integer 3"
   ]
  },
  {
   "cell_type": "markdown",
   "id": "5fde04f0-53ff-46ee-b7b2-d335d3fc1579",
   "metadata": {},
   "source": [
    "**The Python 'None' keyword**\n",
    "\n",
    "In Python, the keyword `None` is frequently used to represent the absence of a value. `None` is the only value in Python of type `NoneType`."
   ]
  },
  {
   "cell_type": "code",
   "execution_count": 22,
   "id": "774b7c7e-3773-4804-9d7a-cfdd663acac1",
   "metadata": {},
   "outputs": [
    {
     "data": {
      "text/plain": [
       "NoneType"
      ]
     },
     "execution_count": 22,
     "metadata": {},
     "output_type": "execute_result"
    }
   ],
   "source": [
    "type(None)"
   ]
  },
  {
   "cell_type": "markdown",
   "id": "b9b33199-c3c9-4bed-a86b-8e69f1abea2e",
   "metadata": {},
   "source": [
    "**Python boolean types**\n",
    "\n",
    "Remember that in Python words are case-sensitive. The word `True` is a Python keyword (it is the value of the Boolean type) and is not the same as the word `true`. Refer to the [Python documentation on Boolean values](https://docs.python.org/3/library/stdtypes.html#boolean-values)."
   ]
  },
  {
   "cell_type": "markdown",
   "id": "b2a0f860-16d8-433a-bd00-520bc7874ce5",
   "metadata": {},
   "source": [
    "**Priority order of Boolean operations**\n",
    "\n",
    "It's important to understand the priority of Boolean operations. The order of operations is as follows:\n",
    "1. Parentheses. Before operating on anything else, Python must evaluate all parentheticals starting at the innermost level.\n",
    "2. `not` statements.\n",
    "3. `and` statements.\n",
    "4. `or` statements.\n",
    "\n",
    "What this means is that an expression like"
   ]
  },
  {
   "cell_type": "code",
   "execution_count": 23,
   "id": "fca944c2-8120-4124-bd34-6cb98022a978",
   "metadata": {},
   "outputs": [
    {
     "data": {
      "text/plain": [
       "False"
      ]
     },
     "execution_count": 23,
     "metadata": {},
     "output_type": "execute_result"
    }
   ],
   "source": [
    "not True and False"
   ]
  },
  {
   "cell_type": "markdown",
   "id": "31b64e7d-74c7-45ce-968c-e99ea20d6f2f",
   "metadata": {},
   "source": [
    "evaluates to `False`, because the `not` is evaluated first (`not True` is `False`), then the `and` is evaluated, yielding `False and False` which is `False`.\n",
    "\n",
    "However the expression"
   ]
  },
  {
   "cell_type": "code",
   "execution_count": 24,
   "id": "196edb7a-f0b0-496f-8f3d-b519c5c97aeb",
   "metadata": {},
   "outputs": [
    {
     "data": {
      "text/plain": [
       "True"
      ]
     },
     "execution_count": 24,
     "metadata": {},
     "output_type": "execute_result"
    }
   ],
   "source": [
    "not (True and False)"
   ]
  },
  {
   "cell_type": "markdown",
   "id": "8232489f-b86c-43f0-81b8-53cf21ecca52",
   "metadata": {},
   "source": [
    "evaluates to `True`, because the expression inside the parentheses must be evaluated first - `True and False` is `False`. Next the `not` can be evaluated, yielding `not False` which is `True`.\n",
    "\n",
    "Overall, you should always use parenthesis when writing expressions to make it clear what order you wish to have Python evaluate your expression. As we've seen here, `not (True and False)` is different from `(not True) and False` - but it's easy to see how Python will evaluate it when you use parentheses. A statement like `not True and False` can bring confusion!"
   ]
  },
  {
   "cell_type": "code",
   "execution_count": 25,
   "id": "11f5344f-6d2f-45a2-a7ab-440081d91941",
   "metadata": {},
   "outputs": [],
   "source": [
    "def evenOdd():\n",
    "\n",
    "    \"\"\"\n",
    "    Created on Wed Jun  8 11:03:23 2016\n",
    "    @author: ericgrimson\n",
    "    \n",
    "    Original script of \"evenOdd.py\" program file\n",
    "    Converted to a function to run in Jupyter Notebook\n",
    "    \"\"\"\n",
    "\n",
    "    x = int(input('Enter an integer: '))\n",
    "    if x%2 == 0:\n",
    "        print('')\n",
    "        print('Even')\n",
    "    else:\n",
    "        print('')\n",
    "        print('Odd')\n",
    "    print('Done with conditional')"
   ]
  },
  {
   "cell_type": "code",
   "execution_count": 26,
   "id": "dcbe06de-1725-45c9-b00a-2be4c9a32668",
   "metadata": {},
   "outputs": [
    {
     "name": "stdin",
     "output_type": "stream",
     "text": [
      "Enter an integer:  12\n"
     ]
    },
    {
     "name": "stdout",
     "output_type": "stream",
     "text": [
      "\n",
      "Even\n",
      "Done with conditional\n"
     ]
    }
   ],
   "source": [
    "# Call the function\n",
    "evenOdd()"
   ]
  },
  {
   "cell_type": "markdown",
   "id": "a200fae0-1f91-406d-8630-d972b106c344",
   "metadata": {},
   "source": [
    "The handouts for this lecture is available [here](Handouts/lec1.pdf)."
   ]
  }
 ],
 "metadata": {
  "kernelspec": {
   "display_name": "Python 3 (ipykernel)",
   "language": "python",
   "name": "python3"
  },
  "language_info": {
   "codemirror_mode": {
    "name": "ipython",
    "version": 3
   },
   "file_extension": ".py",
   "mimetype": "text/x-python",
   "name": "python",
   "nbconvert_exporter": "python",
   "pygments_lexer": "ipython3",
   "version": "3.11.5"
  }
 },
 "nbformat": 4,
 "nbformat_minor": 5
}
