{
 "cells": [
  {
   "cell_type": "markdown",
   "id": "e5e7fc02-0a34-45b2-a714-5cea1aa48a55",
   "metadata": {},
   "source": [
    "# Add a new notebook"
   ]
  },
  {
   "cell_type": "code",
   "execution_count": null,
   "id": "450b5948-9ad1-418a-8830-ae28a61e02e4",
   "metadata": {},
   "outputs": [],
   "source": []
  }
 ],
 "metadata": {
  "kernelspec": {
   "display_name": "Python 3 (ipykernel)",
   "language": "python",
   "name": "python3"
  },
  "language_info": {
   "codemirror_mode": {
    "name": "ipython",
    "version": 3
   },
   "file_extension": ".py",
   "mimetype": "text/x-python",
   "name": "python",
   "nbconvert_exporter": "python",
   "pygments_lexer": "ipython3",
   "version": "3.9.5"
  }
 },
 "nbformat": 4,
 "nbformat_minor": 5
}
