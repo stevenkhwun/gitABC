{
 "cells": [
  {
   "cell_type": "markdown",
   "id": "e5e7fc02-0a34-45b2-a714-5cea1aa48a55",
   "metadata": {},
   "source": [
    "# Add a new notebook"
   ]
  },
  {
   "cell_type": "markdown",
   "id": "ee1e47cd-38b2-4c04-9b07-5893d1f2c1dd",
   "metadata": {},
   "source": [
    "## amending this file"
   ]
  },
  {
   "cell_type": "code",
   "execution_count": null,
   "id": "aaff3859-467c-433c-b77e-31695416a04f",
   "metadata": {},
   "outputs": [],
   "source": []
  }
 ],
 "metadata": {
  "kernelspec": {
   "display_name": "Python 3 (ipykernel)",
   "language": "python",
   "name": "python3"
  },
  "language_info": {
   "codemirror_mode": {
    "name": "ipython",
    "version": 3
   },
   "file_extension": ".py",
   "mimetype": "text/x-python",
   "name": "python",
   "nbconvert_exporter": "python",
   "pygments_lexer": "ipython3",
   "version": "3.9.5"
  }
 },
 "nbformat": 4,
 "nbformat_minor": 5
}
