{
 "cells": [
  {
   "cell_type": "markdown",
   "id": "e5e7fc02-0a34-45b2-a714-5cea1aa48a55",
   "metadata": {},
   "source": [
    "<div style=style=\"font-size: 1px\">\r\n",
    "   \r\n",
    "     //your stuffs here\r\n",
    "\r\n",
    "</div>"
   ]
  },
  {
   "cell_type": "markdown",
   "id": "ee1e47cd-38b2-4c04-9b07-5893d1f2c1dd",
   "metadata": {},
   "source": [
    "# Markdown for Jupyter notebooks cheatsheet\n",
    "\n",
    "[Markdown for Jupyter notebooks cheatsheet](https://www.ibm.com/docs/en/db2-event-store/2.0.0?topic=notebooks-markdown-jupyter-cheatsheet)\n",
    "\n",
    "ings"
   ]
  },
  {
   "cell_type": "code",
   "execution_count": null,
   "id": "a1490520-ecc7-4ebd-af60-e1dc1eb7ce13",
   "metadata": {},
   "outputs": [],
   "source": []
  },
  {
   "cell_type": "code",
   "execution_count": null,
   "id": "261cdea7-b16c-425b-b0ae-bf6a98ef18aa",
   "metadata": {},
   "outputs": [],
   "source": []
  }
 ],
 "metadata": {
  "kernelspec": {
   "display_name": "Python 3 (ipykernel)",
   "language": "python",
   "name": "python3"
  },
  "language_info": {
   "codemirror_mode": {
    "name": "ipython",
    "version": 3
   },
   "file_extension": ".py",
   "mimetype": "text/x-python",
   "name": "python",
   "nbconvert_exporter": "python",
   "pygments_lexer": "ipython3",
   "version": "3.11.5"
  }
 },
 "nbformat": 4,
 "nbformat_minor": 5
}
