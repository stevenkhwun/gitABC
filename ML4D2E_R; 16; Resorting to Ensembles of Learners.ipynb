{
 "cells": [
  {
   "cell_type": "code",
   "execution_count": 1,
   "metadata": {},
   "outputs": [
    {
     "data": {
      "text/html": [
       "'R version is: 4.0.2'"
      ],
      "text/latex": [
       "'R version is: 4.0.2'"
      ],
      "text/markdown": [
       "'R version is: 4.0.2'"
      ],
      "text/plain": [
       "[1] \"R version is: 4.0.2\""
      ]
     },
     "metadata": {},
     "output_type": "display_data"
    }
   ],
   "source": [
    "paste(\"R version is:\", paste0(R.Version()[c(\"major\",\"minor\")], collapse = \".\"))"
   ]
  },
  {
   "cell_type": "markdown",
   "metadata": {},
   "source": [
    "## Predicting outcomes by splitting data"
   ]
  },
  {
   "cell_type": "code",
   "execution_count": 2,
   "metadata": {},
   "outputs": [],
   "source": [
    "# installing feather library, if not yet available\n",
    "if (!(\"feather\" %in% rownames(installed.packages()))) {\n",
    "    install.packages(\"feather\")\n",
    "}"
   ]
  },
  {
   "cell_type": "code",
   "execution_count": 3,
   "metadata": {},
   "outputs": [],
   "source": [
    "# installing RCurl library, if not yet available\n",
    "if (!(\"RCurl\" %in% rownames(installed.packages()))) {\n",
    "    install.packages(\"RCurl\")\n",
    "}"
   ]
  },
  {
   "cell_type": "code",
   "execution_count": 4,
   "metadata": {},
   "outputs": [
    {
     "name": "stderr",
     "output_type": "stream",
     "text": [
      "Warning message:\n",
      "\"Coercing int64 to double\"\n",
      "Warning message:\n",
      "\"Coercing int64 to double\"\n"
     ]
    }
   ],
   "source": [
    "library(feather)\n",
    "library(RCurl)\n",
    "\n",
    "url <- \"https://github.com/lmassaron/datasets/releases/download/1.0/wine_quality.feather\"\n",
    "destfile <- \"wine_quality.feather\"\n",
    "download.file(url, destfile, mode =  \"wb\")\n",
    "\n",
    "wine <- read_feather(destfile)"
   ]
  },
  {
   "cell_type": "code",
   "execution_count": 5,
   "metadata": {},
   "outputs": [],
   "source": [
    "y <- wine$quality\n",
    "X <- as.data.frame(wine[,2:ncol(wine)])\n",
    "\n",
    "# Splitting the data frame into train and test sets\n",
    "set.seed(42)\n",
    "sample_size <- floor(0.7 * nrow(X))\n",
    "train_idx <- sample(seq_len(nrow(X)), size = sample_size)\n",
    "\n",
    "X_train <- X[train_idx,]\n",
    "y_train <- y[train_idx]\n",
    "X_test  <- X[-train_idx,]\n",
    "y_test  <- y[-train_idx]"
   ]
  },
  {
   "cell_type": "code",
   "execution_count": 6,
   "metadata": {},
   "outputs": [],
   "source": [
    "# installing randomForest library, if not yet available\n",
    "if (!(\"randomForest\" %in% rownames(installed.packages()))) {\n",
    "    install.packages(\"randomForest\")\n",
    "}"
   ]
  },
  {
   "cell_type": "code",
   "execution_count": 7,
   "metadata": {},
   "outputs": [],
   "source": [
    "# installing MLmetrics library, if not yet available\n",
    "if (!(\"MLmetrics\" %in% rownames(installed.packages()))) {\n",
    "    install.packages(\"MLmetrics\")\n",
    "}"
   ]
  },
  {
   "cell_type": "markdown",
   "metadata": {},
   "source": [
    "In this first experiment we try various random forest models, each one having an increasing number of trees."
   ]
  },
  {
   "cell_type": "code",
   "execution_count": 8,
   "metadata": {},
   "outputs": [
    {
     "name": "stderr",
     "output_type": "stream",
     "text": [
      "randomForest 4.6-14\n",
      "\n",
      "Type rfNews() to see new features/changes/bug fixes.\n",
      "\n",
      "\n",
      "Attaching package: 'MLmetrics'\n",
      "\n",
      "\n",
      "The following object is masked from 'package:base':\n",
      "\n",
      "    Recall\n",
      "\n",
      "\n"
     ]
    }
   ],
   "source": [
    "library(randomForest)\n",
    "library(MLmetrics)\n",
    "\n",
    "test_scores <- NULL\n",
    "for (trees in c(10, 25, 50, 100, 150, 200, 250, 300, 500)) {\n",
    "    rf = randomForest(X_train, y_train, ntree=trees)\n",
    "    test_scores <- c(test_scores, MAE(y_pred=predict(rf, X_test), \n",
    "                                      y_true=y_test))\n",
    "}"
   ]
  },
  {
   "cell_type": "markdown",
   "metadata": {},
   "source": [
    "We plot the results and notice that as we increment the number of tree in the forest so does the test scores."
   ]
  },
  {
   "cell_type": "code",
   "execution_count": 9,
   "metadata": {},
   "outputs": [
    {
     "data": {
      "image/png": "[encoded data removed]",
      "text/plain": [
       "plot without title"
      ]
     },
     "metadata": {
      "image/png": {
       "height": 420,
       "width": 420
      }
     },
     "output_type": "display_data"
    }
   ],
   "source": [
    "plot(c(10, 25, 50, 100, 150, 200, 250, 300, 500), \n",
    "     test_scores, type='b')"
   ]
  },
  {
   "cell_type": "markdown",
   "metadata": {},
   "source": [
    "## Understanding the importance measures"
   ]
  },
  {
   "cell_type": "markdown",
   "metadata": {},
   "source": [
    "In order to examine the importance derived from the random forest model, you have first to state the parameter importance as TRUE."
   ]
  },
  {
   "cell_type": "code",
   "execution_count": 10,
   "metadata": {},
   "outputs": [],
   "source": [
    "rf = randomForest(X_train, y_train, \n",
    "                  ntree=500, mtry=sqrt(ncol(X_train)),\n",
    "                  importance=TRUE)"
   ]
  },
  {
   "cell_type": "markdown",
   "metadata": {},
   "source": [
    "Since the caret library masks the MAE from MLmetrics, we have to call it directly from the MLmetrics library."
   ]
  },
  {
   "cell_type": "code",
   "execution_count": 11,
   "metadata": {},
   "outputs": [
    {
     "data": {
      "text/html": [
       "0.428977956043956"
      ],
      "text/latex": [
       "0.428977956043956"
      ],
      "text/markdown": [
       "0.428977956043956"
      ],
      "text/plain": [
       "[1] 0.428978"
      ]
     },
     "metadata": {},
     "output_type": "display_data"
    }
   ],
   "source": [
    "MLmetrics::MAE(y_pred=predict(rf, X_test), y_true=y_test)"
   ]
  },
  {
   "cell_type": "code",
   "execution_count": 12,
   "metadata": {},
   "outputs": [
    {
     "data": {
      "image/png": "[encoded data removed]",
      "text/plain": [
       "Plot with title \"rf\""
      ]
     },
     "metadata": {
      "image/png": {
       "height": 420,
       "width": 420
      }
     },
     "output_type": "display_data"
    }
   ],
   "source": [
    "varImpPlot(rf, type=1)"
   ]
  },
  {
   "cell_type": "code",
   "execution_count": 13,
   "metadata": {},
   "outputs": [
    {
     "data": {
      "image/png": "[encoded data removed]",
      "text/plain": [
       "Plot with title \"rf\""
      ]
     },
     "metadata": {
      "image/png": {
       "height": 420,
       "width": 420
      }
     },
     "output_type": "display_data"
    }
   ],
   "source": [
    "varImpPlot(rf, type=2)"
   ]
  },
  {
   "cell_type": "markdown",
   "metadata": {},
   "source": [
    "## Adaboost with different base learners"
   ]
  },
  {
   "cell_type": "code",
   "execution_count": 14,
   "metadata": {},
   "outputs": [],
   "source": [
    "# installing caret library, if not yet available\n",
    "if (!(\"caret\" %in% rownames(installed.packages()))) {\n",
    "    install.packages(\"caret\")\n",
    "}"
   ]
  },
  {
   "cell_type": "code",
   "execution_count": 15,
   "metadata": {},
   "outputs": [],
   "source": [
    "# installing ipred library, if not yet available\n",
    "if (!(\"ipred\" %in% rownames(installed.packages()))) {\n",
    "    install.packages(\"ipred\")\n",
    "}"
   ]
  },
  {
   "cell_type": "code",
   "execution_count": 16,
   "metadata": {},
   "outputs": [],
   "source": [
    "# installing plyr library, if not yet available\n",
    "if (!(\"plyr\" %in% rownames(installed.packages()))) {\n",
    "    install.packages(\"plyr\")\n",
    "}"
   ]
  },
  {
   "cell_type": "code",
   "execution_count": 17,
   "metadata": {},
   "outputs": [],
   "source": [
    "# installing e1071 library, if not yet available\n",
    "if (!(\"e1071\" %in% rownames(installed.packages()))) {\n",
    "    install.packages(\"e1071\")\n",
    "}"
   ]
  },
  {
   "cell_type": "code",
   "execution_count": null,
   "metadata": {},
   "outputs": [],
   "source": [
    "# installing adabag library, if not yet available\n",
    "if (!(\"adabag\" %in% rownames(installed.packages()))) {\n",
    "    install.packages(\"e1071\")\n",
    "}"
   ]
  },
  {
   "cell_type": "markdown",
   "metadata": {},
   "source": [
    "Apart from caret, most of the libraries are for running adabag and the treebag model which allows working on regression models, contrary to most adaboost models available in R limited to just binary classification."
   ]
  },
  {
   "cell_type": "code",
   "execution_count": 18,
   "metadata": {},
   "outputs": [
    {
     "name": "stderr",
     "output_type": "stream",
     "text": [
      "Loading required package: lattice\n",
      "\n",
      "Loading required package: ggplot2\n",
      "\n",
      "\n",
      "Attaching package: 'ggplot2'\n",
      "\n",
      "\n",
      "The following object is masked from 'package:randomForest':\n",
      "\n",
      "    margin\n",
      "\n",
      "\n",
      "\n",
      "Attaching package: 'caret'\n",
      "\n",
      "\n",
      "The following objects are masked from 'package:MLmetrics':\n",
      "\n",
      "    MAE, RMSE\n",
      "\n",
      "\n",
      "Loading required package: rpart\n",
      "\n",
      "Loading required package: foreach\n",
      "\n",
      "Loading required package: doParallel\n",
      "\n",
      "Loading required package: iterators\n",
      "\n",
      "Loading required package: parallel\n",
      "\n"
     ]
    },
    {
     "name": "stdout",
     "output_type": "stream",
     "text": [
      "Bagged CART \n",
      "\n",
      "4547 samples\n",
      "  12 predictor\n",
      "\n",
      "No pre-processing\n",
      "Resampling: Cross-Validated (3 fold) \n",
      "Summary of sample sizes: 3031, 3032, 3031 \n",
      "Resampling results:\n",
      "\n",
      "  RMSE       Rsquared   MAE      \n",
      "  0.7471535  0.2754201  0.5939229\n",
      "\n"
     ]
    }
   ],
   "source": [
    "library(caret)\n",
    "library(adabag)\n",
    "\n",
    "ada_model <- train(X_train, y_train, method=\"treebag\",\n",
    "                   trControl=trainControl(method=\"cv\", number=3),\n",
    "                   metric = \"MAE\")\n",
    "\n",
    "print(ada_model)"
   ]
  },
  {
   "cell_type": "code",
   "execution_count": 19,
   "metadata": {},
   "outputs": [
    {
     "data": {
      "text/html": [
       "0.58072291141989"
      ],
      "text/latex": [
       "0.58072291141989"
      ],
      "text/markdown": [
       "0.58072291141989"
      ],
      "text/plain": [
       "[1] 0.5807229"
      ]
     },
     "metadata": {},
     "output_type": "display_data"
    }
   ],
   "source": [
    "MLmetrics::MAE(y_pred=predict(ada_model, X_test), y_true=y_test)"
   ]
  },
  {
   "cell_type": "markdown",
   "metadata": {},
   "source": [
    "##  Testing Gradient boosting performance"
   ]
  },
  {
   "cell_type": "code",
   "execution_count": 20,
   "metadata": {},
   "outputs": [],
   "source": [
    "# installing gbm library, if not yet available\n",
    "if (!(\"gbm\" %in% rownames(installed.packages()))) {\n",
    "    install.packages(\"gbm\")\n",
    "}"
   ]
  },
  {
   "cell_type": "markdown",
   "metadata": {},
   "source": [
    "In this experiment we use gbm (https://www.rdocumentation.org/packages/gbm/versions/2.1.8/topics/gbm), setting our model to 500 trees, interactions up to 12 branches, a minimum of 30 observations for node before splitting. You can change the paramaters or remove the tuneGrid and let the caret library find the best for you (it may take a while). "
   ]
  },
  {
   "cell_type": "code",
   "execution_count": 21,
   "metadata": {},
   "outputs": [
    {
     "name": "stderr",
     "output_type": "stream",
     "text": [
      "Loaded gbm 2.1.8\n",
      "\n"
     ]
    },
    {
     "name": "stdout",
     "output_type": "stream",
     "text": [
      "Iter   TrainDeviance   ValidDeviance   StepSize   Improve\n",
      "     1        0.7194             nan     0.1000    0.0400\n",
      "     2        0.6832             nan     0.1000    0.0311\n",
      "     3        0.6509             nan     0.1000    0.0291\n",
      "     4        0.6247             nan     0.1000    0.0220\n",
      "     5        0.6026             nan     0.1000    0.0197\n",
      "     6        0.5824             nan     0.1000    0.0175\n",
      "     7        0.5657             nan     0.1000    0.0138\n",
      "     8        0.5516             nan     0.1000    0.0104\n",
      "     9        0.5393             nan     0.1000    0.0102\n",
      "    10        0.5289             nan     0.1000    0.0071\n",
      "    20        0.4541             nan     0.1000    0.0028\n",
      "    40        0.3901             nan     0.1000    0.0004\n",
      "    60        0.3551             nan     0.1000   -0.0003\n",
      "    80        0.3297             nan     0.1000   -0.0008\n",
      "   100        0.3078             nan     0.1000   -0.0013\n",
      "   120        0.2886             nan     0.1000   -0.0011\n",
      "   140        0.2720             nan     0.1000   -0.0008\n",
      "   160        0.2565             nan     0.1000   -0.0008\n",
      "   180        0.2427             nan     0.1000   -0.0010\n",
      "   200        0.2301             nan     0.1000   -0.0003\n",
      "   220        0.2183             nan     0.1000   -0.0007\n",
      "   240        0.2083             nan     0.1000   -0.0010\n",
      "   260        0.1985             nan     0.1000   -0.0006\n",
      "   280        0.1893             nan     0.1000   -0.0007\n",
      "   300        0.1809             nan     0.1000   -0.0006\n",
      "   320        0.1732             nan     0.1000   -0.0006\n",
      "   340        0.1659             nan     0.1000   -0.0006\n",
      "   360        0.1591             nan     0.1000   -0.0003\n",
      "   380        0.1528             nan     0.1000   -0.0006\n",
      "   400        0.1466             nan     0.1000   -0.0006\n",
      "   420        0.1402             nan     0.1000   -0.0008\n",
      "   440        0.1345             nan     0.1000   -0.0006\n",
      "   460        0.1295             nan     0.1000   -0.0004\n",
      "   480        0.1240             nan     0.1000   -0.0007\n",
      "   500        0.1192             nan     0.1000   -0.0004\n",
      "\n",
      "Iter   TrainDeviance   ValidDeviance   StepSize   Improve\n",
      "     1        0.7258             nan     0.1000    0.0406\n",
      "     2        0.6893             nan     0.1000    0.0359\n",
      "     3        0.6590             nan     0.1000    0.0279\n",
      "     4        0.6343             nan     0.1000    0.0202\n",
      "     5        0.6116             nan     0.1000    0.0196\n",
      "     6        0.5924             nan     0.1000    0.0159\n",
      "     7        0.5762             nan     0.1000    0.0128\n",
      "     8        0.5621             nan     0.1000    0.0106\n",
      "     9        0.5496             nan     0.1000    0.0102\n",
      "    10        0.5379             nan     0.1000    0.0082\n",
      "    20        0.4696             nan     0.1000    0.0023\n",
      "    40        0.4110             nan     0.1000   -0.0004\n",
      "    60        0.3761             nan     0.1000    0.0003\n",
      "    80        0.3489             nan     0.1000   -0.0009\n",
      "   100        0.3233             nan     0.1000   -0.0006\n",
      "   120        0.3041             nan     0.1000   -0.0006\n",
      "   140        0.2857             nan     0.1000   -0.0006\n",
      "   160        0.2692             nan     0.1000   -0.0007\n",
      "   180        0.2550             nan     0.1000   -0.0006\n",
      "   200        0.2417             nan     0.1000   -0.0004\n",
      "   220        0.2303             nan     0.1000   -0.0009\n",
      "   240        0.2193             nan     0.1000   -0.0009\n",
      "   260        0.2095             nan     0.1000   -0.0006\n",
      "   280        0.2005             nan     0.1000   -0.0010\n",
      "   300        0.1910             nan     0.1000   -0.0008\n",
      "   320        0.1829             nan     0.1000   -0.0005\n",
      "   340        0.1752             nan     0.1000   -0.0006\n",
      "   360        0.1679             nan     0.1000   -0.0007\n",
      "   380        0.1606             nan     0.1000   -0.0006\n",
      "   400        0.1543             nan     0.1000   -0.0006\n",
      "   420        0.1486             nan     0.1000   -0.0005\n",
      "   440        0.1426             nan     0.1000   -0.0005\n",
      "   460        0.1374             nan     0.1000   -0.0007\n",
      "   480        0.1322             nan     0.1000   -0.0004\n",
      "   500        0.1271             nan     0.1000   -0.0003\n",
      "\n",
      "Iter   TrainDeviance   ValidDeviance   StepSize   Improve\n",
      "     1        0.7313             nan     0.1000    0.0395\n",
      "     2        0.6944             nan     0.1000    0.0328\n",
      "     3        0.6624             nan     0.1000    0.0282\n",
      "     4        0.6377             nan     0.1000    0.0232\n",
      "     5        0.6157             nan     0.1000    0.0197\n",
      "     6        0.5969             nan     0.1000    0.0150\n",
      "     7        0.5796             nan     0.1000    0.0131\n",
      "     8        0.5652             nan     0.1000    0.0116\n",
      "     9        0.5508             nan     0.1000    0.0105\n",
      "    10        0.5385             nan     0.1000    0.0087\n",
      "    20        0.4706             nan     0.1000    0.0007\n",
      "    40        0.4123             nan     0.1000   -0.0005\n",
      "    60        0.3802             nan     0.1000   -0.0018\n",
      "    80        0.3516             nan     0.1000   -0.0001\n",
      "   100        0.3291             nan     0.1000   -0.0008\n",
      "   120        0.3095             nan     0.1000   -0.0004\n",
      "   140        0.2911             nan     0.1000   -0.0010\n",
      "   160        0.2751             nan     0.1000   -0.0011\n",
      "   180        0.2592             nan     0.1000   -0.0008\n",
      "   200        0.2455             nan     0.1000   -0.0009\n",
      "   220        0.2342             nan     0.1000   -0.0005\n",
      "   240        0.2226             nan     0.1000   -0.0007\n",
      "   260        0.2126             nan     0.1000   -0.0007\n",
      "   280        0.2029             nan     0.1000   -0.0007\n",
      "   300        0.1944             nan     0.1000   -0.0010\n",
      "   320        0.1870             nan     0.1000   -0.0007\n",
      "   340        0.1790             nan     0.1000   -0.0007\n",
      "   360        0.1710             nan     0.1000   -0.0008\n",
      "   380        0.1640             nan     0.1000   -0.0005\n",
      "   400        0.1568             nan     0.1000   -0.0005\n",
      "   420        0.1503             nan     0.1000   -0.0007\n",
      "   440        0.1446             nan     0.1000   -0.0006\n",
      "   460        0.1386             nan     0.1000   -0.0006\n",
      "   480        0.1338             nan     0.1000   -0.0004\n",
      "   500        0.1291             nan     0.1000   -0.0006\n",
      "\n",
      "Iter   TrainDeviance   ValidDeviance   StepSize   Improve\n",
      "     1        0.7250             nan     0.1000    0.0405\n",
      "     2        0.6892             nan     0.1000    0.0338\n",
      "     3        0.6601             nan     0.1000    0.0280\n",
      "     4        0.6337             nan     0.1000    0.0229\n",
      "     5        0.6104             nan     0.1000    0.0207\n",
      "     6        0.5919             nan     0.1000    0.0166\n",
      "     7        0.5765             nan     0.1000    0.0133\n",
      "     8        0.5634             nan     0.1000    0.0104\n",
      "     9        0.5522             nan     0.1000    0.0085\n",
      "    10        0.5395             nan     0.1000    0.0096\n",
      "    20        0.4736             nan     0.1000    0.0022\n",
      "    40        0.4181             nan     0.1000    0.0005\n",
      "    60        0.3905             nan     0.1000   -0.0004\n",
      "    80        0.3658             nan     0.1000    0.0000\n",
      "   100        0.3469             nan     0.1000   -0.0009\n",
      "   120        0.3303             nan     0.1000   -0.0006\n",
      "   140        0.3134             nan     0.1000   -0.0004\n",
      "   160        0.2985             nan     0.1000   -0.0007\n",
      "   180        0.2845             nan     0.1000   -0.0005\n",
      "   200        0.2730             nan     0.1000   -0.0006\n",
      "   220        0.2617             nan     0.1000   -0.0005\n",
      "   240        0.2522             nan     0.1000   -0.0007\n",
      "   260        0.2421             nan     0.1000   -0.0005\n",
      "   280        0.2333             nan     0.1000   -0.0004\n",
      "   300        0.2256             nan     0.1000   -0.0003\n",
      "   320        0.2172             nan     0.1000   -0.0003\n",
      "   340        0.2094             nan     0.1000    0.0000\n",
      "   360        0.2018             nan     0.1000   -0.0005\n",
      "   380        0.1949             nan     0.1000   -0.0003\n",
      "   400        0.1886             nan     0.1000   -0.0004\n",
      "   420        0.1829             nan     0.1000   -0.0006\n",
      "   440        0.1768             nan     0.1000   -0.0001\n",
      "   460        0.1706             nan     0.1000   -0.0004\n",
      "   480        0.1653             nan     0.1000   -0.0005\n",
      "   500        0.1601             nan     0.1000   -0.0003\n",
      "\n"
     ]
    },
    {
     "name": "stdout",
     "output_type": "stream",
     "text": [
      "Stochastic Gradient Boosting \n",
      "\n",
      "4547 samples\n",
      "  12 predictor\n",
      "\n",
      "No pre-processing\n",
      "Resampling: Cross-Validated (3 fold) \n",
      "Summary of sample sizes: 3031, 3031, 3032 \n",
      "Resampling results:\n",
      "\n",
      "  RMSE       Rsquared   MAE      \n",
      "  0.6919648  0.3887064  0.5238877\n",
      "\n",
      "Tuning parameter 'n.trees' was held constant at a value of 500\n",
      "Tuning\n",
      "\n",
      "Tuning parameter 'shrinkage' was held constant at a value of 0.1\n",
      "\n",
      "Tuning parameter 'n.minobsinnode' was held constant at a value of 30\n"
     ]
    }
   ],
   "source": [
    "library(caret)\n",
    "library(gbm)\n",
    "\n",
    "gbm_model<-train(X_train, y_train, method=\"gbm\",\n",
    "                 trControl=trainControl(method=\"cv\", number=3),\n",
    "                 tuneGrid=data.frame(n.trees=500, \n",
    "                                     interaction.depth=12, \n",
    "                                     shrinkage=0.1,\n",
    "                                     n.minobsinnode=30),\n",
    "                 metric=\"MAE\")\n",
    "\n",
    "print(gbm_model)"
   ]
  },
  {
   "cell_type": "code",
   "execution_count": 22,
   "metadata": {},
   "outputs": [
    {
     "data": {
      "text/html": [
       "0.468541813584086"
      ],
      "text/latex": [
       "0.468541813584086"
      ],
      "text/markdown": [
       "0.468541813584086"
      ],
      "text/plain": [
       "[1] 0.4685418"
      ]
     },
     "metadata": {},
     "output_type": "display_data"
    }
   ],
   "source": [
    "MLmetrics::MAE(y_pred=predict(gbm_model, X_test), y_true=y_test)"
   ]
  },
  {
   "cell_type": "markdown",
   "metadata": {},
   "source": [
    "## Blending solutions together"
   ]
  },
  {
   "cell_type": "code",
   "execution_count": 23,
   "metadata": {},
   "outputs": [],
   "source": [
    "# installing gbm kernlab, if not yet available\n",
    "if (!(\"kernlab\" %in% rownames(installed.packages()))) {\n",
    "    install.packages(\"kernlab\")\n",
    "}"
   ]
  },
  {
   "cell_type": "markdown",
   "metadata": {},
   "source": [
    "In our blend we average (50%-50%) two different models: a gbm and a support vector machine."
   ]
  },
  {
   "cell_type": "code",
   "execution_count": 24,
   "metadata": {},
   "outputs": [
    {
     "name": "stdout",
     "output_type": "stream",
     "text": [
      "Iter   TrainDeviance   ValidDeviance   StepSize   Improve\n",
      "     1        0.7316             nan     0.1000    0.0421\n",
      "     2        0.6920             nan     0.1000    0.0332\n",
      "     3        0.6595             nan     0.1000    0.0285\n",
      "     4        0.6344             nan     0.1000    0.0208\n",
      "     5        0.6118             nan     0.1000    0.0174\n",
      "     6        0.5929             nan     0.1000    0.0157\n",
      "     7        0.5779             nan     0.1000    0.0119\n",
      "     8        0.5627             nan     0.1000    0.0113\n",
      "     9        0.5498             nan     0.1000    0.0093\n",
      "    10        0.5394             nan     0.1000    0.0079\n",
      "    20        0.4733             nan     0.1000    0.0010\n",
      "    40        0.4157             nan     0.1000    0.0005\n",
      "    60        0.3793             nan     0.1000   -0.0008\n",
      "    80        0.3529             nan     0.1000   -0.0007\n",
      "   100        0.3284             nan     0.1000   -0.0017\n",
      "   120        0.3074             nan     0.1000   -0.0012\n",
      "   140        0.2903             nan     0.1000   -0.0008\n",
      "   160        0.2743             nan     0.1000   -0.0007\n",
      "   180        0.2605             nan     0.1000   -0.0012\n",
      "   200        0.2475             nan     0.1000   -0.0009\n",
      "   220        0.2357             nan     0.1000   -0.0008\n",
      "   240        0.2254             nan     0.1000   -0.0005\n",
      "   260        0.2156             nan     0.1000   -0.0006\n",
      "   280        0.2056             nan     0.1000   -0.0006\n",
      "   300        0.1970             nan     0.1000   -0.0005\n",
      "   320        0.1889             nan     0.1000   -0.0010\n",
      "   340        0.1807             nan     0.1000   -0.0009\n",
      "   360        0.1732             nan     0.1000   -0.0005\n",
      "   380        0.1658             nan     0.1000   -0.0005\n",
      "   400        0.1584             nan     0.1000   -0.0006\n",
      "   420        0.1522             nan     0.1000   -0.0005\n",
      "   440        0.1461             nan     0.1000   -0.0004\n",
      "   460        0.1403             nan     0.1000   -0.0005\n",
      "   480        0.1354             nan     0.1000   -0.0005\n",
      "   500        0.1303             nan     0.1000   -0.0006\n",
      "\n",
      "Iter   TrainDeviance   ValidDeviance   StepSize   Improve\n",
      "     1        0.7324             nan     0.1000    0.0390\n",
      "     2        0.6962             nan     0.1000    0.0325\n",
      "     3        0.6656             nan     0.1000    0.0278\n",
      "     4        0.6384             nan     0.1000    0.0216\n",
      "     5        0.6172             nan     0.1000    0.0175\n",
      "     6        0.5970             nan     0.1000    0.0170\n",
      "     7        0.5805             nan     0.1000    0.0141\n",
      "     8        0.5662             nan     0.1000    0.0121\n",
      "     9        0.5539             nan     0.1000    0.0084\n",
      "    10        0.5442             nan     0.1000    0.0054\n",
      "    20        0.4750             nan     0.1000    0.0017\n",
      "    40        0.4133             nan     0.1000   -0.0001\n",
      "    60        0.3775             nan     0.1000   -0.0015\n",
      "    80        0.3507             nan     0.1000   -0.0009\n",
      "   100        0.3256             nan     0.1000   -0.0002\n",
      "   120        0.3059             nan     0.1000   -0.0009\n",
      "   140        0.2879             nan     0.1000   -0.0013\n",
      "   160        0.2719             nan     0.1000   -0.0008\n",
      "   180        0.2566             nan     0.1000   -0.0005\n",
      "   200        0.2434             nan     0.1000   -0.0008\n",
      "   220        0.2315             nan     0.1000   -0.0004\n",
      "   240        0.2209             nan     0.1000   -0.0009\n",
      "   260        0.2108             nan     0.1000   -0.0006\n",
      "   280        0.2012             nan     0.1000   -0.0009\n",
      "   300        0.1919             nan     0.1000   -0.0005\n",
      "   320        0.1841             nan     0.1000   -0.0007\n",
      "   340        0.1769             nan     0.1000   -0.0006\n",
      "   360        0.1696             nan     0.1000   -0.0006\n",
      "   380        0.1623             nan     0.1000   -0.0005\n",
      "   400        0.1556             nan     0.1000   -0.0006\n",
      "   420        0.1500             nan     0.1000   -0.0007\n",
      "   440        0.1438             nan     0.1000   -0.0004\n",
      "   460        0.1385             nan     0.1000   -0.0005\n",
      "   480        0.1336             nan     0.1000   -0.0004\n",
      "   500        0.1286             nan     0.1000   -0.0005\n",
      "\n",
      "Iter   TrainDeviance   ValidDeviance   StepSize   Improve\n",
      "     1        0.7094             nan     0.1000    0.0423\n",
      "     2        0.6714             nan     0.1000    0.0357\n",
      "     3        0.6380             nan     0.1000    0.0299\n",
      "     4        0.6111             nan     0.1000    0.0244\n",
      "     5        0.5898             nan     0.1000    0.0183\n",
      "     6        0.5701             nan     0.1000    0.0157\n",
      "     7        0.5536             nan     0.1000    0.0130\n",
      "     8        0.5389             nan     0.1000    0.0115\n",
      "     9        0.5249             nan     0.1000    0.0103\n",
      "    10        0.5137             nan     0.1000    0.0087\n",
      "    20        0.4415             nan     0.1000    0.0023\n",
      "    40        0.3830             nan     0.1000    0.0005\n",
      "    60        0.3495             nan     0.1000   -0.0002\n",
      "    80        0.3246             nan     0.1000   -0.0012\n",
      "   100        0.3038             nan     0.1000   -0.0009\n",
      "   120        0.2863             nan     0.1000   -0.0007\n",
      "   140        0.2713             nan     0.1000   -0.0007\n",
      "   160        0.2571             nan     0.1000   -0.0004\n",
      "   180        0.2434             nan     0.1000   -0.0010\n",
      "   200        0.2320             nan     0.1000   -0.0008\n",
      "   220        0.2203             nan     0.1000   -0.0009\n",
      "   240        0.2108             nan     0.1000   -0.0007\n",
      "   260        0.2014             nan     0.1000   -0.0007\n",
      "   280        0.1923             nan     0.1000   -0.0007\n",
      "   300        0.1844             nan     0.1000   -0.0006\n",
      "   320        0.1761             nan     0.1000   -0.0006\n",
      "   340        0.1685             nan     0.1000   -0.0007\n",
      "   360        0.1613             nan     0.1000   -0.0005\n",
      "   380        0.1546             nan     0.1000   -0.0004\n",
      "   400        0.1484             nan     0.1000   -0.0004\n",
      "   420        0.1425             nan     0.1000   -0.0005\n",
      "   440        0.1374             nan     0.1000   -0.0005\n",
      "   460        0.1316             nan     0.1000   -0.0008\n",
      "   480        0.1265             nan     0.1000   -0.0005\n",
      "   500        0.1218             nan     0.1000   -0.0004\n",
      "\n",
      "Iter   TrainDeviance   ValidDeviance   StepSize   Improve\n",
      "     1        0.7259             nan     0.1000    0.0395\n",
      "     2        0.6908             nan     0.1000    0.0320\n",
      "     3        0.6596             nan     0.1000    0.0284\n",
      "     4        0.6345             nan     0.1000    0.0220\n",
      "     5        0.6126             nan     0.1000    0.0190\n",
      "     6        0.5949             nan     0.1000    0.0145\n",
      "     7        0.5784             nan     0.1000    0.0153\n",
      "     8        0.5646             nan     0.1000    0.0109\n",
      "     9        0.5516             nan     0.1000    0.0099\n",
      "    10        0.5414             nan     0.1000    0.0076\n",
      "    20        0.4743             nan     0.1000    0.0029\n",
      "    40        0.4185             nan     0.1000    0.0001\n",
      "    60        0.3872             nan     0.1000   -0.0004\n",
      "    80        0.3650             nan     0.1000   -0.0009\n",
      "   100        0.3466             nan     0.1000   -0.0007\n",
      "   120        0.3291             nan     0.1000   -0.0006\n",
      "   140        0.3143             nan     0.1000   -0.0005\n",
      "   160        0.3004             nan     0.1000   -0.0008\n",
      "   180        0.2870             nan     0.1000   -0.0006\n",
      "   200        0.2735             nan     0.1000   -0.0005\n",
      "   220        0.2625             nan     0.1000   -0.0005\n",
      "   240        0.2520             nan     0.1000   -0.0004\n",
      "   260        0.2437             nan     0.1000   -0.0005\n",
      "   280        0.2352             nan     0.1000   -0.0007\n",
      "   300        0.2270             nan     0.1000   -0.0004\n",
      "   320        0.2198             nan     0.1000   -0.0005\n",
      "   340        0.2119             nan     0.1000   -0.0007\n",
      "   360        0.2045             nan     0.1000   -0.0004\n",
      "   380        0.1976             nan     0.1000   -0.0005\n",
      "   400        0.1916             nan     0.1000   -0.0002\n",
      "   420        0.1855             nan     0.1000   -0.0004\n",
      "   440        0.1794             nan     0.1000   -0.0004\n",
      "   460        0.1741             nan     0.1000   -0.0005\n",
      "   480        0.1690             nan     0.1000   -0.0002\n",
      "   500        0.1639             nan     0.1000   -0.0004\n",
      "\n"
     ]
    }
   ],
   "source": [
    "library(caret)\n",
    "library(gbm)\n",
    "\n",
    "gbm_model<-train(X_train, y_train, method=\"gbm\",\n",
    "                 trControl=trainControl(method=\"cv\", number=3),\n",
    "                 tuneGrid=data.frame(n.trees=500, \n",
    "                                     interaction.depth=12, \n",
    "                                     shrinkage=0.1,\n",
    "                                     n.minobsinnode=30),\n",
    "                 metric=\"MAE\")"
   ]
  },
  {
   "cell_type": "code",
   "execution_count": 25,
   "metadata": {},
   "outputs": [
    {
     "name": "stderr",
     "output_type": "stream",
     "text": [
      "\n",
      "Attaching package: 'kernlab'\n",
      "\n",
      "\n",
      "The following object is masked from 'package:ggplot2':\n",
      "\n",
      "    alpha\n",
      "\n",
      "\n"
     ]
    },
    {
     "name": "stdout",
     "output_type": "stream",
     "text": [
      "Support Vector Machines with Radial Basis Function Kernel \n",
      "\n",
      "4547 samples\n",
      "  12 predictor\n",
      "\n",
      "No pre-processing\n",
      "Resampling: Cross-Validated (3 fold) \n",
      "Summary of sample sizes: 3031, 3031, 3032 \n",
      "Resampling results across tuning parameters:\n",
      "\n",
      "  sigma       C     RMSE       Rsquared   MAE      \n",
      "  0.02312148  0.25  0.7211465  0.3247628  0.5594620\n",
      "  0.02312148  0.50  0.7159453  0.3342053  0.5538372\n",
      "  0.02312148  1.00  0.7116715  0.3423323  0.5488639\n",
      "  0.08948082  0.25  0.7032589  0.3583254  0.5375561\n",
      "  0.08948082  0.50  0.6967092  0.3702684  0.5296020\n",
      "  0.08948082  1.00  0.6919387  0.3790266  0.5238594\n",
      "  0.15584016  0.25  0.7011237  0.3628037  0.5314223\n",
      "  0.15584016  0.50  0.6938686  0.3750013  0.5229403\n",
      "  0.15584016  1.00  0.6906146  0.3811155  0.5186656\n",
      "\n",
      "MAE was used to select the optimal model using the smallest value.\n",
      "The final values used for the model were sigma = 0.1558402 and C = 1.\n"
     ]
    }
   ],
   "source": [
    "library(kernlab)\n",
    "\n",
    "svm_model <- train(X_train, y_train, method=\"svmRadialSigma\",\n",
    "                   trControl=trainControl(method=\"cv\", number=3),\n",
    "                   metric=\"MAE\")\n",
    "\n",
    "print(svm_model)"
   ]
  },
  {
   "cell_type": "markdown",
   "metadata": {},
   "source": [
    "predictions are simply summed after having weighted each one. In this case we used the same weight (0.5) but you can test differnt weights for better results. The only important thing is that the sum of the weights should always be 1.0."
   ]
  },
  {
   "cell_type": "code",
   "execution_count": 27,
   "metadata": {},
   "outputs": [],
   "source": [
    "preds <- 0.5 * predict(gbm_model, X_test) + 0.5 * predict(svm_model, X_test)"
   ]
  },
  {
   "cell_type": "code",
   "execution_count": 28,
   "metadata": {},
   "outputs": [
    {
     "data": {
      "text/html": [
       "0.462776471670146"
      ],
      "text/latex": [
       "0.462776471670146"
      ],
      "text/markdown": [
       "0.462776471670146"
      ],
      "text/plain": [
       "[1] 0.4627765"
      ]
     },
     "metadata": {},
     "output_type": "display_data"
    }
   ],
   "source": [
    "MLmetrics::MAE(y_pred=preds, y_true=y_test)"
   ]
  },
  {
   "cell_type": "markdown",
   "metadata": {},
   "source": [
    "## Stacking solutions together"
   ]
  },
  {
   "cell_type": "code",
   "execution_count": 29,
   "metadata": {},
   "outputs": [],
   "source": [
    "# installing SuperLearner library, if not yet available\n",
    "if (!(\"SuperLearner\" %in% rownames(installed.packages()))) {\n",
    "    install.packages(\"SuperLearner\")\n",
    "}"
   ]
  },
  {
   "cell_type": "code",
   "execution_count": 30,
   "metadata": {},
   "outputs": [],
   "source": [
    "# installing extraTrees library, if not yet available\n",
    "if (!(\"extraTrees\" %in% rownames(installed.packages()))) {\n",
    "    install.packages(\"extraTrees\")\n",
    "}"
   ]
  },
  {
   "cell_type": "code",
   "execution_count": 31,
   "metadata": {},
   "outputs": [],
   "source": [
    "# installing xgboost library, if not yet available\n",
    "if (!(\"xgboost\" %in% rownames(installed.packages()))) {\n",
    "    install.packages(\"xgboost\")\n",
    "}"
   ]
  },
  {
   "cell_type": "markdown",
   "metadata": {},
   "source": [
    "Our final model ensembles into a stacking solution extraTrees, an extremely randomized version of RandomForests, a Support Vector Machine and XGBoost, a particularly performant version of gradient boosting (https://xgboost.readthedocs.io/en/latest/)."
   ]
  },
  {
   "cell_type": "code",
   "execution_count": 32,
   "metadata": {},
   "outputs": [
    {
     "name": "stderr",
     "output_type": "stream",
     "text": [
      "Loading required package: nnls\n",
      "\n",
      "Super Learner\n",
      "\n",
      "Version: 2.0-26\n",
      "\n",
      "Package created on 2019-10-27\n",
      "\n",
      "\n",
      "Number of covariates in All is: 12\n",
      "\n",
      "Loading required namespace: extraTrees\n",
      "\n",
      "CV SL.extraTrees_All\n",
      "\n",
      "CV SL.svm_All\n",
      "\n",
      "Loading required namespace: xgboost\n",
      "\n"
     ]
    },
    {
     "name": "stdout",
     "output_type": "stream",
     "text": [
      "[17:14:01] WARNING: amalgamation/../src/objective/regression_obj.cu:174: reg:linear is now deprecated in favor of reg:squarederror.\n"
     ]
    },
    {
     "name": "stderr",
     "output_type": "stream",
     "text": [
      "CV SL.xgboost_All\n",
      "\n",
      "Number of covariates in All is: 12\n",
      "\n",
      "CV SL.extraTrees_All\n",
      "\n",
      "CV SL.svm_All\n",
      "\n"
     ]
    },
    {
     "name": "stdout",
     "output_type": "stream",
     "text": [
      "[17:14:39] WARNING: amalgamation/../src/objective/regression_obj.cu:174: reg:linear is now deprecated in favor of reg:squarederror.\n"
     ]
    },
    {
     "name": "stderr",
     "output_type": "stream",
     "text": [
      "CV SL.xgboost_All\n",
      "\n",
      "Number of covariates in All is: 12\n",
      "\n",
      "CV SL.extraTrees_All\n",
      "\n",
      "CV SL.svm_All\n",
      "\n"
     ]
    },
    {
     "name": "stdout",
     "output_type": "stream",
     "text": [
      "[17:15:09] WARNING: amalgamation/../src/objective/regression_obj.cu:174: reg:linear is now deprecated in favor of reg:squarederror.\n"
     ]
    },
    {
     "name": "stderr",
     "output_type": "stream",
     "text": [
      "CV SL.xgboost_All\n",
      "\n",
      "Number of covariates in All is: 12\n",
      "\n",
      "CV SL.extraTrees_All\n",
      "\n",
      "CV SL.svm_All\n",
      "\n"
     ]
    },
    {
     "name": "stdout",
     "output_type": "stream",
     "text": [
      "[17:15:27] WARNING: amalgamation/../src/objective/regression_obj.cu:174: reg:linear is now deprecated in favor of reg:squarederror.\n"
     ]
    },
    {
     "name": "stderr",
     "output_type": "stream",
     "text": [
      "CV SL.xgboost_All\n",
      "\n",
      "Number of covariates in All is: 12\n",
      "\n",
      "CV SL.extraTrees_All\n",
      "\n",
      "CV SL.svm_All\n",
      "\n"
     ]
    },
    {
     "name": "stdout",
     "output_type": "stream",
     "text": [
      "[17:15:45] WARNING: amalgamation/../src/objective/regression_obj.cu:174: reg:linear is now deprecated in favor of reg:squarederror.\n"
     ]
    },
    {
     "name": "stderr",
     "output_type": "stream",
     "text": [
      "CV SL.xgboost_All\n",
      "\n",
      "Number of covariates in All is: 12\n",
      "\n",
      "CV SL.extraTrees_All\n",
      "\n",
      "CV SL.svm_All\n",
      "\n"
     ]
    },
    {
     "name": "stdout",
     "output_type": "stream",
     "text": [
      "[17:16:02] WARNING: amalgamation/../src/objective/regression_obj.cu:174: reg:linear is now deprecated in favor of reg:squarederror.\n"
     ]
    },
    {
     "name": "stderr",
     "output_type": "stream",
     "text": [
      "CV SL.xgboost_All\n",
      "\n",
      "Number of covariates in All is: 12\n",
      "\n",
      "CV SL.extraTrees_All\n",
      "\n",
      "CV SL.svm_All\n",
      "\n"
     ]
    },
    {
     "name": "stdout",
     "output_type": "stream",
     "text": [
      "[17:16:20] WARNING: amalgamation/../src/objective/regression_obj.cu:174: reg:linear is now deprecated in favor of reg:squarederror.\n"
     ]
    },
    {
     "name": "stderr",
     "output_type": "stream",
     "text": [
      "CV SL.xgboost_All\n",
      "\n",
      "Number of covariates in All is: 12\n",
      "\n",
      "CV SL.extraTrees_All\n",
      "\n",
      "CV SL.svm_All\n",
      "\n"
     ]
    },
    {
     "name": "stdout",
     "output_type": "stream",
     "text": [
      "[17:16:37] WARNING: amalgamation/../src/objective/regression_obj.cu:174: reg:linear is now deprecated in favor of reg:squarederror.\n"
     ]
    },
    {
     "name": "stderr",
     "output_type": "stream",
     "text": [
      "CV SL.xgboost_All\n",
      "\n",
      "Number of covariates in All is: 12\n",
      "\n",
      "CV SL.extraTrees_All\n",
      "\n",
      "CV SL.svm_All\n",
      "\n"
     ]
    },
    {
     "name": "stdout",
     "output_type": "stream",
     "text": [
      "[17:16:55] WARNING: amalgamation/../src/objective/regression_obj.cu:174: reg:linear is now deprecated in favor of reg:squarederror.\n"
     ]
    },
    {
     "name": "stderr",
     "output_type": "stream",
     "text": [
      "CV SL.xgboost_All\n",
      "\n",
      "Number of covariates in All is: 12\n",
      "\n",
      "CV SL.extraTrees_All\n",
      "\n",
      "CV SL.svm_All\n",
      "\n"
     ]
    },
    {
     "name": "stdout",
     "output_type": "stream",
     "text": [
      "[17:17:14] WARNING: amalgamation/../src/objective/regression_obj.cu:174: reg:linear is now deprecated in favor of reg:squarederror.\n"
     ]
    },
    {
     "name": "stderr",
     "output_type": "stream",
     "text": [
      "CV SL.xgboost_All\n",
      "\n",
      "Non-Negative least squares convergence: TRUE\n",
      "\n",
      "full SL.extraTrees_All\n",
      "\n",
      "full SL.svm_All\n",
      "\n"
     ]
    },
    {
     "name": "stdout",
     "output_type": "stream",
     "text": [
      "[17:17:34] WARNING: amalgamation/../src/objective/regression_obj.cu:174: reg:linear is now deprecated in favor of reg:squarederror.\n"
     ]
    },
    {
     "name": "stderr",
     "output_type": "stream",
     "text": [
      "full SL.xgboost_All\n",
      "\n"
     ]
    }
   ],
   "source": [
    "library(SuperLearner)\n",
    "\n",
    "SL.library <- c(\"SL.extraTrees\", \"SL.svm\", \"SL.xgboost\")\n",
    "stacked_ensemble <- SuperLearner(Y=y_train, X=X_train, newX=X_test, SL.library=SL.library,\n",
    "                                 verbose=TRUE, family='gaussian', method=\"method.NNLS\")"
   ]
  },
  {
   "cell_type": "code",
   "execution_count": 33,
   "metadata": {},
   "outputs": [
    {
     "data": {
      "text/html": [
       "0.412748099181892"
      ],
      "text/latex": [
       "0.412748099181892"
      ],
      "text/markdown": [
       "0.412748099181892"
      ],
      "text/plain": [
       "[1] 0.4127481"
      ]
     },
     "metadata": {},
     "output_type": "display_data"
    }
   ],
   "source": [
    "MLmetrics::MAE(y_pred=stacked_ensemble$SL.predict, y_true=y_test)"
   ]
  }
 ],
 "metadata": {
  "kernelspec": {
   "display_name": "R",
   "language": "R",
   "name": "ir"
  },
  "language_info": {
   "codemirror_mode": "r",
   "file_extension": ".r",
   "mimetype": "text/x-r-source",
   "name": "R",
   "pygments_lexer": "r",
   "version": "4.0.2"
  }
 },
 "nbformat": 4,
 "nbformat_minor": 4
}
