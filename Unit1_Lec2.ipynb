{
 "cells": [
  {
   "cell_type": "markdown",
   "id": "b513ff61-4474-4328-a694-7f53850ccf68",
   "metadata": {},
   "source": [
    "# Unit 1: Python Basics"
   ]
  },
  {
   "cell_type": "markdown",
   "id": "66a11890-259b-4bb1-80c0-0a8807d9a505",
   "metadata": {},
   "source": [
    "## Lecture 2: Core Elements of Programs"
   ]
  },
  {
   "cell_type": "markdown",
   "id": "b6ea99d3-7db8-41aa-8f22-dc9075a4173b",
   "metadata": {},
   "source": [
    "### Bindings"
   ]
  },
  {
   "cell_type": "code",
   "execution_count": 2,
   "id": "4b2d3be5-ef4a-42e3-a24f-cd64684ca5d7",
   "metadata": {},
   "outputs": [
    {
     "data": {
      "text/plain": [
       "5"
      ]
     },
     "execution_count": 2,
     "metadata": {},
     "output_type": "execute_result"
    }
   ],
   "source": [
    "# Binding example 1\n",
    "x = 2\n",
    "x = x*x     # Compute value first, then bind it to variable name; this will overwrite value of x\n",
    "y = x + 1\n",
    "y"
   ]
  },
  {
   "cell_type": "code",
   "execution_count": 4,
   "id": "3e8c8669-eb79-45cc-be05-ed7b6133b678",
   "metadata": {},
   "outputs": [
    {
     "name": "stdout",
     "output_type": "stream",
     "text": [
      "x is 1 before, but it is now 2\n",
      "y is 2 before, but it is now 1\n"
     ]
    }
   ],
   "source": [
    "# Binding example 2: Swap variables\n",
    "x = 1\n",
    "y = 2\n",
    "temp = y\n",
    "y = x\n",
    "x = temp\n",
    "print(\"x is 1 before, but it is now\", x)\n",
    "print(\"y is 2 before, but it is now\", y)"
   ]
  },
  {
   "cell_type": "markdown",
   "id": "7c368b9d-99c6-4cc7-8afd-33273ccd86ca",
   "metadata": {},
   "source": [
    "### Strings"
   ]
  },
  {
   "cell_type": "markdown",
   "id": "992f127a-aceb-4a7f-8081-bfcbfa352407",
   "metadata": {},
   "source": [
    "**Operations on strings**"
   ]
  },
  {
   "cell_type": "code",
   "execution_count": 7,
   "id": "d872448a-500a-4196-a4f7-2c4e184d3fa8",
   "metadata": {},
   "outputs": [
    {
     "data": {
      "text/plain": [
       "'abcd'"
      ]
     },
     "execution_count": 7,
     "metadata": {},
     "output_type": "execute_result"
    }
   ],
   "source": [
    "'ab' + 'cd'        # concatenation"
   ]
  },
  {
   "cell_type": "code",
   "execution_count": 8,
   "id": "a2a6616f-10e3-486c-816a-6ceb1c35bd61",
   "metadata": {},
   "outputs": [
    {
     "data": {
      "text/plain": [
       "'ericericeric'"
      ]
     },
     "execution_count": 8,
     "metadata": {},
     "output_type": "execute_result"
    }
   ],
   "source": [
    "3 * 'eric'         # successive concatenation"
   ]
  },
  {
   "cell_type": "code",
   "execution_count": 10,
   "id": "9045b456-76ad-4408-970b-e0cd8c98fa48",
   "metadata": {},
   "outputs": [
    {
     "data": {
      "text/plain": [
       "4"
      ]
     },
     "execution_count": 10,
     "metadata": {},
     "output_type": "execute_result"
    }
   ],
   "source": [
    "len('eric')        # the length"
   ]
  },
  {
   "cell_type": "code",
   "execution_count": 14,
   "id": "21a51ed9-7741-4e3d-ad4b-1ecf6e08577b",
   "metadata": {},
   "outputs": [
    {
     "data": {
      "text/plain": [
       "'r'"
      ]
     },
     "execution_count": 14,
     "metadata": {},
     "output_type": "execute_result"
    }
   ],
   "source": [
    "'eric'[1]          # indexing; begins with index 0; attempting to index beyond length is an error"
   ]
  },
  {
   "cell_type": "code",
   "execution_count": 16,
   "id": "c2316157-22e4-4787-ab16-dca8796260d1",
   "metadata": {},
   "outputs": [
    {
     "data": {
      "text/plain": [
       "'ri'"
      ]
     },
     "execution_count": 16,
     "metadata": {},
     "output_type": "execute_result"
    }
   ],
   "source": [
    "'eric'[1:3]        # slicing; extracts sequence starting at first index, and ending before second index\n",
    "                   # if no value before :, start at 0; if no value after :, end at length; if just:, make a copy of entire sequence"
   ]
  },
  {
   "cell_type": "markdown",
   "id": "434ebc16-e5ec-4800-bedd-62e538ad1dd6",
   "metadata": {},
   "source": [
    "**Advanced String Slicing**\n",
    "\n",
    "You've seen in lecture that you can slice a string with a call such as `s[i:j]`, which gives you a portion of string `s` from index `i` to index `j-1`. However this is not the only way to slice a string! If you omit the starting index, Python will assume that you wish to start your slice at index 0. If you omit the ending index, Python will assume you wish to end your slice at the end of the string. Check out this session with the Python shell:"
   ]
  },
  {
   "cell_type": "code",
   "execution_count": 17,
   "id": "d935fb84-2c35-42e4-88b3-adc047e56419",
   "metadata": {},
   "outputs": [
    {
     "data": {
      "text/plain": [
       "'ytho'"
      ]
     },
     "execution_count": 17,
     "metadata": {},
     "output_type": "execute_result"
    }
   ],
   "source": [
    "s = 'Python is Fun!'\n",
    "s[1:5]"
   ]
  },
  {
   "cell_type": "code",
   "execution_count": 18,
   "id": "4700a21b-21d4-4196-9000-eac251ca6dea",
   "metadata": {},
   "outputs": [
    {
     "data": {
      "text/plain": [
       "'Pytho'"
      ]
     },
     "execution_count": 18,
     "metadata": {},
     "output_type": "execute_result"
    }
   ],
   "source": [
    "s[:5]"
   ]
  },
  {
   "cell_type": "code",
   "execution_count": 19,
   "id": "b694fc3d-dfc5-4aaa-8224-d6022d4cf0c2",
   "metadata": {},
   "outputs": [
    {
     "data": {
      "text/plain": [
       "'ython is Fun!'"
      ]
     },
     "execution_count": 19,
     "metadata": {},
     "output_type": "execute_result"
    }
   ],
   "source": [
    "s[1:]"
   ]
  },
  {
   "cell_type": "code",
   "execution_count": 20,
   "id": "c6a62330-8f49-48c5-aa90-0c3f2e7189c9",
   "metadata": {},
   "outputs": [
    {
     "data": {
      "text/plain": [
       "'Python is Fun!'"
      ]
     },
     "execution_count": 20,
     "metadata": {},
     "output_type": "execute_result"
    }
   ],
   "source": [
    "s[:]"
   ]
  },
  {
   "cell_type": "markdown",
   "id": "5020be4d-9aee-4332-aad5-13392999b63c",
   "metadata": {},
   "source": [
    "That last example is interesting! If you omit both the start and ending index, you see your original string!\n",
    "\n",
    "There's one other cool thing you can do with string slicing. You can add a third parameter, `k`, like this: `s[i:j:k]`. This gives a slice of the string `s` from index `i` to index `j-1`, with step size `k`. Check out the following examples:"
   ]
  },
  {
   "cell_type": "code",
   "execution_count": 21,
   "id": "2a205af2-42a1-42c5-8579-bdf6abc33cc7",
   "metadata": {},
   "outputs": [
    {
     "data": {
      "text/plain": [
       "'yhni u'"
      ]
     },
     "execution_count": 21,
     "metadata": {},
     "output_type": "execute_result"
    }
   ],
   "source": [
    "s[1:12:2]"
   ]
  },
  {
   "cell_type": "code",
   "execution_count": 22,
   "id": "6f7b5755-b271-4347-8674-899dd1d2b153",
   "metadata": {},
   "outputs": [
    {
     "data": {
      "text/plain": [
       "'yoiF'"
      ]
     },
     "execution_count": 22,
     "metadata": {},
     "output_type": "execute_result"
    }
   ],
   "source": [
    "s[1:12:3]"
   ]
  },
  {
   "cell_type": "code",
   "execution_count": 23,
   "id": "3c8b37d1-e764-45ec-b101-bf8b8c4cde30",
   "metadata": {},
   "outputs": [
    {
     "data": {
      "text/plain": [
       "'Pto sFn'"
      ]
     },
     "execution_count": 23,
     "metadata": {},
     "output_type": "execute_result"
    }
   ],
   "source": [
    "s[::2]"
   ]
  },
  {
   "cell_type": "markdown",
   "id": "577a335f-1f2c-4da9-842b-2da60c3d0100",
   "metadata": {},
   "source": [
    "The last example is similar to the example `s[:]`. With `s[::2]`, we're asking for the full string `s` (from index 0 through 13), with a step size of 2 - so we end up with every other character in `s`."
   ]
  },
  {
   "cell_type": "markdown",
   "id": "d04fcedd-5c7c-498d-8f6b-f5ecb4278eca",
   "metadata": {},
   "source": [
    "**The Python 'in' operator**\n",
    "\n",
    "The operators `in` and `not in` test for collection membership (a 'collection' refers to a string, list, tuple or dictionary - don't worry, we will cover lists, tuples and dictionaries soon!). The expression\n",
    "\n",
    "```Python\n",
    "element in coll\n",
    "```\n",
    "evaluates to `True` if `element` is a member of the collection `coll`, and `False` otherwise.\n",
    "\n",
    "The expression\n",
    "\n",
    "```Python\n",
    "element not in coll\n",
    "```\n",
    "evaluates to `True` if `element` is **not** a member of the collection `coll`, and `False` otherwise.\n",
    "\n",
    "Note this returns the negation of `element in coll` - that is, the expression `element not in coll` is equivalent to the expression `not (element in coll)`."
   ]
  },
  {
   "cell_type": "code",
   "execution_count": 24,
   "id": "1e820650-fd13-4424-b8f0-915ef0086663",
   "metadata": {},
   "outputs": [],
   "source": [
    "str1 = 'hello'\n",
    "str2 = ','\n",
    "str3 = 'world'"
   ]
  },
  {
   "cell_type": "code",
   "execution_count": 25,
   "id": "96b318bd-52a0-413f-aa4f-0927625b5c0f",
   "metadata": {},
   "outputs": [
    {
     "data": {
      "text/plain": [
       "False"
      ]
     },
     "execution_count": 25,
     "metadata": {},
     "output_type": "execute_result"
    }
   ],
   "source": [
    "'a' in str3"
   ]
  },
  {
   "cell_type": "code",
   "execution_count": 26,
   "id": "f7deab1c-382c-4b69-bc47-42d04ac91d4f",
   "metadata": {},
   "outputs": [
    {
     "data": {
      "text/plain": [
       "True"
      ]
     },
     "execution_count": 26,
     "metadata": {},
     "output_type": "execute_result"
    }
   ],
   "source": [
    "str4 = str1 + str3\n",
    "'low' in str4"
   ]
  },
  {
   "cell_type": "code",
   "execution_count": null,
   "id": "dae88d49-c5bd-4143-9caa-6204a841579b",
   "metadata": {},
   "outputs": [],
   "source": []
  }
 ],
 "metadata": {
  "kernelspec": {
   "display_name": "Python 3 (ipykernel)",
   "language": "python",
   "name": "python3"
  },
  "language_info": {
   "codemirror_mode": {
    "name": "ipython",
    "version": 3
   },
   "file_extension": ".py",
   "mimetype": "text/x-python",
   "name": "python",
   "nbconvert_exporter": "python",
   "pygments_lexer": "ipython3",
   "version": "3.9.5"
  }
 },
 "nbformat": 4,
 "nbformat_minor": 5
}
