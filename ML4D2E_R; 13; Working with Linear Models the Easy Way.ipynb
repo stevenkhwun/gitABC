{
 "cells": [
  {
   "cell_type": "markdown",
   "metadata": {},
   "source": [
    "# Solving with a Machine Learning Approach"
   ]
  },
  {
   "cell_type": "code",
   "execution_count": 1,
   "metadata": {},
   "outputs": [],
   "source": [
    "# installing MLmetrics library, if not yet available\n",
    "if (!(\"MLmetrics\" %in% rownames(installed.packages()))) {\n",
    "    install.packages(\"MLmetrics\")\n",
    "}"
   ]
  },
  {
   "cell_type": "markdown",
   "metadata": {},
   "source": [
    "MLmetrics is a collection of evaluation metrics : https://github.com/yanyachen/MLmetrics"
   ]
  },
  {
   "cell_type": "markdown",
   "metadata": {},
   "source": [
    "We collect the Boston dataset from the MASS library. Sampling the indexes of the training and test sets allows separating the data and shuffling it at the same time."
   ]
  },
  {
   "cell_type": "code",
   "execution_count": 2,
   "metadata": {},
   "outputs": [
    {
     "name": "stderr",
     "output_type": "stream",
     "text": [
      "\n",
      "Attaching package: 'MLmetrics'\n",
      "\n",
      "\n",
      "The following object is masked from 'package:base':\n",
      "\n",
      "    Recall\n",
      "\n",
      "\n"
     ]
    }
   ],
   "source": [
    "library(MASS)\n",
    "library(MLmetrics )\n",
    "\n",
    "y <- Boston$medv\n",
    "X <- as.data.frame(scale(Boston[,-dim(Boston)[2]]))\n",
    "\n",
    "# Splitting the data frame into train and test sets\n",
    "set.seed(42)\n",
    "sample_size <- floor(0.8 * nrow(X))\n",
    "train_idx <- sample(seq_len(nrow(X)), size = sample_size)\n",
    "\n",
    "X_train <- X[train_idx,]\n",
    "y_train <- y[train_idx]\n",
    "X_test  <- X[-train_idx,]\n",
    "y_test  <- y[-train_idx]"
   ]
  },
  {
   "cell_type": "markdown",
   "metadata": {},
   "source": [
    "A linear regression can be made using the lm command. You express the formula as y ~ X and as for as the predictors you can use the fulls stop to indicate that you want to use them all. The parameter data in this case points out to all the predictors."
   ]
  },
  {
   "cell_type": "markdown",
   "metadata": {},
   "source": [
    "Using the summary command on the linear regression model you can obtain informations on the coefficients (with some statistical test) and the Multiple R-squared on the training data."
   ]
  },
  {
   "cell_type": "code",
   "execution_count": 3,
   "metadata": {},
   "outputs": [
    {
     "data": {
      "text/plain": [
       "\n",
       "Call:\n",
       "lm(formula = y_train ~ ., data = X_train)\n",
       "\n",
       "Residuals:\n",
       "     Min       1Q   Median       3Q      Max \n",
       "-14.4221  -2.7174  -0.5463   1.5167  25.7788 \n",
       "\n",
       "Coefficients:\n",
       "              Estimate Std. Error t value Pr(>|t|)    \n",
       "(Intercept) 22.5180340  0.2373082  94.889  < 2e-16 ***\n",
       "crim        -1.0160865  0.2902853  -3.500 0.000518 ***\n",
       "zn           0.8238446  0.3729610   2.209 0.027760 *  \n",
       "indus       -0.0006126  0.4726326  -0.001 0.998966    \n",
       "chas         0.4940737  0.2533316   1.950 0.051856 .  \n",
       "nox         -1.9873529  0.4934101  -4.028 6.77e-05 ***\n",
       "rm           2.4883216  0.3191494   7.797 5.85e-14 ***\n",
       "age         -0.0919388  0.4156636  -0.221 0.825064    \n",
       "dis         -3.0142793  0.4833878  -6.236 1.17e-09 ***\n",
       "rad          2.6393915  0.6457811   4.087 5.30e-05 ***\n",
       "tax         -1.8776975  0.7123308  -2.636 0.008724 ** \n",
       "ptratio     -2.1300916  0.3209767  -6.636 1.08e-10 ***\n",
       "black        0.7524355  0.2808059   2.680 0.007684 ** \n",
       "lstat       -3.7906187  0.3937595  -9.627  < 2e-16 ***\n",
       "---\n",
       "Signif. codes:  0 '***' 0.001 '**' 0.01 '*' 0.05 '.' 0.1 ' ' 1\n",
       "\n",
       "Residual standard error: 4.752 on 390 degrees of freedom\n",
       "Multiple R-squared:  0.726,\tAdjusted R-squared:  0.7169 \n",
       "F-statistic: 79.51 on 13 and 390 DF,  p-value: < 2.2e-16\n"
      ]
     },
     "metadata": {},
     "output_type": "display_data"
    }
   ],
   "source": [
    "model <- lm(y_train ~ ., data=X_train)\n",
    "summary(model)"
   ]
  },
  {
   "cell_type": "markdown",
   "metadata": {},
   "source": [
    "## Understanding R Squared"
   ]
  },
  {
   "cell_type": "markdown",
   "metadata": {},
   "source": [
    "R2_Score is the command from MLmetrics that computes the coefficient of determination."
   ]
  },
  {
   "cell_type": "code",
   "execution_count": 4,
   "metadata": {},
   "outputs": [
    {
     "data": {
      "text/html": [
       "0.726045520766555"
      ],
      "text/latex": [
       "0.726045520766555"
      ],
      "text/markdown": [
       "0.726045520766555"
      ],
      "text/plain": [
       "[1] 0.7260455"
      ]
     },
     "metadata": {},
     "output_type": "display_data"
    }
   ],
   "source": [
    "# Train R2\n",
    "R2_Score(y_pred=model$fitted.values, y_true=y_train)"
   ]
  },
  {
   "cell_type": "code",
   "execution_count": 5,
   "metadata": {},
   "outputs": [
    {
     "data": {
      "text/html": [
       "0.776746129814943"
      ],
      "text/latex": [
       "0.776746129814943"
      ],
      "text/markdown": [
       "0.776746129814943"
      ],
      "text/plain": [
       "[1] 0.7767461"
      ]
     },
     "metadata": {},
     "output_type": "display_data"
    }
   ],
   "source": [
    "# Test R2\n",
    "R2_Score(y_pred=predict(model, X_test), y_true=y_test)"
   ]
  },
  {
   "cell_type": "markdown",
   "metadata": {},
   "source": [
    "The attribute coefficients in your linear regression model specifically contains the regression coefficients."
   ]
  },
  {
   "cell_type": "code",
   "execution_count": 6,
   "metadata": {},
   "outputs": [
    {
     "name": "stdout",
     "output_type": "stream",
     "text": [
      " (Intercept)         crim           zn        indus         chas          nox \n",
      "22.518033996 -1.016086468  0.823844630 -0.000612643  0.494073726 -1.987352913 \n",
      "          rm          age          dis          rad          tax      ptratio \n",
      " 2.488321619 -0.091938832 -3.014279284  2.639391489 -1.877697488 -2.130091580 \n",
      "       black        lstat \n",
      " 0.752435546 -3.790618674 \n"
     ]
    }
   ],
   "source": [
    "# Printing linear regression coefficients\n",
    "print(model$coefficients)"
   ]
  },
  {
   "cell_type": "markdown",
   "metadata": {},
   "source": [
    "## Mixing Variables of Different Types"
   ]
  },
  {
   "cell_type": "markdown",
   "metadata": {},
   "source": [
    "If you want to compute interactions for your model, you just have to ^2 your coefficient. If you use .^2 you imply a model with all the variables and their second degree interactions (i.e. power+noise+power\\*noise). In the same way you can obtain even interactions of higher level (i.e. .^3 or .^4)."
   ]
  },
  {
   "cell_type": "code",
   "execution_count": 7,
   "metadata": {},
   "outputs": [
    {
     "data": {
      "text/plain": [
       "\n",
       "Call:\n",
       "lm(formula = y_train ~ .^2, data = X_train)\n",
       "\n",
       "Residuals:\n",
       "    Min      1Q  Median      3Q     Max \n",
       "-8.1826 -1.6348 -0.1756  1.4451 16.8911 \n",
       "\n",
       "Coefficients:\n",
       "               Estimate Std. Error t value Pr(>|t|)    \n",
       "(Intercept)    34.09464    7.69895   4.428 1.31e-05 ***\n",
       "crim           34.39026   19.10376   1.800 0.072798 .  \n",
       "zn             28.45051   17.06093   1.668 0.096402 .  \n",
       "indus          -1.14870   12.10215  -0.095 0.924442    \n",
       "chas            1.39927    0.59310   2.359 0.018929 *  \n",
       "nox            -2.05182    0.82987  -2.472 0.013951 *  \n",
       "rm              3.87065    0.33363  11.602  < 2e-16 ***\n",
       "age            -2.33473    0.51152  -4.564 7.22e-06 ***\n",
       "dis            -4.09742    0.90003  -4.553 7.61e-06 ***\n",
       "rad           -21.02338   20.07325  -1.047 0.295757    \n",
       "tax            20.01410   28.60861   0.700 0.484709    \n",
       "ptratio         5.06309    3.08021   1.644 0.101235    \n",
       "black           2.33395    0.94912   2.459 0.014473 *  \n",
       "lstat          -2.91265    0.48388  -6.019 4.91e-09 ***\n",
       "crim:zn        73.93425   42.34744   1.746 0.081813 .  \n",
       "crim:indus      4.47478   30.26288   0.148 0.882546    \n",
       "crim:chas       4.36123    1.49710   2.913 0.003837 ** \n",
       "crim:nox       -0.95596    1.03449  -0.924 0.356152    \n",
       "crim:rm         1.32814    0.32272   4.115 4.95e-05 ***\n",
       "crim:age       -1.14203    1.01551  -1.125 0.261630    \n",
       "crim:dis       -3.19008    2.14126  -1.490 0.137284    \n",
       "crim:rad      -56.17434   49.59349  -1.133 0.258212    \n",
       "crim:tax       48.62806   70.55949   0.689 0.491223    \n",
       "crim:ptratio   15.02855    8.08071   1.860 0.063854 .  \n",
       "crim:black     -0.37849    0.15674  -2.415 0.016317 *  \n",
       "crim:lstat      2.07303    0.45422   4.564 7.23e-06 ***\n",
       "zn:indus       -0.17824    0.92805  -0.192 0.847821    \n",
       "zn:chas        -0.15168    0.48569  -0.312 0.755032    \n",
       "zn:nox         -0.90324    1.66809  -0.541 0.588562    \n",
       "zn:rm          -0.05770    0.55670  -0.104 0.917510    \n",
       "zn:age          0.29843    0.70378   0.424 0.671833    \n",
       "zn:dis          0.22203    0.50758   0.437 0.662097    \n",
       "zn:rad         -1.18213    1.90753  -0.620 0.535896    \n",
       "zn:tax          2.05501    0.88381   2.325 0.020704 *  \n",
       "zn:ptratio     -0.12330    0.48199  -0.256 0.798266    \n",
       "zn:black       -0.12824    1.90887  -0.067 0.946480    \n",
       "zn:lstat       -2.03127    0.94125  -2.158 0.031687 *  \n",
       "indus:chas     -0.10187    0.80305  -0.127 0.899135    \n",
       "indus:nox       1.69590    1.45376   1.167 0.244277    \n",
       "indus:rm        1.83808    0.79891   2.301 0.022066 *  \n",
       "indus:age      -0.15137    0.85683  -0.177 0.859886    \n",
       "indus:dis      -1.02567    1.10923  -0.925 0.355853    \n",
       "indus:rad      -5.52148    3.84961  -1.434 0.152489    \n",
       "indus:tax       0.79653    0.88519   0.900 0.368900    \n",
       "indus:ptratio  -0.55743    0.73311  -0.760 0.447611    \n",
       "indus:black     1.50088    1.50635   0.996 0.319842    \n",
       "indus:lstat     0.21961    0.85504   0.257 0.797467    \n",
       "chas:nox       -0.55798    0.48733  -1.145 0.253097    \n",
       "chas:rm        -0.94676    0.26090  -3.629 0.000333 ***\n",
       "chas:age        0.44542    0.51875   0.859 0.391198    \n",
       "chas:dis        1.24411    0.97734   1.273 0.203983    \n",
       "chas:rad       -0.96480    1.50105  -0.643 0.520857    \n",
       "chas:tax        0.98382    1.83785   0.535 0.592817    \n",
       "chas:ptratio   -0.29738    0.46679  -0.637 0.524539    \n",
       "chas:black      0.72878    0.50090   1.455 0.146687    \n",
       "chas:lstat     -0.67274    0.46737  -1.439 0.151034    \n",
       "nox:rm          0.54458    0.54692   0.996 0.320159    \n",
       "nox:age        -2.60082    0.94339  -2.757 0.006179 ** \n",
       "nox:dis         1.36478    1.11296   1.226 0.221028    \n",
       "nox:rad        -0.06378    2.52009  -0.025 0.979825    \n",
       "nox:tax         0.04164    3.30945   0.013 0.989969    \n",
       "nox:ptratio    -1.70233    1.00494  -1.694 0.091269 .  \n",
       "nox:black      -0.26810    0.51623  -0.519 0.603884    \n",
       "nox:lstat       1.47024    0.64886   2.266 0.024142 *  \n",
       "rm:age         -1.40340    0.54176  -2.590 0.010036 *  \n",
       "rm:dis          0.36905    0.61268   0.602 0.547378    \n",
       "rm:rad         -0.62758    1.14289  -0.549 0.583319    \n",
       "rm:tax         -2.86265    1.46693  -1.951 0.051898 .  \n",
       "rm:ptratio     -0.47020    0.41999  -1.120 0.263772    \n",
       "rm:black       -0.44680    0.25193  -1.774 0.077119 .  \n",
       "rm:lstat       -1.39525    0.25669  -5.435 1.10e-07 ***\n",
       "age:dis        -1.47485    0.65722  -2.244 0.025529 *  \n",
       "age:rad         3.11812    1.29071   2.416 0.016274 *  \n",
       "age:tax        -1.19924    1.27139  -0.943 0.346285    \n",
       "age:ptratio    -0.22113    0.53767  -0.411 0.681155    \n",
       "age:black      -2.54979    0.74920  -3.403 0.000753 ***\n",
       "age:lstat      -1.66143    0.47888  -3.469 0.000595 ***\n",
       "dis:rad        -1.62072    1.78409  -0.908 0.364352    \n",
       "dis:tax        -1.08631    1.35557  -0.801 0.423530    \n",
       "dis:ptratio    -0.15865    0.59114  -0.268 0.788585    \n",
       "dis:black      -1.29262    1.27578  -1.013 0.311748    \n",
       "dis:lstat       2.30251    0.87064   2.645 0.008592 ** \n",
       "rad:tax         2.68574    2.66924   1.006 0.315107    \n",
       "rad:ptratio    -0.22074    2.07979  -0.106 0.915542    \n",
       "rad:black       1.64092    2.46506   0.666 0.506112    \n",
       "rad:lstat      -1.12954    1.33677  -0.845 0.398771    \n",
       "tax:ptratio     2.88965    1.22255   2.364 0.018710 *  \n",
       "tax:black      -3.49231    3.87060  -0.902 0.367612    \n",
       "tax:lstat      -2.46311    1.73019  -1.424 0.155558    \n",
       "ptratio:black   0.60581    0.84403   0.718 0.473440    \n",
       "ptratio:lstat   0.33670    0.55142   0.611 0.541901    \n",
       "black:lstat    -0.06882    0.34343  -0.200 0.841302    \n",
       "---\n",
       "Signif. codes:  0 '***' 0.001 '**' 0.01 '*' 0.05 '.' 0.1 ' ' 1\n",
       "\n",
       "Residual standard error: 3.003 on 312 degrees of freedom\n",
       "Multiple R-squared:  0.9125,\tAdjusted R-squared:  0.8869 \n",
       "F-statistic: 35.74 on 91 and 312 DF,  p-value: < 2.2e-16\n"
      ]
     },
     "metadata": {},
     "output_type": "display_data"
    }
   ],
   "source": [
    "model <- lm(y_train ~ .^2, data=X_train)\n",
    "summary(model)"
   ]
  },
  {
   "cell_type": "code",
   "execution_count": 8,
   "metadata": {},
   "outputs": [
    {
     "data": {
      "text/html": [
       "0.912472450198419"
      ],
      "text/latex": [
       "0.912472450198419"
      ],
      "text/markdown": [
       "0.912472450198419"
      ],
      "text/plain": [
       "[1] 0.9124725"
      ]
     },
     "metadata": {},
     "output_type": "display_data"
    }
   ],
   "source": [
    "# Train R2\n",
    "R2_Score(y_pred=model$fitted.values, y_true=y_train)"
   ]
  },
  {
   "cell_type": "code",
   "execution_count": 9,
   "metadata": {},
   "outputs": [
    {
     "data": {
      "text/html": [
       "0.923092132923375"
      ],
      "text/latex": [
       "0.923092132923375"
      ],
      "text/markdown": [
       "0.923092132923375"
      ],
      "text/plain": [
       "[1] 0.9230921"
      ]
     },
     "metadata": {},
     "output_type": "display_data"
    }
   ],
   "source": [
    "# Test R2\n",
    "R2_Score(y_pred=predict(model, X_test), y_true=y_test)"
   ]
  },
  {
   "cell_type": "markdown",
   "metadata": {},
   "source": [
    "# Switching to Probabilities"
   ]
  },
  {
   "cell_type": "code",
   "execution_count": 10,
   "metadata": {},
   "outputs": [],
   "source": [
    "y_train_lr <- y_train >= 35\n",
    "y_test_lr  <- y_test >= 35"
   ]
  },
  {
   "cell_type": "markdown",
   "metadata": {},
   "source": [
    "If you want a logistic regression, not only your target should be a factor, but you have to use the glm function with the family parameter set to binomial(link=\"logit\"). There are no other differences from linear regression."
   ]
  },
  {
   "cell_type": "code",
   "execution_count": 11,
   "metadata": {},
   "outputs": [
    {
     "data": {
      "text/plain": [
       "\n",
       "Call:\n",
       "glm(formula = y_train_lr ~ ., family = binomial(link = \"logit\"), \n",
       "    data = X_train)\n",
       "\n",
       "Deviance Residuals: \n",
       "     Min        1Q    Median        3Q       Max  \n",
       "-1.93597  -0.11311  -0.02046  -0.00305   2.79536  \n",
       "\n",
       "Coefficients:\n",
       "            Estimate Std. Error z value Pr(>|z|)    \n",
       "(Intercept) -7.48096    1.36412  -5.484 4.16e-08 ***\n",
       "crim         0.51510    0.46663   1.104   0.2697    \n",
       "zn          -0.02774    0.33596  -0.083   0.9342    \n",
       "indus       -0.10544    0.69727  -0.151   0.8798    \n",
       "chas        -0.12131    0.26285  -0.462   0.6444    \n",
       "nox         -0.61587    0.91744  -0.671   0.5020    \n",
       "rm           0.96487    0.37732   2.557   0.0106 *  \n",
       "age          0.47733    0.59735   0.799   0.4242    \n",
       "dis         -0.76247    0.65630  -1.162   0.2453    \n",
       "rad          2.99503    1.27302   2.353   0.0186 *  \n",
       "tax         -2.03824    1.20462  -1.692   0.0906 .  \n",
       "ptratio     -0.93921    0.45413  -2.068   0.0386 *  \n",
       "black        0.58575    1.37814   0.425   0.6708    \n",
       "lstat       -5.00995    1.19993  -4.175 2.98e-05 ***\n",
       "---\n",
       "Signif. codes:  0 '***' 0.001 '**' 0.01 '*' 0.05 '.' 0.1 ' ' 1\n",
       "\n",
       "(Dispersion parameter for binomial family taken to be 1)\n",
       "\n",
       "    Null deviance: 247.400  on 403  degrees of freedom\n",
       "Residual deviance:  83.891  on 390  degrees of freedom\n",
       "AIC: 111.89\n",
       "\n",
       "Number of Fisher Scoring iterations: 10\n"
      ]
     },
     "metadata": {},
     "output_type": "display_data"
    }
   ],
   "source": [
    "lr_model <- glm(y_train_lr ~ ., data=X_train, family=binomial(link=\"logit\"))\n",
    "summary(lr_model)"
   ]
  },
  {
   "cell_type": "markdown",
   "metadata": {},
   "source": [
    "Note: you don't have R squared anymore because it doesn't make sense in the logistic regression. You have instead to use other measures such as accuracy."
   ]
  },
  {
   "cell_type": "code",
   "execution_count": 12,
   "metadata": {},
   "outputs": [
    {
     "data": {
      "text/html": [
       "0.952970297029703"
      ],
      "text/latex": [
       "0.952970297029703"
      ],
      "text/markdown": [
       "0.952970297029703"
      ],
      "text/plain": [
       "[1] 0.9529703"
      ]
     },
     "metadata": {},
     "output_type": "display_data"
    }
   ],
   "source": [
    "# Train Accuracy\n",
    "proba <- predict(lr_model, X_train, type='response')\n",
    "preds <- ifelse(proba>0.5, 1, 0)\n",
    "Accuracy(y_pred=preds, y_true=y_train_lr)"
   ]
  },
  {
   "cell_type": "code",
   "execution_count": 13,
   "metadata": {},
   "outputs": [
    {
     "data": {
      "text/html": [
       "0.970588235294118"
      ],
      "text/latex": [
       "0.970588235294118"
      ],
      "text/markdown": [
       "0.970588235294118"
      ],
      "text/plain": [
       "[1] 0.9705882"
      ]
     },
     "metadata": {},
     "output_type": "display_data"
    }
   ],
   "source": [
    "# Test Accuracy\n",
    "proba <- predict(lr_model, X_test, type='response')\n",
    "preds <- ifelse(proba>0.5, 1, 0)\n",
    "Accuracy(y_pred=preds, y_true=y_test_lr)"
   ]
  },
  {
   "cell_type": "markdown",
   "metadata": {},
   "source": [
    "## Defining the outcome of features that don’t work together"
   ]
  },
  {
   "cell_type": "markdown",
   "metadata": {},
   "source": [
    "In the following example you repeat the same linear regression model multiple times, each time adding some extra random noise to both the train and test sets. The more noise you had, the better the trianing fit but the worse the prediciton performances. The same happens also in the real world as you had more features to your model. Always test if they are really adding value or just noise by testing on a validation set (testing on the test set will equate to snooping, something that won't work as much well in the future)."
   ]
  },
  {
   "cell_type": "code",
   "execution_count": 14,
   "metadata": {},
   "outputs": [],
   "source": [
    "r2_train = NULL\n",
    "r2_test = NULL\n",
    "\n",
    "for (i in 1:128) {\n",
    "    \n",
    "    train_rand <- as.data.frame(matrix(runif(nrow(X_train)*i), nrow(X_train), i))\n",
    "    test_rand <- as.data.frame(matrix(runif(nrow(X_test)*i), nrow(X_test), i))\n",
    "    \n",
    "    X_train_rand <- cbind(X_train, train_rand)\n",
    "    X_test_rand <- cbind(X_test, test_rand)\n",
    "    \n",
    "    model <- lm(y_train ~ ., data=X_train_rand)\n",
    "    \n",
    "    # Train R2\n",
    "    r2_train <- c(r2_train, R2_Score(y_pred=model$fitted.values, y_true=y_train))\n",
    "    \n",
    "    # Test R2\n",
    "    r2_test <- c(r2_test, R2_Score(y_pred=predict(model, X_test_rand), y_true=y_test))\n",
    "    \n",
    "}"
   ]
  },
  {
   "cell_type": "markdown",
   "metadata": {},
   "source": [
    "By plotting you can see the training fit (the coefficient of determination) increase ...\n",
    "\n",
    "... as the predictive power on test set decreases"
   ]
  },
  {
   "cell_type": "code",
   "execution_count": 15,
   "metadata": {},
   "outputs": [
    {
     "data": {
      "image/png": "[encoded data removed]",
      "text/plain": [
       "plot without title"
      ]
     },
     "metadata": {
      "image/png": {
       "height": 420,
       "width": 420
      }
     },
     "output_type": "display_data"
    },
    {
     "data": {
      "image/png": "[encoded data removed]",
      "text/plain": [
       "plot without title"
      ]
     },
     "metadata": {
      "image/png": {
       "height": 420,
       "width": 420
      }
     },
     "output_type": "display_data"
    }
   ],
   "source": [
    "plot(1:128, r2_train, type=\"l\", col=\"red\")\n",
    "plot(1:128, r2_test, type=\"l\", col=\"green\")"
   ]
  },
  {
   "cell_type": "markdown",
   "metadata": {},
   "source": [
    "## Solving overfitting by using greedy selection"
   ]
  },
  {
   "cell_type": "code",
   "execution_count": 16,
   "metadata": {},
   "outputs": [],
   "source": [
    "# installing caret library, if not yet available\n",
    "if (!(\"caret\" %in% rownames(installed.packages()))) {\n",
    "    install.packages(\"caret\")\n",
    "}"
   ]
  },
  {
   "cell_type": "markdown",
   "metadata": {},
   "source": [
    "model.matrix allows us to create a polynomial expansion and record it into a matrix. We convert the matrix to a data.frame and we care to change some of its feature labels that could be incompatible with linear models. Now we can reuse it for multiple models. "
   ]
  },
  {
   "cell_type": "code",
   "execution_count": 17,
   "metadata": {},
   "outputs": [],
   "source": [
    "polyX <- as.data.frame(model.matrix(y_train ~ .^2, data=X_train))\n",
    "polyX_test <- as.data.frame(model.matrix(y_test ~ .^2, data=X_test))\n",
    "colnames(polyX) = gsub(\":\", \"_\", colnames(polyX))\n",
    "colnames(polyX_test) = colnames(polyX)"
   ]
  },
  {
   "cell_type": "markdown",
   "metadata": {},
   "source": [
    "rfe, based on R squared and repeated cross validation (it is ten fold cv repeated 5 times with different partition seeds), will try to remove as many uninfluential variables as possible."
   ]
  },
  {
   "cell_type": "code",
   "execution_count": 18,
   "metadata": {},
   "outputs": [
    {
     "name": "stderr",
     "output_type": "stream",
     "text": [
      "Loading required package: lattice\n",
      "\n",
      "Loading required package: ggplot2\n",
      "\n",
      "\n",
      "Attaching package: 'caret'\n",
      "\n",
      "\n",
      "The following objects are masked from 'package:MLmetrics':\n",
      "\n",
      "    MAE, RMSE\n",
      "\n",
      "\n",
      "Warning message in predict.lm(object, x):\n",
      "\"prediction from a rank-deficient fit may be misleading\"\n",
      "Warning message in predict.lm(object, x):\n",
      "\"prediction from a rank-deficient fit may be misleading\"\n",
      "Warning message in predict.lm(object, x):\n",
      "\"prediction from a rank-deficient fit may be misleading\"\n",
      "Warning message in predict.lm(object, x):\n",
      "\"prediction from a rank-deficient fit may be misleading\"\n",
      "Warning message in predict.lm(object, x):\n",
      "\"prediction from a rank-deficient fit may be misleading\"\n"
     ]
    }
   ],
   "source": [
    "library(caret)\n",
    "\n",
    "lmProfile <- rfe(polyX, y_train,\n",
    "                 sizes=c(1:92),\n",
    "                 metric=\"Rsquared\", maximize=TRUE, \n",
    "                 rfeControl = rfeControl(functions=lmFuncs,\n",
    "                                         method=\"repeatedcv\",\n",
    "                                         number=5)\n",
    "                )"
   ]
  },
  {
   "cell_type": "markdown",
   "metadata": {},
   "source": [
    "by printing the rfe model you will have a complete report of how the model performs with everytime the most unuseful feature removed. By looking for the max cross-validated R squared you can get the best feature subset for your model."
   ]
  },
  {
   "cell_type": "code",
   "execution_count": 19,
   "metadata": {},
   "outputs": [
    {
     "data": {
      "text/plain": [
       "\n",
       "Recursive feature selection\n",
       "\n",
       "Outer resampling method: Cross-Validated (5 fold, repeated 1 times) \n",
       "\n",
       "Resampling performance over subset size:\n",
       "\n",
       " Variables  RMSE Rsquared   MAE RMSESD RsquaredSD  MAESD Selected\n",
       "         1 8.762  0.03473 6.396 0.8564    0.02659 0.5426         \n",
       "         2 8.230  0.16041 5.889 0.8764    0.04379 0.5189         \n",
       "         3 7.879  0.23914 5.606 1.0567    0.08049 0.6340         \n",
       "         4 7.391  0.31376 5.174 0.7657    0.02087 0.4699         \n",
       "         5 7.269  0.33639 5.090 0.7319    0.03498 0.3936         \n",
       "         6 7.375  0.31616 5.166 0.6002    0.04731 0.3046         \n",
       "         7 7.398  0.31314 5.192 0.6155    0.04657 0.3380         \n",
       "         8 7.119  0.36433 4.974 0.7120    0.08756 0.4416         \n",
       "         9 7.027  0.37979 4.875 0.7951    0.07760 0.4952         \n",
       "        10 7.018  0.38186 4.826 0.7762    0.07164 0.5187         \n",
       "        11 6.979  0.39621 4.848 0.9002    0.10066 0.5796         \n",
       "        12 6.908  0.40476 4.767 0.7627    0.07910 0.6796         \n",
       "        13 6.887  0.40781 4.763 0.7545    0.07883 0.6650         \n",
       "        14 6.445  0.47321 4.535 1.1026    0.16040 0.7893         \n",
       "        15 6.466  0.48245 4.452 1.0834    0.15188 0.7213         \n",
       "        16 6.416  0.48648 4.432 1.0601    0.13784 0.7932         \n",
       "        17 6.245  0.51456 4.395 1.2335    0.15838 0.8779         \n",
       "        18 5.713  0.58138 3.955 0.8726    0.16771 0.6098         \n",
       "        19 5.491  0.62273 3.722 0.4571    0.09621 0.3241         \n",
       "        20 5.268  0.65098 3.629 0.3424    0.06701 0.2828         \n",
       "        21 5.378  0.64290 3.665 0.4094    0.05231 0.2481         \n",
       "        22 5.253  0.65674 3.650 0.3174    0.04868 0.3288         \n",
       "        23 5.225  0.66449 3.632 0.3597    0.04131 0.3192         \n",
       "        24 5.293  0.66081 3.691 0.5037    0.04863 0.3972         \n",
       "        25 5.194  0.66775 3.643 0.3266    0.04920 0.2385         \n",
       "        26 5.241  0.66775 3.705 0.3313    0.04425 0.3451         \n",
       "        27 5.040  0.69048 3.542 0.3648    0.06621 0.2951         \n",
       "        28 5.061  0.69010 3.532 0.4336    0.06904 0.3120         \n",
       "        29 5.059  0.69472 3.538 0.5339    0.06891 0.3232         \n",
       "        30 5.053  0.69726 3.525 0.5531    0.07028 0.3654         \n",
       "        31 4.819  0.72304 3.387 0.6687    0.07438 0.3796         \n",
       "        32 4.835  0.72125 3.402 0.6542    0.07367 0.3722         \n",
       "        33 4.855  0.71914 3.410 0.6379    0.07026 0.3356         \n",
       "        34 4.917  0.71257 3.444 0.7138    0.07282 0.4087         \n",
       "        35 4.813  0.72306 3.417 0.7564    0.07748 0.4022         \n",
       "        36 4.992  0.72244 3.401 1.1964    0.08300 0.3487         \n",
       "        37 4.958  0.72880 3.367 1.3170    0.08483 0.3366         \n",
       "        38 5.041  0.72049 3.371 1.3032    0.08421 0.3263         \n",
       "        39 5.087  0.72130 3.358 1.3763    0.08199 0.3334         \n",
       "        40 4.931  0.73780 3.255 1.3744    0.08133 0.3914         \n",
       "        41 4.886  0.74106 3.234 1.3316    0.07964 0.3743         \n",
       "        42 4.929  0.73909 3.233 1.3551    0.07989 0.3684         \n",
       "        43 4.322  0.78101 2.966 0.5464    0.04773 0.1732         \n",
       "        44 4.359  0.77873 3.011 0.4142    0.04218 0.1538         \n",
       "        45 4.344  0.78126 2.949 0.4076    0.04268 0.1790         \n",
       "        46 4.371  0.77914 2.973 0.4217    0.04547 0.2184         \n",
       "        47 4.447  0.77671 3.001 0.4987    0.04244 0.2388         \n",
       "        48 4.393  0.78096 2.983 0.4484    0.03539 0.2117         \n",
       "        49 4.395  0.78328 2.940 0.5490    0.04220 0.2313         \n",
       "        50 4.390  0.78618 2.979 0.5066    0.03943 0.1984         \n",
       "        51 4.525  0.77769 3.032 0.6434    0.05387 0.2422         \n",
       "        52 4.497  0.77929 3.047 0.5389    0.04290 0.2163         \n",
       "        53 4.555  0.77421 3.055 0.6202    0.04344 0.2530         \n",
       "        54 4.535  0.77543 3.043 0.6098    0.04340 0.2429         \n",
       "        55 4.688  0.76330 3.057 0.7559    0.05886 0.2531         \n",
       "        56 4.724  0.76109 3.068 0.8011    0.06223 0.2567         \n",
       "        57 4.351  0.79024 3.014 0.6906    0.03652 0.3006         \n",
       "        58 4.461  0.78202 3.057 0.7030    0.04604 0.3340         \n",
       "        59 4.443  0.78348 3.051 0.6985    0.04494 0.3302         \n",
       "        60 4.437  0.78382 3.056 0.7538    0.04980 0.3735         \n",
       "        61 4.431  0.78478 3.080 0.7497    0.04933 0.3852         \n",
       "        62 4.397  0.78676 3.075 0.7282    0.04647 0.3868         \n",
       "        63 4.369  0.78657 3.086 0.6416    0.04251 0.3593         \n",
       "        64 4.348  0.78869 3.077 0.6404    0.04332 0.3593         \n",
       "        65 4.244  0.79379 3.043 0.5432    0.04009 0.3374        *\n",
       "        66 4.278  0.78827 3.085 0.5819    0.04309 0.3813         \n",
       "        67 4.306  0.78569 3.109 0.5816    0.04210 0.3691         \n",
       "        68 4.342  0.78264 3.114 0.6280    0.04608 0.3879         \n",
       "        69 4.416  0.77602 3.160 0.6153    0.04458 0.3556         \n",
       "        70 4.401  0.77730 3.164 0.6239    0.04587 0.3658         \n",
       "        71 4.358  0.78078 3.169 0.5905    0.04501 0.3722         \n",
       "        72 4.363  0.78006 3.160 0.6029    0.04554 0.3722         \n",
       "        73 4.358  0.78041 3.152 0.6026    0.04621 0.3748         \n",
       "        74 4.329  0.78324 3.137 0.5784    0.04434 0.3639         \n",
       "        75 4.332  0.78298 3.134 0.5634    0.04479 0.3492         \n",
       "        76 4.372  0.77904 3.159 0.5600    0.04319 0.3628         \n",
       "        77 4.374  0.77903 3.160 0.5723    0.04316 0.3719         \n",
       "        78 4.362  0.78104 3.148 0.5653    0.04207 0.3653         \n",
       "        79 4.335  0.78339 3.124 0.5562    0.04042 0.3792         \n",
       "        80 4.316  0.78478 3.118 0.5499    0.03889 0.3657         \n",
       "        81 4.306  0.78584 3.108 0.5901    0.04177 0.3978         \n",
       "        82 4.302  0.78612 3.105 0.5849    0.04054 0.3944         \n",
       "        83 4.302  0.78607 3.104 0.5783    0.03965 0.3901         \n",
       "        84 4.302  0.78599 3.107 0.5748    0.03980 0.3805         \n",
       "        85 4.297  0.78672 3.101 0.5973    0.04103 0.3904         \n",
       "        86 4.309  0.78560 3.112 0.6037    0.04209 0.3959         \n",
       "        87 4.313  0.78523 3.118 0.5917    0.04129 0.3808         \n",
       "        88 4.313  0.78518 3.119 0.5948    0.04161 0.3820         \n",
       "        89 4.316  0.78491 3.121 0.5954    0.04182 0.3829         \n",
       "        90 4.316  0.78488 3.120 0.6012    0.04244 0.3868         \n",
       "        91 4.316  0.78491 3.119 0.6016    0.04250 0.3883         \n",
       "        92 4.316  0.78491 3.119 0.6016    0.04250 0.3883         \n",
       "\n",
       "The top 5 variables (out of 65):\n",
       "   crim_tax, crim_rad, crim_zn, tax, crim\n"
      ]
     },
     "metadata": {},
     "output_type": "display_data"
    }
   ],
   "source": [
    "lmProfile"
   ]
  },
  {
   "cell_type": "markdown",
   "metadata": {},
   "source": [
    "You can print the best subset using the attribute optVariables."
   ]
  },
  {
   "cell_type": "code",
   "execution_count": 20,
   "metadata": {},
   "outputs": [
    {
     "name": "stdout",
     "output_type": "stream",
     "text": [
      "Best subset: crim_tax crim_rad crim_zn tax crim rad crim_indus zn crim_ptratio indus crim_dis indus_rad crim_chas dis tax_black ptratio rm age_rad rad_black rm_tax age_black nox_age rad_tax lstat tax_ptratio black rad_lstat age dis_lstat tax_lstat crim_lstat zn_lstat zn_tax crim_age dis_black indus_nox chas_tax dis_rad nox age_lstat indus_black nox_lstat indus_rm nox_ptratio nox_dis zn_rad indus_dis crim_rm rad_ptratio age_tax age_dis chas_rad chas rm_lstat rm_age rm_rad zn_black crim_nox chas_dis zn_nox zn_indus dis_tax chas_black ptratio_black chas_rm"
     ]
    }
   ],
   "source": [
    "cat(\"Best subset:\", lmProfile$optVariables)"
   ]
  },
  {
   "cell_type": "markdown",
   "metadata": {},
   "source": [
    "Please notive that the result is very good (interactions are important) and it is similar both in the train and in the test sets, which implies that the model is robust to noise and it should perfom very well in future predictions."
   ]
  },
  {
   "cell_type": "code",
   "execution_count": 21,
   "metadata": {},
   "outputs": [
    {
     "data": {
      "text/html": [
       "0.904620689045796"
      ],
      "text/latex": [
       "0.904620689045796"
      ],
      "text/markdown": [
       "0.904620689045796"
      ],
      "text/plain": [
       "[1] 0.9046207"
      ]
     },
     "metadata": {},
     "output_type": "display_data"
    }
   ],
   "source": [
    "# Train R2\n",
    "R2_Score(y_pred=predict(lmProfile, polyX), y_true=y_train)"
   ]
  },
  {
   "cell_type": "code",
   "execution_count": 22,
   "metadata": {},
   "outputs": [
    {
     "data": {
      "text/html": [
       "0.900689126006312"
      ],
      "text/latex": [
       "0.900689126006312"
      ],
      "text/markdown": [
       "0.900689126006312"
      ],
      "text/plain": [
       "[1] 0.9006891"
      ]
     },
     "metadata": {},
     "output_type": "display_data"
    }
   ],
   "source": [
    "# Test R2\n",
    "R2_Score(y_pred=predict(lmProfile, polyX_test), y_true=y_test)"
   ]
  },
  {
   "cell_type": "markdown",
   "metadata": {},
   "source": [
    "## Addressing Overfitting by Regularization"
   ]
  },
  {
   "cell_type": "markdown",
   "metadata": {},
   "source": [
    "glmnet is a library prepared by, among the others, Jerome Friedman, Trevor Hastie and Rob Tibshirani, professors of statistics at Stanford University who are prominent researchers in the field of regularization. By setting a simple parameter, alpha from 0 to 1, you can switch from ridge to lasso regularization, or blend them by an intermediate value (i.e. 0.5 will blend lasso and ridge).  "
   ]
  },
  {
   "cell_type": "code",
   "execution_count": 23,
   "metadata": {},
   "outputs": [],
   "source": [
    "# installing rpart library, if not yet available\n",
    "if (!(\"glmnet\" %in% rownames(installed.packages()))) {\n",
    "    install.packages(\"glmnet\")\n",
    "}"
   ]
  },
  {
   "cell_type": "code",
   "execution_count": 24,
   "metadata": {},
   "outputs": [],
   "source": [
    "polyX <- as.data.frame(model.matrix(y_train ~ .^2, data=X_train))\n",
    "polyX_test <- as.data.frame(model.matrix(y_test ~ .^2, data=X_test))\n",
    "colnames(polyX) = gsub(\":\", \"_\", colnames(polyX))\n",
    "colnames(polyX_test) = colnames(polyX)"
   ]
  },
  {
   "cell_type": "markdown",
   "metadata": {},
   "source": [
    "We test a sequence of lambdas using corss validation. The best fitting is retained as the solution."
   ]
  },
  {
   "cell_type": "code",
   "execution_count": 25,
   "metadata": {},
   "outputs": [
    {
     "name": "stderr",
     "output_type": "stream",
     "text": [
      "Loading required package: Matrix\n",
      "\n",
      "Loaded glmnet 4.0-2\n",
      "\n"
     ]
    }
   ],
   "source": [
    "library(glmnet)\n",
    "\n",
    "lambdas <- 10^seq(3, -2, by=-.1)\n",
    "cv_fit <- cv.glmnet(as.matrix(polyX), y_train, alpha=0, lambda=lambdas)"
   ]
  },
  {
   "cell_type": "markdown",
   "metadata": {},
   "source": [
    "Here is the graph of the cross-validation of lambdas. Each level of abscissa is a lambda and the spread you have plotted is the cv variance. The bestr lambdas lies at the minimum."
   ]
  },
  {
   "cell_type": "code",
   "execution_count": 26,
   "metadata": {},
   "outputs": [
    {
     "data": {
      "image/png": "[encoded data removed]",
      "text/plain": [
       "plot without title"
      ]
     },
     "metadata": {
      "image/png": {
       "height": 420,
       "width": 420
      }
     },
     "output_type": "display_data"
    }
   ],
   "source": [
    "plot(cv_fit)"
   ]
  },
  {
   "cell_type": "code",
   "execution_count": 27,
   "metadata": {},
   "outputs": [
    {
     "data": {
      "text/html": [
       "0.630957344480193"
      ],
      "text/latex": [
       "0.630957344480193"
      ],
      "text/markdown": [
       "0.630957344480193"
      ],
      "text/plain": [
       "[1] 0.6309573"
      ]
     },
     "metadata": {},
     "output_type": "display_data"
    }
   ],
   "source": [
    "opt_lambda <- cv_fit$lambda.min\n",
    "opt_lambda"
   ]
  },
  {
   "cell_type": "code",
   "execution_count": 28,
   "metadata": {},
   "outputs": [
    {
     "data": {
      "text/html": [
       "0.885920821677624"
      ],
      "text/latex": [
       "0.885920821677624"
      ],
      "text/markdown": [
       "0.885920821677624"
      ],
      "text/plain": [
       "[1] 0.8859208"
      ]
     },
     "metadata": {},
     "output_type": "display_data"
    }
   ],
   "source": [
    "# Train R2\n",
    "R2_Score(y_pred=predict(cv_fit$glmnet.fit, s=opt_lambda, newx=as.matrix(polyX)), y_true=y_train)"
   ]
  },
  {
   "cell_type": "code",
   "execution_count": 29,
   "metadata": {},
   "outputs": [
    {
     "data": {
      "text/html": [
       "0.92016405630962"
      ],
      "text/latex": [
       "0.92016405630962"
      ],
      "text/markdown": [
       "0.92016405630962"
      ],
      "text/plain": [
       "[1] 0.9201641"
      ]
     },
     "metadata": {},
     "output_type": "display_data"
    }
   ],
   "source": [
    "# Test R2\n",
    "R2_Score(y_pred=predict(cv_fit$glmnet.fit, s=opt_lambda, newx=as.matrix(polyX_test)), y_true=y_test)"
   ]
  },
  {
   "cell_type": "markdown",
   "metadata": {},
   "source": [
    "After testing ridge, we try the lasso (alpha=1)."
   ]
  },
  {
   "cell_type": "code",
   "execution_count": 30,
   "metadata": {},
   "outputs": [],
   "source": [
    "library(glmnet)\n",
    "\n",
    "lambdas <- 10^seq(3, -2, by=-.1)\n",
    "cv_fit <- cv.glmnet(as.matrix(polyX), y_train, alpha=1, lambda=lambdas)"
   ]
  },
  {
   "cell_type": "markdown",
   "metadata": {},
   "source": [
    "Also in this graph, please look for the minimum."
   ]
  },
  {
   "cell_type": "code",
   "execution_count": 31,
   "metadata": {},
   "outputs": [
    {
     "data": {
      "image/png": "[encoded data removed]",
      "text/plain": [
       "plot without title"
      ]
     },
     "metadata": {
      "image/png": {
       "height": 420,
       "width": 420
      }
     },
     "output_type": "display_data"
    }
   ],
   "source": [
    "plot(cv_fit)"
   ]
  },
  {
   "cell_type": "code",
   "execution_count": 32,
   "metadata": {},
   "outputs": [
    {
     "data": {
      "text/html": [
       "0.0199526231496888"
      ],
      "text/latex": [
       "0.0199526231496888"
      ],
      "text/markdown": [
       "0.0199526231496888"
      ],
      "text/plain": [
       "[1] 0.01995262"
      ]
     },
     "metadata": {},
     "output_type": "display_data"
    }
   ],
   "source": [
    "opt_lambda <- cv_fit$lambda.min\n",
    "opt_lambda"
   ]
  },
  {
   "cell_type": "code",
   "execution_count": 33,
   "metadata": {},
   "outputs": [
    {
     "data": {
      "text/html": [
       "0.901790360315611"
      ],
      "text/latex": [
       "0.901790360315611"
      ],
      "text/markdown": [
       "0.901790360315611"
      ],
      "text/plain": [
       "[1] 0.9017904"
      ]
     },
     "metadata": {},
     "output_type": "display_data"
    }
   ],
   "source": [
    "# Train R2\n",
    "R2_Score(y_pred=predict(cv_fit$glmnet.fit, s=opt_lambda, newx=as.matrix(polyX)), y_true=y_train)"
   ]
  },
  {
   "cell_type": "code",
   "execution_count": 34,
   "metadata": {},
   "outputs": [
    {
     "data": {
      "text/html": [
       "0.933367101318515"
      ],
      "text/latex": [
       "0.933367101318515"
      ],
      "text/markdown": [
       "0.933367101318515"
      ],
      "text/plain": [
       "[1] 0.9333671"
      ]
     },
     "metadata": {},
     "output_type": "display_data"
    }
   ],
   "source": [
    "# Test R2\n",
    "R2_Score(y_pred=predict(cv_fit$glmnet.fit, s=opt_lambda, newx=as.matrix(polyX_test)), y_true=y_test)"
   ]
  },
  {
   "cell_type": "markdown",
   "metadata": {},
   "source": [
    "# Understanding SGD is different"
   ]
  },
  {
   "cell_type": "code",
   "execution_count": 35,
   "metadata": {},
   "outputs": [],
   "source": [
    "# installing gradDescent library, if not yet available\n",
    "if (!(\"gradDescent\" %in% rownames(installed.packages()))) {\n",
    "    install.packages(\"gradDescent\")\n",
    "}"
   ]
  },
  {
   "cell_type": "markdown",
   "metadata": {},
   "source": [
    "gradDescent (https://cran.r-project.org/web/packages/gradDescent/index.html) is a collection of gradient descent methods, allowing us to replicate the same functions available in Python."
   ]
  },
  {
   "cell_type": "code",
   "execution_count": 36,
   "metadata": {},
   "outputs": [],
   "source": [
    "dataTrain <- cbind(X_train, y_train)\n",
    "dataTest <- cbind(X_test, y_test)"
   ]
  },
  {
   "cell_type": "markdown",
   "metadata": {},
   "source": [
    "using gradDescentR.learn we have to feed data combine as a matrix containing first all the Xs and as last column out y. We can explicit if we need scaling (featureScaling=TRUE) and controlling learning parameters such as alpha or the maximum iteration."
   ]
  },
  {
   "cell_type": "code",
   "execution_count": 37,
   "metadata": {},
   "outputs": [
    {
     "name": "stderr",
     "output_type": "stream",
     "text": [
      "\n",
      "Attaching package: 'gradDescent'\n",
      "\n",
      "\n",
      "The following object is masked from 'package:caret':\n",
      "\n",
      "    RMSE\n",
      "\n",
      "\n",
      "The following object is masked from 'package:MLmetrics':\n",
      "\n",
      "    RMSE\n",
      "\n",
      "\n"
     ]
    }
   ],
   "source": [
    "library(gradDescent)\n",
    "\n",
    "\n",
    "sgd <- gradDescentR.learn(dataTrain, featureScaling=TRUE, scalingMethod=\"VARIANCE\",\n",
    "                          learningMethod=\"SGD\", control=list(\"alpha\"=0.001, \"maxIter\"=100000), seed = 0)"
   ]
  },
  {
   "cell_type": "markdown",
   "metadata": {},
   "source": [
    "The resulting model is lacking the same verbosity of standard linear models. We can only get the coefficients out."
   ]
  },
  {
   "cell_type": "code",
   "execution_count": 38,
   "metadata": {},
   "outputs": [
    {
     "data": {
      "text/html": [
       "<table>\n",
       "<caption>A matrix: 1 × 14 of type dbl</caption>\n",
       "<tbody>\n",
       "\t<tr><td>0.01059537</td><td>-0.1119627</td><td>0.1025478</td><td>0.01043503</td><td>0.05412569</td><td>-0.2116884</td><td>0.2936119</td><td>-0.01675016</td><td>-0.3354501</td><td>0.2918776</td><td>-0.2018684</td><td>-0.230332</td><td>0.08096517</td><td>-0.3959308</td></tr>\n",
       "</tbody>\n",
       "</table>\n"
      ],
      "text/latex": [
       "A matrix: 1 × 14 of type dbl\n",
       "\\begin{tabular}{llllllllllllll}\n",
       "\t 0.01059537 & -0.1119627 & 0.1025478 & 0.01043503 & 0.05412569 & -0.2116884 & 0.2936119 & -0.01675016 & -0.3354501 & 0.2918776 & -0.2018684 & -0.230332 & 0.08096517 & -0.3959308\\\\\n",
       "\\end{tabular}\n"
      ],
      "text/markdown": [
       "\n",
       "A matrix: 1 × 14 of type dbl\n",
       "\n",
       "| 0.01059537 | -0.1119627 | 0.1025478 | 0.01043503 | 0.05412569 | -0.2116884 | 0.2936119 | -0.01675016 | -0.3354501 | 0.2918776 | -0.2018684 | -0.230332 | 0.08096517 | -0.3959308 |\n",
       "\n"
      ],
      "text/plain": [
       "     [,1]       [,2]       [,3]      [,4]       [,5]       [,6]       [,7]     \n",
       "[1,] 0.01059537 -0.1119627 0.1025478 0.01043503 0.05412569 -0.2116884 0.2936119\n",
       "     [,8]        [,9]       [,10]     [,11]      [,12]     [,13]     \n",
       "[1,] -0.01675016 -0.3354501 0.2918776 -0.2018684 -0.230332 0.08096517\n",
       "     [,14]     \n",
       "[1,] -0.3959308"
      ]
     },
     "metadata": {},
     "output_type": "display_data"
    }
   ],
   "source": [
    "sgd$model"
   ]
  },
  {
   "cell_type": "markdown",
   "metadata": {},
   "source": [
    "Yet, we can use it to predict on a new test set. Please notice that it has to resemble the training data, so you need a last columns as the target. Since often you simply don't know it (after all you are asking for a prediction), you just fill it with zeros."
   ]
  },
  {
   "cell_type": "code",
   "execution_count": 39,
   "metadata": {},
   "outputs": [],
   "source": [
    "train_preds <- predict(sgd, cbind(X_train, rep(0, nrow(X_train))))$V1\n",
    "test_preds <- predict(sgd, cbind(X_test, rep(0, nrow(X_test))))$V1"
   ]
  },
  {
   "cell_type": "code",
   "execution_count": 40,
   "metadata": {},
   "outputs": [
    {
     "data": {
      "text/html": [
       "0.724579681900553"
      ],
      "text/latex": [
       "0.724579681900553"
      ],
      "text/markdown": [
       "0.724579681900553"
      ],
      "text/plain": [
       "[1] 0.7245797"
      ]
     },
     "metadata": {},
     "output_type": "display_data"
    }
   ],
   "source": [
    "# Train R2\n",
    "R2_Score(y_pred=train_preds, y_true=y_train)"
   ]
  },
  {
   "cell_type": "code",
   "execution_count": 41,
   "metadata": {},
   "outputs": [
    {
     "data": {
      "text/html": [
       "0.776269976782726"
      ],
      "text/latex": [
       "0.776269976782726"
      ],
      "text/markdown": [
       "0.776269976782726"
      ],
      "text/plain": [
       "[1] 0.77627"
      ]
     },
     "metadata": {},
     "output_type": "display_data"
    }
   ],
   "source": [
    "# Test R2\n",
    "R2_Score(y_pred=test_preds, y_true=y_test)"
   ]
  }
 ],
 "metadata": {
  "kernelspec": {
   "display_name": "R",
   "language": "R",
   "name": "ir"
  },
  "language_info": {
   "codemirror_mode": "r",
   "file_extension": ".r",
   "mimetype": "text/x-r-source",
   "name": "R",
   "pygments_lexer": "r",
   "version": "4.0.2"
  }
 },
 "nbformat": 4,
 "nbformat_minor": 4
}
