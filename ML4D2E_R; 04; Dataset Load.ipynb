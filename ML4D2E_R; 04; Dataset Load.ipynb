{
 "cells": [
  {
   "cell_type": "markdown",
   "metadata": {},
   "source": [
    "# Downloading the Datasets and Example Code"
   ]
  },
  {
   "cell_type": "markdown",
   "metadata": {},
   "source": [
    "## Understanding the datasets used in this book"
   ]
  },
  {
   "cell_type": "code",
   "execution_count": 6,
   "metadata": {},
   "outputs": [],
   "source": [
    "if (!require(\"feather\")) install.packages(\"feather\")\n",
    "library(feather)"
   ]
  },
  {
   "cell_type": "code",
   "execution_count": 7,
   "metadata": {},
   "outputs": [
    {
     "name": "stderr",
     "output_type": "stream",
     "text": [
      "Warning message:\n",
      "\"Coercing int64 to double\""
     ]
    },
    {
     "name": "stdout",
     "output_type": "stream",
     "text": [
      "# A tibble: 144 x 2\n",
      "   Month   Passengers\n",
      "   <chr>        <dbl>\n",
      " 1 1949-01        112\n",
      " 2 1949-02        118\n",
      " 3 1949-03        132\n",
      " 4 1949-04        129\n",
      " 5 1949-05        121\n",
      " 6 1949-06        135\n",
      " 7 1949-07        148\n",
      " 8 1949-08        148\n",
      " 9 1949-09        136\n",
      "10 1949-10        119\n",
      "# ... with 134 more rows\n"
     ]
    }
   ],
   "source": [
    "read_df <- read_feather('air_passengers.feather')\n",
    "print(read_df)"
   ]
  },
  {
   "cell_type": "markdown",
   "metadata": {},
   "source": [
    "## The following codes have been modified to read a file in the specific folder, not necessary in the same folder as in the above codes."
   ]
  },
  {
   "cell_type": "code",
   "execution_count": 8,
   "metadata": {},
   "outputs": [
    {
     "name": "stderr",
     "output_type": "stream",
     "text": [
      "Warning message:\n",
      "\"Coercing int64 to double\""
     ]
    },
    {
     "name": "stdout",
     "output_type": "stream",
     "text": [
      "# A tibble: 144 x 2\n",
      "   Month   Passengers\n",
      "   <chr>        <dbl>\n",
      " 1 1949-01        112\n",
      " 2 1949-02        118\n",
      " 3 1949-03        132\n",
      " 4 1949-04        129\n",
      " 5 1949-05        121\n",
      " 6 1949-06        135\n",
      " 7 1949-07        148\n",
      " 8 1949-08        148\n",
      " 9 1949-09        136\n",
      "10 1949-10        119\n",
      "# ... with 134 more rows\n"
     ]
    }
   ],
   "source": [
    "read_df2 <- read_feather('D:/OneDrive/Data/ML4D2E/air_passengers.feather')\n",
    "print(read_df2)"
   ]
  },
  {
   "cell_type": "code",
   "execution_count": 9,
   "metadata": {},
   "outputs": [
    {
     "name": "stdout",
     "output_type": "stream",
     "text": [
      "# A tibble: 50,000 x 2\n",
      "   review                                                              sentiment\n",
      "   <chr>                                                                   <int>\n",
      " 1 One of the other reviewers has mentioned that after watching just ~         1\n",
      " 2 \"A wonderful little production. <br /><br />The filming technique ~         1\n",
      " 3 \"I thought this was a wonderful way to spend time on a too hot sum~         1\n",
      " 4 Basically there's a family where a little boy (Jake) thinks there'~         0\n",
      " 5 \"Petter Mattei's \\\"Love in the Time of Money\\\" is a visually stunn~         1\n",
      " 6 \"Probably my all-time favorite movie, a story of selflessness, sac~         1\n",
      " 7 I sure would like to see a resurrection of a up dated Seahunt seri~         1\n",
      " 8 This show was an amazing, fresh & innovative idea in the 70's when~         0\n",
      " 9 Encouraged by the positive comments about this film on here I was ~         0\n",
      "10 If you like original gut wrenching laughter you will like this mov~         1\n",
      "# ... with 49,990 more rows\n"
     ]
    }
   ],
   "source": [
    "read_df2 <- read_feather('D:/OneDrive/Data/ML4D2E/imdb_50k.feather')\n",
    "print(read_df2)"
   ]
  },
  {
   "cell_type": "code",
   "execution_count": null,
   "metadata": {},
   "outputs": [],
   "source": []
  }
 ],
 "metadata": {
  "kernelspec": {
   "display_name": "R",
   "language": "R",
   "name": "ir"
  },
  "language_info": {
   "codemirror_mode": "r",
   "file_extension": ".r",
   "mimetype": "text/x-r-source",
   "name": "R",
   "pygments_lexer": "r",
   "version": "3.6.1"
  }
 },
 "nbformat": 4,
 "nbformat_minor": 4
}
