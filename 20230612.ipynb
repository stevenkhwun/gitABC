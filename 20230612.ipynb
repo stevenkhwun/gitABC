{
 "cells": [
  {
   "cell_type": "markdown",
   "id": "cade6273-3bd1-4166-aafb-d1a29bd4cc5d",
   "metadata": {},
   "source": [
    "# Adding a new notebook on 2023.06.12"
   ]
  },
  {
   "cell_type": "code",
   "execution_count": null,
   "id": "9c6ed8fc-00ad-4a5b-9227-bc4afa50c037",
   "metadata": {},
   "outputs": [],
   "source": []
  }
 ],
 "metadata": {
  "kernelspec": {
   "display_name": "Python 3 (ipykernel)",
   "language": "python",
   "name": "python3"
  },
  "language_info": {
   "codemirror_mode": {
    "name": "ipython",
    "version": 3
   },
   "file_extension": ".py",
   "mimetype": "text/x-python",
   "name": "python",
   "nbconvert_exporter": "python",
   "pygments_lexer": "ipython3",
   "version": "3.9.5"
  }
 },
 "nbformat": 4,
 "nbformat_minor": 5
}
