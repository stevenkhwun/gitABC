{
 "cells": [
  {
   "cell_type": "markdown",
   "metadata": {},
   "source": [
    "# Working with Data"
   ]
  },
  {
   "cell_type": "markdown",
   "metadata": {},
   "source": [
    "## Understanding scalar and vector operations"
   ]
  },
  {
   "cell_type": "code",
   "execution_count": 1,
   "metadata": {},
   "outputs": [
    {
     "name": "stdout",
     "output_type": "stream",
     "text": [
      "[1] 2 3 4 5\n",
      "[1] 0 1 2 3\n",
      "[1]  2  4  8 16\n"
     ]
    }
   ],
   "source": [
    "myVect <- 1:4\n",
    "\n",
    "print(myVect + 1)\n",
    "print(myVect - 1)\n",
    "print(2 ** myVect)"
   ]
  },
  {
   "cell_type": "code",
   "execution_count": 2,
   "metadata": {},
   "outputs": [
    {
     "name": "stdout",
     "output_type": "stream",
     "text": [
      "[1] FALSE  TRUE FALSE  TRUE\n",
      "[1]  TRUE FALSE  TRUE FALSE\n"
     ]
    }
   ],
   "source": [
    "a <- 1:4\n",
    "b <- c(2, 2, 4, 4)\n",
    "\n",
    "print(a == b)\n",
    "print(a < b)"
   ]
  },
  {
   "cell_type": "code",
   "execution_count": 3,
   "metadata": {},
   "outputs": [
    {
     "name": "stdout",
     "output_type": "stream",
     "text": [
      "[1]  TRUE  TRUE  TRUE FALSE\n",
      "[1]  TRUE FALSE FALSE FALSE\n",
      "[1] FALSE  TRUE FALSE  TRUE\n",
      "[1] FALSE  TRUE  TRUE FALSE\n"
     ]
    }
   ],
   "source": [
    "a <- c(TRUE, FALSE, TRUE, FALSE)\n",
    "b <- c(TRUE, TRUE, FALSE, FALSE)\n",
    "\n",
    "print(a | b)\n",
    "print(a & b)\n",
    "print(!a)\n",
    "print(xor(a, b))"
   ]
  },
  {
   "cell_type": "markdown",
   "metadata": {},
   "source": [
    "## Performing vector multiplication"
   ]
  },
  {
   "cell_type": "code",
   "execution_count": 4,
   "metadata": {},
   "outputs": [
    {
     "name": "stdout",
     "output_type": "stream",
     "text": [
      "[1]  1  4  9 16\n",
      "     [,1]\n",
      "[1,]   30\n"
     ]
    }
   ],
   "source": [
    "print(myVect * myVect)\n",
    "print(myVect %*% myVect)"
   ]
  },
  {
   "cell_type": "markdown",
   "metadata": {},
   "source": [
    "## Understanding basic operations"
   ]
  },
  {
   "cell_type": "code",
   "execution_count": 5,
   "metadata": {},
   "outputs": [
    {
     "name": "stdout",
     "output_type": "stream",
     "text": [
      "     [,1] [,2]\n",
      "[1,]    0    1\n",
      "[2,]    1   -1\n"
     ]
    }
   ],
   "source": [
    "A <- matrix(c(1, 1, 1, 0), nrow=2)\n",
    "B <- matrix(c(1, 0, 0, 1), nrow=2)\n",
    "C <- A - B\n",
    "\n",
    "print(C)"
   ]
  },
  {
   "cell_type": "code",
   "execution_count": 6,
   "metadata": {},
   "outputs": [
    {
     "name": "stdout",
     "output_type": "stream",
     "text": [
      "     [,1] [,2]\n",
      "[1,]    0   -2\n",
      "[2,]   -2    2\n"
     ]
    }
   ],
   "source": [
    "print(C * -2)"
   ]
  },
  {
   "cell_type": "markdown",
   "metadata": {},
   "source": [
    "## Performing matrix multiplication"
   ]
  },
  {
   "cell_type": "code",
   "execution_count": 7,
   "metadata": {},
   "outputs": [
    {
     "name": "stdout",
     "output_type": "stream",
     "text": [
      "     [,1]\n",
      "[1,]    2\n",
      "[2,]   -2\n",
      "[3,]    3\n"
     ]
    }
   ],
   "source": [
    "X <- matrix(c(4, 5, 2, 4, 3, 3), nrow=3, byrow=TRUE)\n",
    "b <- c(3, -2)\n",
    "\n",
    "print(X %*% b)"
   ]
  },
  {
   "cell_type": "code",
   "execution_count": 8,
   "metadata": {},
   "outputs": [
    {
     "name": "stdout",
     "output_type": "stream",
     "text": [
      "     [,1] [,2]\n",
      "[1,]    2   17\n",
      "[2,]   -2   16\n",
      "[3,]    3    9\n"
     ]
    }
   ],
   "source": [
    "B <- matrix(c(3, -2, -2, 5), nrow=2, byrow=TRUE)\n",
    "\n",
    "print(X %*% B)"
   ]
  },
  {
   "cell_type": "markdown",
   "metadata": {},
   "source": [
    "## Glancing at advanced matrix operations"
   ]
  },
  {
   "cell_type": "code",
   "execution_count": 9,
   "metadata": {},
   "outputs": [
    {
     "name": "stdout",
     "output_type": "stream",
     "text": [
      "     [,1] [,2] [,3]\n",
      "[1,]    5    3    4\n",
      "[2,]    1   -1    0\n",
      "[3,]    0    2   -1\n"
     ]
    }
   ],
   "source": [
    "A <- matrix(c(5, 1, 0, 3,-1, 2, 4, 0,-1), nrow=3, byrow=TRUE)\n",
    "\n",
    "print(t(A))"
   ]
  },
  {
   "cell_type": "code",
   "execution_count": 10,
   "metadata": {},
   "outputs": [
    {
     "name": "stdout",
     "output_type": "stream",
     "text": [
      "       [,1]    [,2]   [,3]\n",
      "[1,] 0.0625  0.0625  0.125\n",
      "[2,] 0.6875 -0.3125 -0.625\n",
      "[3,] 0.2500  0.2500 -0.500\n"
     ]
    }
   ],
   "source": [
    "print(solve(A))"
   ]
  },
  {
   "cell_type": "markdown",
   "metadata": {},
   "source": [
    "## Using vectorization effectively"
   ]
  },
  {
   "cell_type": "code",
   "execution_count": 11,
   "metadata": {},
   "outputs": [
    {
     "name": "stdout",
     "output_type": "stream",
     "text": [
      "[1] 44 21 37\n",
      "[1] 3\n"
     ]
    }
   ],
   "source": [
    "y = c(44, 21, 37)\n",
    "dim(y) <- c(3)\n",
    "\n",
    "print(y)\n",
    "print(dim(y))"
   ]
  },
  {
   "cell_type": "code",
   "execution_count": 12,
   "metadata": {},
   "outputs": [
    {
     "name": "stdout",
     "output_type": "stream",
     "text": [
      "     [,1] [,2] [,3] [,4]\n",
      "[1,]  1.1    1  545    1\n",
      "[2,]  4.6    0  345    2\n",
      "[3,]  7.2    1  754    3\n"
     ]
    }
   ],
   "source": [
    "X <- matrix(c(1.1, 1, 545, 1,\n",
    "              4.6, 0, 345, 2,\n",
    "              7.2, 1, 754, 3), nrow=3, byrow=TRUE)\n",
    "print(X)"
   ]
  },
  {
   "cell_type": "markdown",
   "metadata": {},
   "source": [
    "When you use `dim()`, R uses a column filling strategy. In order the get the same result as the previous example did using `byrow=TRUE`, you must dimension the vector first, then transpose it using `t()` as shown below."
   ]
  },
  {
   "cell_type": "code",
   "execution_count": 13,
   "metadata": {},
   "outputs": [
    {
     "name": "stdout",
     "output_type": "stream",
     "text": [
      "     [,1] [,2] [,3] [,4]\n",
      "[1,]  1.1    1  545    1\n",
      "[2,]  4.6    0  345    2\n",
      "[3,]  7.2    1  754    3\n"
     ]
    }
   ],
   "source": [
    "X <- c(1.1, 1, 545, 1, 4.6, 0, 345, 2, 7.2, 1, 754, 3)\n",
    "dim(X) <- c(4, 3)\n",
    "X <- t(X)\n",
    "print(X)"
   ]
  },
  {
   "cell_type": "markdown",
   "metadata": {},
   "source": [
    "# Exploring the World of Probabilities"
   ]
  },
  {
   "cell_type": "markdown",
   "metadata": {},
   "source": [
    "## Operating on probabilities"
   ]
  },
  {
   "cell_type": "code",
   "execution_count": 14,
   "metadata": {},
   "outputs": [
    {
     "name": "stdout",
     "output_type": "stream",
     "text": [
      "[1] 0.02777778\n"
     ]
    }
   ],
   "source": [
    "Sixes <- (1/6) * (1/6)\n",
    "print(Sixes)"
   ]
  },
  {
   "cell_type": "code",
   "execution_count": 15,
   "metadata": {},
   "outputs": [
    {
     "name": "stdout",
     "output_type": "stream",
     "text": [
      "[1] 0.1388889\n"
     ]
    }
   ],
   "source": [
    "SixAndOther <- (1/6) * (1 - (1/6))\n",
    "print(SixAndOther)"
   ]
  },
  {
   "cell_type": "code",
   "execution_count": 16,
   "metadata": {},
   "outputs": [
    {
     "name": "stdout",
     "output_type": "stream",
     "text": [
      "[1] 0.1388889\n"
     ]
    }
   ],
   "source": [
    "OtherAndSix <- (1/6) * (1 - (1/6))\n",
    "print(OtherAndSix)"
   ]
  },
  {
   "cell_type": "code",
   "execution_count": 17,
   "metadata": {},
   "outputs": [
    {
     "name": "stdout",
     "output_type": "stream",
     "text": [
      "[1] 0.3333333\n"
     ]
    }
   ],
   "source": [
    "OneSix <- (1/6) + (1/6)\n",
    "print(OneSix)"
   ]
  },
  {
   "cell_type": "markdown",
   "metadata": {},
   "source": [
    "## Conditioning chance by Bayes’ theorem"
   ]
  },
  {
   "cell_type": "code",
   "execution_count": 18,
   "metadata": {},
   "outputs": [
    {
     "name": "stdout",
     "output_type": "stream",
     "text": [
      "[1] 0.8571429\n"
     ]
    }
   ],
   "source": [
    "Female <- 0.6 * 0.5 / 0.35\n",
    "print(Female)"
   ]
  },
  {
   "cell_type": "code",
   "execution_count": 19,
   "metadata": {},
   "outputs": [
    {
     "name": "stdout",
     "output_type": "stream",
     "text": [
      "[1] 0.5\n"
     ]
    }
   ],
   "source": [
    "IsIll <- 0.99 * 0.01 / ((0.01 * 0.99) + (0.99 * 0.01))\n",
    "print(IsIll)"
   ]
  },
  {
   "cell_type": "code",
   "execution_count": null,
   "metadata": {},
   "outputs": [],
   "source": []
  }
 ],
 "metadata": {
  "kernelspec": {
   "display_name": "R",
   "language": "R",
   "name": "ir"
  },
  "language_info": {
   "codemirror_mode": "r",
   "file_extension": ".r",
   "mimetype": "text/x-r-source",
   "name": "R",
   "pygments_lexer": "r",
   "version": "4.0.3"
  }
 },
 "nbformat": 4,
 "nbformat_minor": 4
}
