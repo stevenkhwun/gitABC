{
 "cells": [
  {
   "cell_type": "markdown",
   "metadata": {},
   "source": [
    "## Classifying handwritten digits"
   ]
  },
  {
   "cell_type": "code",
   "execution_count": 1,
   "metadata": {},
   "outputs": [],
   "source": [
    "# installing feather library, if not yet available\n",
    "if (!(\"feather\" %in% rownames(installed.packages()))) {\n",
    "    install.packages(\"feather\")\n",
    "}"
   ]
  },
  {
   "cell_type": "code",
   "execution_count": 2,
   "metadata": {},
   "outputs": [],
   "source": [
    "# installing caret library, if not yet available\n",
    "if (!(\"caret\" %in% rownames(installed.packages()))) {\n",
    "    install.packages(\"caret\")\n",
    "}"
   ]
  },
  {
   "cell_type": "code",
   "execution_count": 3,
   "metadata": {},
   "outputs": [],
   "source": [
    "# installing kernlab library, if not yet available\n",
    "if (!(\"kernlab\" %in% rownames(installed.packages()))) {\n",
    "    install.packages(\"kernlab\")\n",
    "}"
   ]
  },
  {
   "cell_type": "code",
   "execution_count": 4,
   "metadata": {},
   "outputs": [],
   "source": [
    "# installing e1071 library, if not yet available\n",
    "if (!(\"e1071\" %in% rownames(installed.packages()))) {\n",
    "    install.packages(\"e1071\")\n",
    "} "
   ]
  },
  {
   "cell_type": "code",
   "execution_count": 5,
   "metadata": {},
   "outputs": [],
   "source": [
    "# installing MLmetrics library, if not yet available\n",
    "if (!(\"MLmetrics\" %in% rownames(installed.packages()))) {\n",
    "    install.packages(\"MLmetrics\")\n",
    "} "
   ]
  },
  {
   "cell_type": "code",
   "execution_count": 6,
   "metadata": {},
   "outputs": [],
   "source": [
    "# installing doParallel library, if not yet available\n",
    "if (!(\"doParallel\" %in% rownames(installed.packages()))) {\n",
    "    install.packages(\"doParallel\")\n",
    "} "
   ]
  },
  {
   "cell_type": "code",
   "execution_count": 7,
   "metadata": {},
   "outputs": [],
   "source": [
    "library(feather)\n",
    "\n",
    "url <- \"https://github.com/lmassaron/datasets/releases/download/1.0/mnist.feather\"\n",
    "destfile <- \"mnist.feather\"\n",
    "download.file(url, destfile, mode =  \"wb\")\n",
    "\n",
    "digits <- read_feather(destfile)"
   ]
  },
  {
   "cell_type": "markdown",
   "metadata": {},
   "source": [
    "In this example we leave the train/test partition to the caret library, by the createDataPartition command (https://www.rdocumentation.org/packages/caret/versions/6.0-86/topics/createDataPartition). It has more options, rendering it more similar to Python Scikit-learn's functions."
   ]
  },
  {
   "cell_type": "code",
   "execution_count": 8,
   "metadata": {},
   "outputs": [
    {
     "name": "stderr",
     "output_type": "stream",
     "text": [
      "Loading required package: lattice\n",
      "\n",
      "Loading required package: ggplot2\n",
      "\n"
     ]
    }
   ],
   "source": [
    "library(caret)\n",
    "\n",
    "# partitioning the data into train and test sets\n",
    "set.seed(42)\n",
    "train <- as.numeric(createDataPartition(y=as.factor(digits$target), p=0.8, list=FALSE))\n",
    "\n",
    "# calculating the number of variables and filtering the ones with enough data\n",
    "no_vars <- ncol(digits)\n",
    "non_zero_var <- sapply(digits[,2:ncol(digits)], function(v){var(v, na.rm=TRUE)>0.001} )\n",
    "\n",
    "# Defining train and test target as a factor\n",
    "y <- as.factor(digits$target[train])\n",
    "yt <- as.factor(digits$target[-train])\n",
    "\n",
    "# Defining train and test predictors as a data.frame\n",
    "X <- as.data.frame(digits[train, 2:no_vars][,non_zero_var]) \n",
    "Xt <- as.data.frame(digits[-train, 2:no_vars][,non_zero_var])"
   ]
  },
  {
   "cell_type": "markdown",
   "metadata": {},
   "source": [
    "We also try to speeden up the examples by using parallelism since we expect most of the computers of our readers have multiple cores."
   ]
  },
  {
   "cell_type": "code",
   "execution_count": 9,
   "metadata": {},
   "outputs": [
    {
     "name": "stderr",
     "output_type": "stream",
     "text": [
      "Loading required package: foreach\n",
      "\n",
      "Loading required package: iterators\n",
      "\n",
      "Loading required package: parallel\n",
      "\n"
     ]
    }
   ],
   "source": [
    "# Speeding up the cross-validation by setting parallel operations\n",
    "library(doParallel)\n",
    "cl <- makePSOCKcluster(3) # we set the number of parallel works in respect to the number of CV folds\n",
    "registerDoParallel(cl)"
   ]
  },
  {
   "cell_type": "markdown",
   "metadata": {},
   "source": [
    "This time we use caret to its full extent, by setting a TrainControl and a tunegrid of values to be checked."
   ]
  },
  {
   "cell_type": "code",
   "execution_count": 10,
   "metadata": {},
   "outputs": [
    {
     "name": "stderr",
     "output_type": "stream",
     "text": [
      "Warning message in nominalTrainWorkflow(x = x, y = y, wts = weights, info = trainInfo, :\n",
      "\"There were missing values in resampled performance measures.\"\n"
     ]
    }
   ],
   "source": [
    "set.seed(42)\n",
    "\n",
    "ctrl <- trainControl(method=\"cv\", \n",
    "                     number=3,\n",
    "                     summaryFunction=multiClassSummary,\n",
    "                     classProbs=FALSE)\n",
    "\n",
    "# Define ranges for the two parameters\n",
    "C_range <-     sapply(seq(-1.5, 2, 0.5), function(x){10^x})\n",
    "sigma_range <- sapply(seq(-3, -2, 0.5), function(x){10^x})\n",
    "                     \n",
    "grid <- expand.grid(sigma = sigma_range,\n",
    "                    C = C_range\n",
    ")\n",
    "\n",
    "svm_model<-train(X, y,\n",
    "                 method = \"svmRadial\", \n",
    "                 metric=\"Accuracy\",\n",
    "                 preProc = c(\"center\", \"scale\"), \n",
    "                 trControl=ctrl,\n",
    "                 tuneGrid = grid,\n",
    "                 allowParallel=TRUE)"
   ]
  },
  {
   "cell_type": "code",
   "execution_count": 11,
   "metadata": {},
   "outputs": [
    {
     "name": "stdout",
     "output_type": "stream",
     "text": [
      "Support Vector Machines with Radial Basis Function Kernel \n",
      "\n",
      "1442 samples\n",
      "  60 predictor\n",
      "  10 classes: 'digit_0', 'digit_1', 'digit_2', 'digit_3', 'digit_4', 'digit_5', 'digit_6', 'digit_7', 'digit_8', 'digit_9' \n",
      "\n",
      "Pre-processing: centered (60), scaled (60) \n",
      "Resampling: Cross-Validated (3 fold) \n",
      "Summary of sample sizes: 960, 962, 962 \n",
      "Resampling results across tuning parameters:\n",
      "\n",
      "  sigma        C             Accuracy   Kappa       Mean_F1    Mean_Sensitivity\n",
      "  0.001000000    0.03162278  0.1602755  0.06565004        NaN  0.1584184       \n",
      "  0.001000000    0.10000000  0.3204645  0.24410594        NaN  0.3187883       \n",
      "  0.001000000    0.31622777  0.8799764  0.86662613  0.8802308  0.8793822       \n",
      "  0.001000000    1.00000000  0.9334083  0.92600760  0.9336127  0.9331204       \n",
      "  0.001000000    3.16227766  0.9659982  0.96221919  0.9659256  0.9658152       \n",
      "  0.001000000   10.00000000  0.9757146  0.97301502  0.9756922  0.9755534       \n",
      "  0.001000000   31.62277660  0.9819646  0.97995947  0.9817828  0.9817325       \n",
      "  0.001000000  100.00000000  0.9826562  0.98072812  0.9824943  0.9824417       \n",
      "  0.003162278    0.03162278  0.1922170  0.10122484        NaN  0.1903351       \n",
      "  0.003162278    0.10000000  0.8536278  0.83731696  0.8508384  0.8524440       \n",
      "  0.003162278    0.31622777  0.9306420  0.92293370  0.9308111  0.9303858       \n",
      "  0.003162278    1.00000000  0.9632233  0.95913632  0.9631125  0.9630800       \n",
      "  0.003162278    3.16227766  0.9777951  0.97532680  0.9776992  0.9776226       \n",
      "  0.003162278   10.00000000  0.9833535  0.98150303  0.9831763  0.9831368       \n",
      "  0.003162278   31.62277660  0.9840479  0.98227481  0.9838903  0.9838473       \n",
      "  0.003162278  100.00000000  0.9826619  0.98073486  0.9825237  0.9824868       \n",
      "  0.010000000    0.03162278  0.6581287  0.61980279        NaN  0.6548285       \n",
      "  0.010000000    0.10000000  0.9216142  0.91290302  0.9214355  0.9214122       \n",
      "  0.010000000    0.31622777  0.9618401  0.95759903  0.9617000  0.9617046       \n",
      "  0.010000000    1.00000000  0.9791811  0.97686726  0.9790455  0.9790410       \n",
      "  0.010000000    3.16227766  0.9840451  0.98227145  0.9838768  0.9838165       \n",
      "  0.010000000   10.00000000  0.9833506  0.98150006  0.9831832  0.9831664       \n",
      "  0.010000000   31.62277660  0.9833506  0.98150006  0.9831832  0.9831664       \n",
      "  0.010000000  100.00000000  0.9833506  0.98150006  0.9831832  0.9831664       \n",
      "  Mean_Specificity  Mean_Pos_Pred_Value  Mean_Neg_Pred_Value  Mean_Precision\n",
      "  0.9065649               NaN            0.9181981                  NaN     \n",
      "  0.9243905               NaN            0.9304765                  NaN     \n",
      "  0.9866615         0.8870155            0.9867249            0.8870155     \n",
      "  0.9926045         0.9366049            0.9926217            0.9366049     \n",
      "  0.9962238         0.9666726            0.9962297            0.9666726     \n",
      "  0.9973024         0.9766430            0.9973108            0.9766430     \n",
      "  0.9979961         0.9824910            0.9980077            0.9824910     \n",
      "  0.9980735         0.9832417            0.9980842            0.9832417     \n",
      "  0.9101186               NaN            0.9183159                  NaN     \n",
      "  0.9837210         0.8733670            0.9840344            0.8733670     \n",
      "  0.9922964         0.9335121            0.9923130            0.9335121     \n",
      "  0.9959162         0.9639989            0.9959241            0.9639989     \n",
      "  0.9975341         0.9786395            0.9975439            0.9786395     \n",
      "  0.9981512         0.9837715            0.9981603            0.9837715     \n",
      "  0.9982285         0.9844917            0.9982370            0.9844917     \n",
      "  0.9980747         0.9831251            0.9980825            0.9831251     \n",
      "  0.9619568               NaN            0.9648376                  NaN     \n",
      "  0.9912929         0.9250434            0.9913380            0.9250434     \n",
      "  0.9957611         0.9632736            0.9957816            0.9632736     \n",
      "  0.9976882         0.9795203            0.9976942            0.9795203     \n",
      "  0.9982271         0.9846119            0.9982389            0.9846119     \n",
      "  0.9981505         0.9837279            0.9981598            0.9837279     \n",
      "  0.9981505         0.9837279            0.9981598            0.9837279     \n",
      "  0.9981505         0.9837279            0.9981598            0.9837279     \n",
      "  Mean_Recall  Mean_Detection_Rate  Mean_Balanced_Accuracy\n",
      "  0.1584184    0.01602755           0.5324916             \n",
      "  0.3187883    0.03204645           0.6215894             \n",
      "  0.8793822    0.08799764           0.9330219             \n",
      "  0.9331204    0.09334083           0.9628624             \n",
      "  0.9658152    0.09659982           0.9810195             \n",
      "  0.9755534    0.09757146           0.9864279             \n",
      "  0.9817325    0.09819646           0.9898643             \n",
      "  0.9824417    0.09826562           0.9902576             \n",
      "  0.1903351    0.01922170           0.5502268             \n",
      "  0.8524440    0.08536278           0.9180825             \n",
      "  0.9303858    0.09306420           0.9613411             \n",
      "  0.9630800    0.09632233           0.9794981             \n",
      "  0.9776226    0.09777951           0.9875783             \n",
      "  0.9831368    0.09833535           0.9906440             \n",
      "  0.9838473    0.09840479           0.9910379             \n",
      "  0.9824868    0.09826619           0.9902807             \n",
      "  0.6548285    0.06581287           0.8083927             \n",
      "  0.9214122    0.09216142           0.9563526             \n",
      "  0.9617046    0.09618401           0.9787329             \n",
      "  0.9790410    0.09791811           0.9883646             \n",
      "  0.9838165    0.09840451           0.9910218             \n",
      "  0.9831664    0.09833506           0.9906584             \n",
      "  0.9831664    0.09833506           0.9906584             \n",
      "  0.9831664    0.09833506           0.9906584             \n",
      "\n",
      "Accuracy was used to select the optimal model using the largest value.\n",
      "The final values used for the model were sigma = 0.003162278 and C = 31.62278.\n"
     ]
    }
   ],
   "source": [
    "print(svm_model)"
   ]
  },
  {
   "cell_type": "code",
   "execution_count": 12,
   "metadata": {},
   "outputs": [],
   "source": [
    "preds <- predict(svm_model, newdata = Xt, type = \"raw\")\n",
    "test_accuracy <- sum(preds == yt) / length(yt)"
   ]
  },
  {
   "cell_type": "code",
   "execution_count": 13,
   "metadata": {},
   "outputs": [
    {
     "name": "stdout",
     "output_type": "stream",
     "text": [
      "Test accuracy: 0.983098591549296"
     ]
    }
   ],
   "source": [
    "cat(paste(\"Test accuracy:\", test_accuracy))"
   ]
  }
 ],
 "metadata": {
  "kernelspec": {
   "display_name": "R",
   "language": "R",
   "name": "ir"
  },
  "language_info": {
   "codemirror_mode": "r",
   "file_extension": ".r",
   "mimetype": "text/x-r-source",
   "name": "R",
   "pygments_lexer": "r",
   "version": "4.0.2"
  }
 },
 "nbformat": 4,
 "nbformat_minor": 4
}
