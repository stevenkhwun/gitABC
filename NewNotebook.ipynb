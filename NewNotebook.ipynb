{
 "cells": [
  {
   "cell_type": "markdown",
   "id": "ba72e872-df5e-4d17-9174-937165b614d7",
   "metadata": {},
   "source": [
    "# Create a new notebook in JupyterLab and push to GitHub"
   ]
  },
  {
   "cell_type": "code",
   "execution_count": 1,
   "id": "69073be9-cf77-4a55-8aaa-87566a25b2a1",
   "metadata": {},
   "outputs": [
    {
     "name": "stdout",
     "output_type": "stream",
     "text": [
      "a\n",
      "b\n",
      "c\n",
      "d\n"
     ]
    }
   ],
   "source": [
    "s = \"abcd\"\n",
    "for i in range(len(s)):\n",
    "    print(s[i])"
   ]
  },
  {
   "cell_type": "code",
   "execution_count": 2,
   "id": "ca865e77-2815-4a39-a71e-36340f924d81",
   "metadata": {},
   "outputs": [
    {
     "name": "stdout",
     "output_type": "stream",
     "text": [
      "WTF\n"
     ]
    }
   ],
   "source": [
    "print(\"WTF\")"
   ]
  },
  {
   "cell_type": "markdown",
   "id": "ef91451a-8fcc-4119-bd5f-dee60e33a783",
   "metadata": {},
   "source": [
    "## Create a small change"
   ]
  },
  {
   "cell_type": "markdown",
   "id": "03ba4f68-0026-4931-a5e0-735029b246c8",
   "metadata": {},
   "source": [
    "### Some more changes"
   ]
  },
  {
   "cell_type": "code",
   "execution_count": null,
   "id": "059caf02-2351-4297-a50c-89bef2bdf6a4",
   "metadata": {},
   "outputs": [],
   "source": []
  }
 ],
 "metadata": {
  "kernelspec": {
   "display_name": "Python 3 (ipykernel)",
   "language": "python",
   "name": "python3"
  },
  "language_info": {
   "codemirror_mode": {
    "name": "ipython",
    "version": 3
   },
   "file_extension": ".py",
   "mimetype": "text/x-python",
   "name": "python",
   "nbconvert_exporter": "python",
   "pygments_lexer": "ipython3",
   "version": "3.9.5"
  }
 },
 "nbformat": 4,
 "nbformat_minor": 5
}
