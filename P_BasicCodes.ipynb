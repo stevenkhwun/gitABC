{
 "cells": [
  {
   "cell_type": "markdown",
   "metadata": {
    "colab_type": "text",
    "id": "view-in-github"
   },
   "source": [
    "<a href=\"https://colab.research.google.com/github/stevenkhwun/my-repo/blob/main/P_BasicCodes.ipynb\" target=\"_parent\"><img src=\"https://colab.research.google.com/assets/colab-badge.svg\" alt=\"Open In Colab\"/></a>"
   ]
  },
  {
   "cell_type": "markdown",
   "metadata": {
    "id": "jh3kcG9LBJGb"
   },
   "source": [
    "# Basics\n",
    "\n",
    "## Quotes"
   ]
  },
  {
   "cell_type": "code",
   "execution_count": null,
   "metadata": {
    "colab": {
     "base_uri": "https://localhost:8080/"
    },
    "id": "q8V14tkLA_cP",
    "outputId": "a3919242-6aa4-44aa-bda4-8c58dd59929a"
   },
   "outputs": [
    {
     "name": "stdout",
     "output_type": "stream",
     "text": [
      "2+2\n",
      "4\n"
     ]
    }
   ],
   "source": [
    "print(\"2+2\")\n",
    "print(2+2)"
   ]
  },
  {
   "cell_type": "markdown",
   "metadata": {
    "id": "i2cGeJ52BhdZ"
   },
   "source": [
    "## Getting input"
   ]
  },
  {
   "cell_type": "code",
   "execution_count": null,
   "metadata": {
    "colab": {
     "base_uri": "https://localhost:8080/",
     "height": 53
    },
    "id": "UfBhEX8JBl5N",
    "outputId": "8f42fe3d-e453-467a-9678-68709646b37b"
   },
   "outputs": [
    {
     "name": "stdout",
     "output_type": "stream",
     "text": [
      "Enter your name: Steven\n"
     ]
    },
    {
     "data": {
      "application/vnd.google.colaboratory.intrinsic+json": {
       "type": "string"
      },
      "text/plain": [
       "'Steven'"
      ]
     },
     "execution_count": 3,
     "metadata": {},
     "output_type": "execute_result"
    }
   ],
   "source": [
    "name = input(\"Enter your name: \")\n",
    "name"
   ]
  },
  {
   "cell_type": "code",
   "execution_count": null,
   "metadata": {
    "colab": {
     "base_uri": "https://localhost:8080/"
    },
    "id": "AfQX0eC6Byss",
    "outputId": "ccc7a842-4d35-40cf-be7a-dfe32da253d4"
   },
   "outputs": [
    {
     "name": "stdout",
     "output_type": "stream",
     "text": [
      "Enter a number: 890.88\n"
     ]
    },
    {
     "data": {
      "text/plain": [
       "890.88"
      ]
     },
     "execution_count": 6,
     "metadata": {},
     "output_type": "execute_result"
    }
   ],
   "source": [
    "num = eval(input(\"Enter a number: \"))\n",
    "num"
   ]
  },
  {
   "cell_type": "code",
   "execution_count": null,
   "metadata": {
    "colab": {
     "base_uri": "https://localhost:8080/"
    },
    "id": "owhWRF33CDS5",
    "outputId": "a10050db-ad89-4d60-e624-c146ec26f146"
   },
   "outputs": [
    {
     "data": {
      "text/plain": [
       "float"
      ]
     },
     "execution_count": 7,
     "metadata": {},
     "output_type": "execute_result"
    }
   ],
   "source": [
    "type(num)"
   ]
  },
  {
   "cell_type": "markdown",
   "metadata": {
    "id": "yCxp6OJoCdE0"
   },
   "source": [
    "## Optional arguments to the print function\n",
    "\n",
    "**`sep`** - use to change or get rid of spaces that print inserts"
   ]
  },
  {
   "cell_type": "code",
   "execution_count": null,
   "metadata": {
    "colab": {
     "base_uri": "https://localhost:8080/"
    },
    "id": "KspFSSAiCg5X",
    "outputId": "5b02a5d5-468e-45da-9673-88e7145c11ed"
   },
   "outputs": [
    {
     "name": "stdout",
     "output_type": "stream",
     "text": [
      "12345\n"
     ]
    }
   ],
   "source": [
    "print(1,2,3,4,5, sep='')\n"
   ]
  },
  {
   "cell_type": "code",
   "execution_count": null,
   "metadata": {
    "colab": {
     "base_uri": "https://localhost:8080/"
    },
    "id": "pnyRigmiC61k",
    "outputId": "26074bcf-5355-4029-8e0b-333428d171f6"
   },
   "outputs": [
    {
     "name": "stdout",
     "output_type": "stream",
     "text": [
      "1/2/3/4/5\n"
     ]
    }
   ],
   "source": [
    "print(1,2,3,4,5, sep='/')"
   ]
  },
  {
   "cell_type": "markdown",
   "metadata": {
    "id": "WeK_3UxRDFmH"
   },
   "source": [
    "**`end`** - used to change or get rid of when print jumps to next line"
   ]
  },
  {
   "cell_type": "code",
   "execution_count": null,
   "metadata": {
    "colab": {
     "base_uri": "https://localhost:8080/"
    },
    "id": "P3hsLJ6cDN9A",
    "outputId": "a6dcc2d7-4c0c-4392-9939-1d914a549eb5"
   },
   "outputs": [
    {
     "name": "stdout",
     "output_type": "stream",
     "text": [
      "0123456789"
     ]
    }
   ],
   "source": [
    "for i in range(10):\n",
    "  print(i, end=\"\")"
   ]
  },
  {
   "cell_type": "code",
   "execution_count": null,
   "metadata": {
    "colab": {
     "base_uri": "https://localhost:8080/"
    },
    "id": "o5qLBlFZDZvc",
    "outputId": "0b267429-b0a1-4351-bd02-e786b42c1cfe"
   },
   "outputs": [
    {
     "name": "stdout",
     "output_type": "stream",
     "text": [
      "0 1 2 3 4 5 6 7 8 9 "
     ]
    }
   ],
   "source": [
    "for i in range(10):\n",
    "  print(i, end=\" \")"
   ]
  },
  {
   "cell_type": "markdown",
   "metadata": {
    "id": "xYuwX_-eD8nx"
   },
   "source": [
    "## Math formulas\n",
    "\n",
    "Some math operators:\n",
    "\n",
    "|Operator|What it does|Examples|\n",
    "|:---|:---|:---|\n",
    "|$**$|Powers|5$**$2=25|\n",
    "|%|Modulo (remainder)|19%5=4|\n",
    "|//|Integer division|5//3=1|\n",
    "\n"
   ]
  },
  {
   "cell_type": "markdown",
   "metadata": {
    "id": "NPC47VMkFOVZ"
   },
   "source": [
    "Other math operators: absolute value and round functions"
   ]
  },
  {
   "cell_type": "code",
   "execution_count": null,
   "metadata": {
    "colab": {
     "base_uri": "https://localhost:8080/"
    },
    "id": "Cqk_v-yRFYfz",
    "outputId": "039ac06b-f437-4792-88f6-f3cbfc62880d"
   },
   "outputs": [
    {
     "name": "stdout",
     "output_type": "stream",
     "text": [
      "The absolute value of -3 is 3\n",
      "4/3 rounded to two decimal places is 1.33\n"
     ]
    }
   ],
   "source": [
    "print(\"The absolute value of -3 is\", abs(-3))\n",
    "print(\"4/3 rounded to two decimal places is\", round(4/3,2))"
   ]
  },
  {
   "cell_type": "markdown",
   "metadata": {
    "id": "9SleRVxFE-7J"
   },
   "source": [
    "To use common math functions, import them from the **`math`** module. For instance,"
   ]
  },
  {
   "cell_type": "code",
   "execution_count": null,
   "metadata": {
    "colab": {
     "base_uri": "https://localhost:8080/"
    },
    "id": "Bv8IgnqQEWdp",
    "outputId": "994c1990-ea8f-47b1-ed69-5318b3d62b5a"
   },
   "outputs": [
    {
     "name": "stdout",
     "output_type": "stream",
     "text": [
      "The sine of pi is 1.2246467991473532e-16\n"
     ]
    }
   ],
   "source": [
    "from math import sin, pi\n",
    "print(\"The sine of pi is\", sin(pi))"
   ]
  },
  {
   "cell_type": "markdown",
   "metadata": {
    "id": "lMVQucekGcfH"
   },
   "source": [
    "## Random numbers\n",
    "\n",
    "Use **`randint(a,b)`** to get a random number from a to b (including a and b)"
   ]
  },
  {
   "cell_type": "code",
   "execution_count": null,
   "metadata": {
    "colab": {
     "base_uri": "https://localhost:8080/"
    },
    "id": "s4s8UQFoGhW1",
    "outputId": "9cdc8989-ecf1-4067-8500-6b33c040ce69"
   },
   "outputs": [
    {
     "data": {
      "text/plain": [
       "4"
      ]
     },
     "execution_count": 21,
     "metadata": {},
     "output_type": "execute_result"
    }
   ],
   "source": [
    "from random import randint\n",
    "x = randint(1, 5)\n",
    "x"
   ]
  },
  {
   "cell_type": "markdown",
   "metadata": {
    "id": "vxTEMvk9IRQa"
   },
   "source": [
    "# If statements"
   ]
  },
  {
   "cell_type": "markdown",
   "metadata": {
    "id": "pfcp9rbuHGuc"
   },
   "source": [
    "## Commnon if statements\n",
    "\n",
    "```Python\n",
    "if x == 3:                           # if x is 3\n",
    "if x != 3:                           # if x is not 3\n",
    "if x >= 1 and x <= 5:                # if x is between 1 and 5\n",
    "if x == 1 or x == 2:                 # if x is 1 or 2\n",
    "if name == \"elvis\":                  # checkin strings\n",
    "if (x == 3 or x == 5) and y == 2:    # use parens in complicated statements\n",
    "```"
   ]
  },
  {
   "cell_type": "markdown",
   "metadata": {
    "id": "EgEKuZgIII9r"
   },
   "source": [
    "## if/else\n",
    "\n",
    "```Python\n",
    "if guess == num:\n",
    "  print(\"You got it!\")\n",
    "else:\n",
    "  print(\"You missed it.\")\n",
    "```"
   ]
  },
  {
   "cell_type": "markdown",
   "metadata": {
    "id": "pM9IwNfrKXVF"
   },
   "source": [
    "## if/elif/else\n",
    "\n",
    "It is useful if something can be one of several possibilities.\n",
    "\n",
    "```Python\n",
    "if entry == \"yes\":\n",
    "  print(\"Your total ill is $50.00\")\n",
    "elif entry == \"no\":\n",
    "  print(\"Your total bill is $45.00\")\n",
    "else:\n",
    "  print(\"Invalid entry\")\n",
    "```\n",
    "\n"
   ]
  },
  {
   "cell_type": "markdown",
   "metadata": {
    "id": "uUWbmm1cLJ6D"
   },
   "source": [
    "# For Loops"
   ]
  },
  {
   "cell_type": "markdown",
   "metadata": {
    "id": "WjCJD8_KLPaz"
   },
   "source": [
    "## Basics\n",
    "\n",
    "This will print hello 5 times:"
   ]
  },
  {
   "cell_type": "code",
   "execution_count": null,
   "metadata": {
    "colab": {
     "base_uri": "https://localhost:8080/"
    },
    "id": "O5_riAbXHTZI",
    "outputId": "5cf44f11-9d8d-4b6d-a952-f220c5600fc0"
   },
   "outputs": [
    {
     "name": "stdout",
     "output_type": "stream",
     "text": [
      "hello\n",
      "hello\n",
      "hello\n",
      "hello\n",
      "hello\n"
     ]
    }
   ],
   "source": [
    "for i in range(5):\n",
    "  print(\"hello\")"
   ]
  },
  {
   "cell_type": "markdown",
   "metadata": {
    "id": "C6uLUaf-Li5L"
   },
   "source": [
    "Indentation is used to tell what statements will be repeated. The statement below alternates print A and B 3 times and then prints Bye once."
   ]
  },
  {
   "cell_type": "code",
   "execution_count": null,
   "metadata": {
    "colab": {
     "base_uri": "https://localhost:8080/"
    },
    "id": "2eqtf_JCLtJl",
    "outputId": "4f093ad5-a7c6-4749-eaa4-8401ca7d107b"
   },
   "outputs": [
    {
     "name": "stdout",
     "output_type": "stream",
     "text": [
      "A\n",
      "B\n",
      "A\n",
      "B\n",
      "A\n",
      "B\n",
      "Bye\n"
     ]
    }
   ],
   "source": [
    "for i in range(3):\n",
    "  print(\"A\")\n",
    "  print(\"B\")\n",
    "print(\"Bye\")"
   ]
  },
  {
   "cell_type": "markdown",
   "metadata": {
    "id": "IRQXCD16L-Ig"
   },
   "source": [
    "The `i` variable in a for loop keeps track of where your are in the loop. It starts off at 0 and goes to one less than whatever is in the range."
   ]
  },
  {
   "cell_type": "code",
   "execution_count": null,
   "metadata": {
    "colab": {
     "base_uri": "https://localhost:8080/"
    },
    "id": "e3hfBmGcMLXo",
    "outputId": "a5e753dd-22a2-4d00-a988-702f0129259d"
   },
   "outputs": [
    {
     "name": "stdout",
     "output_type": "stream",
     "text": [
      "0\n",
      "1\n",
      "2\n",
      "3\n",
      "4\n"
     ]
    }
   ],
   "source": [
    "for i in range(5):\n",
    "  print(i)"
   ]
  },
  {
   "cell_type": "markdown",
   "metadata": {
    "id": "9n59UNkc14bI"
   },
   "source": [
    "## The range statement\n",
    "\n",
    "Here are some example ranges:"
   ]
  },
  {
   "cell_type": "code",
   "execution_count": null,
   "metadata": {
    "colab": {
     "base_uri": "https://localhost:8080/"
    },
    "id": "NtPas9Lq19qs",
    "outputId": "4c345c02-6750-4f59-993a-12079bed9380"
   },
   "outputs": [
    {
     "name": "stdout",
     "output_type": "stream",
     "text": [
      "[0, 1, 2, 3, 4, 5, 6, 7, 8, 9]\n"
     ]
    }
   ],
   "source": [
    "# range(10)\n",
    "r =[]\n",
    "for i in range(10):\n",
    "  r.append(i)\n",
    "print(r)"
   ]
  },
  {
   "cell_type": "code",
   "execution_count": null,
   "metadata": {
    "colab": {
     "base_uri": "https://localhost:8080/"
    },
    "id": "cVTvY5-l2Mb2",
    "outputId": "495dd6d9-1d8c-4538-c374-09f7b771ec31"
   },
   "outputs": [
    {
     "name": "stdout",
     "output_type": "stream",
     "text": [
      "[5, 6, 7, 8, 9]\n"
     ]
    }
   ],
   "source": [
    "# range(5, 10)\n",
    "r = []\n",
    "for i in range(5, 10):\n",
    "  r.append(i)\n",
    "print(r)"
   ]
  },
  {
   "cell_type": "code",
   "execution_count": null,
   "metadata": {
    "colab": {
     "base_uri": "https://localhost:8080/"
    },
    "id": "QkdQxRBu2X93",
    "outputId": "3dc1b6c7-aa90-4751-935c-3bf90457515c"
   },
   "outputs": [
    {
     "name": "stdout",
     "output_type": "stream",
     "text": [
      "[1, 3, 5, 7, 9]\n"
     ]
    }
   ],
   "source": [
    "# range(1, 10, 2)\n",
    "r = []\n",
    "for i in range(1, 10, 2):\n",
    "  r.append(i)\n",
    "print(r)"
   ]
  },
  {
   "cell_type": "code",
   "execution_count": null,
   "metadata": {
    "colab": {
     "base_uri": "https://localhost:8080/"
    },
    "id": "uTGQif-d2lOp",
    "outputId": "f3089bca-0a8f-42e7-b43c-9efea49fb221"
   },
   "outputs": [
    {
     "name": "stdout",
     "output_type": "stream",
     "text": [
      "[10, 9, 8, 7, 6, 5, 4, 3, 2, 1]\n"
     ]
    }
   ],
   "source": [
    "# range(10, 0, -1)\n",
    "r = []\n",
    "for i in range(10, 0, -1):\n",
    "  r.append(i)\n",
    "print(r)"
   ]
  },
  {
   "cell_type": "markdown",
   "metadata": {
    "id": "qpwSqmB22w0s"
   },
   "source": [
    "One tricky thing is that the endpoint of the range is never included in the numbers generated."
   ]
  },
  {
   "cell_type": "markdown",
   "metadata": {
    "id": "sc8jUJH9BLZl"
   },
   "source": [
    "# Strings"
   ]
  },
  {
   "cell_type": "markdown",
   "metadata": {
    "id": "jVmI8uaWB_BT"
   },
   "source": [
    "## String basics\n",
    "\n",
    "Suppose `s` = abcde Hi fghij"
   ]
  },
  {
   "cell_type": "code",
   "execution_count": null,
   "metadata": {
    "colab": {
     "base_uri": "https://localhost:8080/",
     "height": 35
    },
    "id": "_TTQSQ1IBHUi",
    "outputId": "a01c494b-26c5-4ac1-8c95-c5becd232bcb"
   },
   "outputs": [
    {
     "data": {
      "application/vnd.google.colaboratory.intrinsic+json": {
       "type": "string"
      },
      "text/plain": [
       "'abcde Hi fghij'"
      ]
     },
     "execution_count": 18,
     "metadata": {},
     "output_type": "execute_result"
    }
   ],
   "source": [
    "# Creating s\n",
    "s = \"abcde Hi fghij\"\n",
    "s"
   ]
  },
  {
   "cell_type": "code",
   "execution_count": null,
   "metadata": {
    "colab": {
     "base_uri": "https://localhost:8080/",
     "height": 35
    },
    "id": "0DDBuVerCQKp",
    "outputId": "3c4af4a6-9cb0-4192-dcc4-d8654d13e1b9"
   },
   "outputs": [
    {
     "data": {
      "application/vnd.google.colaboratory.intrinsic+json": {
       "type": "string"
      },
      "text/plain": [
       "'abcde Hi fghij!!'"
      ]
     },
     "execution_count": 19,
     "metadata": {},
     "output_type": "execute_result"
    }
   ],
   "source": [
    "# Add !! to the end of s\n",
    "s + \"!!\""
   ]
  },
  {
   "cell_type": "code",
   "execution_count": null,
   "metadata": {
    "colab": {
     "base_uri": "https://localhost:8080/",
     "height": 35
    },
    "id": "vsMAjSD3CYxD",
    "outputId": "9b52af94-9670-4066-87f4-3e918fcea1cc"
   },
   "outputs": [
    {
     "data": {
      "application/vnd.google.colaboratory.intrinsic+json": {
       "type": "string"
      },
      "text/plain": [
       "'aaaaa'"
      ]
     },
     "execution_count": 20,
     "metadata": {},
     "output_type": "execute_result"
    }
   ],
   "source": [
    "# Replicate an entry, like s = \"aaaaa\"\n",
    "\"a\" * 5"
   ]
  },
  {
   "cell_type": "code",
   "execution_count": null,
   "metadata": {
    "colab": {
     "base_uri": "https://localhost:8080/"
    },
    "id": "-TjLM1XFDBwI",
    "outputId": "fd6d33a8-944d-40c3-a8de-fb59266c2e9e"
   },
   "outputs": [
    {
     "data": {
      "text/plain": [
       "2"
      ]
     },
     "execution_count": 21,
     "metadata": {},
     "output_type": "execute_result"
    }
   ],
   "source": [
    "# Number of spaces in the string\n",
    "s.count(\" \")"
   ]
  },
  {
   "cell_type": "code",
   "execution_count": null,
   "metadata": {
    "colab": {
     "base_uri": "https://localhost:8080/",
     "height": 35
    },
    "id": "k0eXL4xjBp-d",
    "outputId": "5856d6ca-5bfe-4d2a-855e-8945f29b7627"
   },
   "outputs": [
    {
     "data": {
      "application/vnd.google.colaboratory.intrinsic+json": {
       "type": "string"
      },
      "text/plain": [
       "'abcde Hello fghij'"
      ]
     },
     "execution_count": 22,
     "metadata": {},
     "output_type": "execute_result"
    }
   ],
   "source": [
    "# Replaces each 'Hi' with 'Hello'\n",
    "s.replace(\"Hi\", \"Hello\")"
   ]
  },
  {
   "cell_type": "code",
   "execution_count": null,
   "metadata": {
    "colab": {
     "base_uri": "https://localhost:8080/",
     "height": 35
    },
    "id": "20FE_1JADdxI",
    "outputId": "fcd35691-1221-4c79-84c8-776e5b42cb57"
   },
   "outputs": [
    {
     "data": {
      "application/vnd.google.colaboratory.intrinsic+json": {
       "type": "string"
      },
      "text/plain": [
       "'ABCDE HI FGHIJ'"
      ]
     },
     "execution_count": 23,
     "metadata": {},
     "output_type": "execute_result"
    }
   ],
   "source": [
    "# Changes s to all caps\n",
    "s.upper()"
   ]
  },
  {
   "cell_type": "code",
   "execution_count": null,
   "metadata": {
    "colab": {
     "base_uri": "https://localhost:8080/"
    },
    "id": "k6fjy3Y3DnzG",
    "outputId": "3f57792f-f1d6-4e4c-ef7b-ddf15ad62d2b"
   },
   "outputs": [
    {
     "data": {
      "text/plain": [
       "0"
      ]
     },
     "execution_count": 24,
     "metadata": {},
     "output_type": "execute_result"
    }
   ],
   "source": [
    "# Location of the first 'a' in s\n",
    "s.index(\"a\")"
   ]
  },
  {
   "cell_type": "code",
   "execution_count": null,
   "metadata": {
    "colab": {
     "base_uri": "https://localhost:8080/"
    },
    "id": "uGsBGHmDDx7f",
    "outputId": "245463e5-45aa-457e-9588-4b7e43285fb3"
   },
   "outputs": [
    {
     "name": "stdout",
     "output_type": "stream",
     "text": [
      "yes\n"
     ]
    }
   ],
   "source": [
    "# See if s has any a's\n",
    "if \"a\" in s:\n",
    "  print(\"yes\")\n",
    "else:\n",
    "  print(\"no\")"
   ]
  },
  {
   "cell_type": "code",
   "execution_count": null,
   "metadata": {
    "colab": {
     "base_uri": "https://localhost:8080/"
    },
    "id": "fqMAwinTEMXF",
    "outputId": "0bb16416-fc09-4fe2-dfd4-28464f0359dc"
   },
   "outputs": [
    {
     "name": "stdout",
     "output_type": "stream",
     "text": [
      "no\n"
     ]
    }
   ],
   "source": [
    "# See if every character of s is a letter\n",
    "if s.isalpha():\n",
    "  print(\"yes\")\n",
    "else:\n",
    "  print(\"no\")"
   ]
  },
  {
   "cell_type": "markdown",
   "metadata": {
    "id": "WOn8iAkFEtES"
   },
   "source": [
    "It is no because `s` includes spaces. See the following example where k includes only letters."
   ]
  },
  {
   "cell_type": "code",
   "execution_count": null,
   "metadata": {
    "colab": {
     "base_uri": "https://localhost:8080/"
    },
    "id": "zRpgwlTKEhJS",
    "outputId": "d0122597-4b8d-4756-c344-2010e8e5c0a1"
   },
   "outputs": [
    {
     "name": "stdout",
     "output_type": "stream",
     "text": [
      "no\n"
     ]
    }
   ],
   "source": [
    "# See if every character of k is a letter\n",
    "k = \"abcdefg\"\n",
    "if k.isalpha():\n",
    "  print(\"yes\")\n",
    "else:\n",
    "  print(\"no\")"
   ]
  },
  {
   "cell_type": "code",
   "execution_count": null,
   "metadata": {
    "colab": {
     "base_uri": "https://localhost:8080/"
    },
    "id": "b9gf9OAzFBA2",
    "outputId": "4bf7468b-dd2e-4720-dec3-439e24ba8aee"
   },
   "outputs": [
    {
     "name": "stdout",
     "output_type": "stream",
     "text": [
      "no\n"
     ]
    }
   ],
   "source": [
    "# See if every character of d is a digit\n",
    "d = \"12345\"\n",
    "if d.isdigit():\n",
    "  print(\"yes\")\n",
    "else:\n",
    "  print(\"no\")"
   ]
  },
  {
   "cell_type": "code",
   "execution_count": null,
   "metadata": {
    "colab": {
     "base_uri": "https://localhost:8080/"
    },
    "id": "1W-3_22xFTHM",
    "outputId": "125e2a45-4837-44db-dbe6-4abf6d3e67ca"
   },
   "outputs": [
    {
     "data": {
      "text/plain": [
       "14"
      ]
     },
     "execution_count": 35,
     "metadata": {},
     "output_type": "execute_result"
    }
   ],
   "source": [
    "# How long s is (including spaces)\n",
    "len(s)"
   ]
  },
  {
   "cell_type": "markdown",
   "metadata": {
    "id": "p7Ct4owbJ7w3"
   },
   "source": [
    "## String indices and slices\n",
    "\n",
    "Suppose `s` = \"abcdefghij\"\n",
    "\n",
    "Note: Slices are like range in that they don't include the last index."
   ]
  },
  {
   "cell_type": "code",
   "execution_count": 2,
   "metadata": {
    "id": "bWLp_SdRLQdA"
   },
   "outputs": [],
   "source": [
    "# Set up the string s\n",
    "s = \"abcdefghij\""
   ]
  },
  {
   "cell_type": "code",
   "execution_count": 3,
   "metadata": {
    "colab": {
     "base_uri": "https://localhost:8080/",
     "height": 35
    },
    "id": "U43b7zjFJ5hE",
    "outputId": "73e9789d-b49c-4bba-d907-5628b857e5e8"
   },
   "outputs": [
    {
     "data": {
      "application/vnd.google.colaboratory.intrinsic+json": {
       "type": "string"
      },
      "text/plain": [
       "'a'"
      ]
     },
     "execution_count": 3,
     "metadata": {},
     "output_type": "execute_result"
    }
   ],
   "source": [
    "# First character of s\n",
    "s[0]"
   ]
  },
  {
   "cell_type": "code",
   "execution_count": 4,
   "metadata": {
    "colab": {
     "base_uri": "https://localhost:8080/",
     "height": 35
    },
    "id": "UuxI1x7YLbJY",
    "outputId": "43fe72e5-d14c-4cd5-8625-bd68103e0f28"
   },
   "outputs": [
    {
     "data": {
      "application/vnd.google.colaboratory.intrinsic+json": {
       "type": "string"
      },
      "text/plain": [
       "'b'"
      ]
     },
     "execution_count": 4,
     "metadata": {},
     "output_type": "execute_result"
    }
   ],
   "source": [
    "# Second character of s\n",
    "s[1]"
   ]
  },
  {
   "cell_type": "code",
   "execution_count": 5,
   "metadata": {
    "colab": {
     "base_uri": "https://localhost:8080/",
     "height": 35
    },
    "id": "OSCrCiKNLhh4",
    "outputId": "bbf1cb98-0e59-46ad-ed47-3819e5b89a6a"
   },
   "outputs": [
    {
     "data": {
      "application/vnd.google.colaboratory.intrinsic+json": {
       "type": "string"
      },
      "text/plain": [
       "'j'"
      ]
     },
     "execution_count": 5,
     "metadata": {},
     "output_type": "execute_result"
    }
   ],
   "source": [
    "# Last character of s\n",
    "s[-1]"
   ]
  },
  {
   "cell_type": "code",
   "execution_count": 6,
   "metadata": {
    "colab": {
     "base_uri": "https://localhost:8080/",
     "height": 35
    },
    "id": "khMF3avoLnez",
    "outputId": "cba7ee6d-3502-4892-d1fd-90f5750d21dc"
   },
   "outputs": [
    {
     "data": {
      "application/vnd.google.colaboratory.intrinsic+json": {
       "type": "string"
      },
      "text/plain": [
       "'i'"
      ]
     },
     "execution_count": 6,
     "metadata": {},
     "output_type": "execute_result"
    }
   ],
   "source": [
    "# Second last character of s\n",
    "s[-2]"
   ]
  },
  {
   "cell_type": "code",
   "execution_count": 9,
   "metadata": {
    "colab": {
     "base_uri": "https://localhost:8080/",
     "height": 35
    },
    "id": "yUILiKMELs51",
    "outputId": "4c68654a-37e4-407d-b823-9c020852f755"
   },
   "outputs": [
    {
     "data": {
      "application/vnd.google.colaboratory.intrinsic+json": {
       "type": "string"
      },
      "text/plain": [
       "'abc'"
      ]
     },
     "execution_count": 9,
     "metadata": {},
     "output_type": "execute_result"
    }
   ],
   "source": [
    "# First three characters\n",
    "s[:3]"
   ]
  },
  {
   "cell_type": "code",
   "execution_count": 8,
   "metadata": {
    "colab": {
     "base_uri": "https://localhost:8080/",
     "height": 35
    },
    "id": "As7JsfDpL1X3",
    "outputId": "6929af40-31f7-460c-cab4-a1404aec000f"
   },
   "outputs": [
    {
     "data": {
      "application/vnd.google.colaboratory.intrinsic+json": {
       "type": "string"
      },
      "text/plain": [
       "'hij'"
      ]
     },
     "execution_count": 8,
     "metadata": {},
     "output_type": "execute_result"
    }
   ],
   "source": [
    "# Last three characters\n",
    "s[-3:]"
   ]
  },
  {
   "cell_type": "code",
   "execution_count": 10,
   "metadata": {
    "colab": {
     "base_uri": "https://localhost:8080/",
     "height": 35
    },
    "id": "-4dXpuiGMAA-",
    "outputId": "0de1dc93-c2b0-4889-ca68-470af7085ec2"
   },
   "outputs": [
    {
     "data": {
      "application/vnd.google.colaboratory.intrinsic+json": {
       "type": "string"
      },
      "text/plain": [
       "'cde'"
      ]
     },
     "execution_count": 10,
     "metadata": {},
     "output_type": "execute_result"
    }
   ],
   "source": [
    "# Characters at indices 2, 3, 4\n",
    "s[2:5]"
   ]
  },
  {
   "cell_type": "code",
   "execution_count": 11,
   "metadata": {
    "colab": {
     "base_uri": "https://localhost:8080/",
     "height": 35
    },
    "id": "hcC-JSIVNHaO",
    "outputId": "92ab02a9-0bee-4247-dd70-e942da367a9d"
   },
   "outputs": [
    {
     "data": {
      "application/vnd.google.colaboratory.intrinsic+json": {
       "type": "string"
      },
      "text/plain": [
       "'fghij'"
      ]
     },
     "execution_count": 11,
     "metadata": {},
     "output_type": "execute_result"
    }
   ],
   "source": [
    "# Characters from index 5 to the end\n",
    "s[5:]"
   ]
  },
  {
   "cell_type": "code",
   "execution_count": 12,
   "metadata": {
    "colab": {
     "base_uri": "https://localhost:8080/",
     "height": 35
    },
    "id": "4iJfBD7wNOH4",
    "outputId": "a068be31-84ee-4044-cfa8-da45482c3d3a"
   },
   "outputs": [
    {
     "data": {
      "application/vnd.google.colaboratory.intrinsic+json": {
       "type": "string"
      },
      "text/plain": [
       "'abcdefghij'"
      ]
     },
     "execution_count": 12,
     "metadata": {},
     "output_type": "execute_result"
    }
   ],
   "source": [
    "# Entire string\n",
    "s[:]"
   ]
  },
  {
   "cell_type": "code",
   "execution_count": 13,
   "metadata": {
    "colab": {
     "base_uri": "https://localhost:8080/",
     "height": 35
    },
    "id": "FKUsMhqoNTdh",
    "outputId": "0ee7ab74-f040-403b-90b7-7b18daa53ecc"
   },
   "outputs": [
    {
     "data": {
      "application/vnd.google.colaboratory.intrinsic+json": {
       "type": "string"
      },
      "text/plain": [
       "'bdf'"
      ]
     },
     "execution_count": 13,
     "metadata": {},
     "output_type": "execute_result"
    }
   ],
   "source": [
    "# Characters from index 1 to 6 by 2\n",
    "s[1:7:2]"
   ]
  },
  {
   "cell_type": "code",
   "execution_count": 14,
   "metadata": {
    "colab": {
     "base_uri": "https://localhost:8080/",
     "height": 35
    },
    "id": "TIY2PA-nNc-t",
    "outputId": "e6d015b8-3f85-43da-ac13-ca0eab0f48d2"
   },
   "outputs": [
    {
     "data": {
      "application/vnd.google.colaboratory.intrinsic+json": {
       "type": "string"
      },
      "text/plain": [
       "'jihgfedcba'"
      ]
     },
     "execution_count": 14,
     "metadata": {},
     "output_type": "execute_result"
    }
   ],
   "source": [
    "# s in reverse\n",
    "s[::-1]"
   ]
  },
  {
   "cell_type": "markdown",
   "metadata": {
    "id": "yavfbVPsNqXk"
   },
   "source": [
    "## Using slices and the index method together\n",
    "\n",
    "Suppose `s` = \"abc ABCD\""
   ]
  },
  {
   "cell_type": "code",
   "execution_count": 18,
   "metadata": {
    "id": "X1d29pipOe6-"
   },
   "outputs": [],
   "source": [
    "# Set up the string\n",
    "s = \"abc ABCD\""
   ]
  },
  {
   "cell_type": "code",
   "execution_count": 21,
   "metadata": {
    "colab": {
     "base_uri": "https://localhost:8080/",
     "height": 35
    },
    "id": "cwt49yq_OB2I",
    "outputId": "4bd53cc4-763d-4ff5-a5af-38115067535f"
   },
   "outputs": [
    {
     "data": {
      "application/vnd.google.colaboratory.intrinsic+json": {
       "type": "string"
      },
      "text/plain": [
       "'A'"
      ]
     },
     "execution_count": 21,
     "metadata": {},
     "output_type": "execute_result"
    }
   ],
   "source": [
    "# The character after the first space\n",
    "s[s.index(\" \")+1]"
   ]
  },
  {
   "cell_type": "code",
   "execution_count": 23,
   "metadata": {
    "colab": {
     "base_uri": "https://localhost:8080/",
     "height": 35
    },
    "id": "3nmXf2EJOMNm",
    "outputId": "ba422105-e690-4968-bca5-398b38726bc8"
   },
   "outputs": [
    {
     "data": {
      "application/vnd.google.colaboratory.intrinsic+json": {
       "type": "string"
      },
      "text/plain": [
       "'abc'"
      ]
     },
     "execution_count": 23,
     "metadata": {},
     "output_type": "execute_result"
    }
   ],
   "source": [
    "# All the characters before the first space\n",
    "s[:s.index(\" \")]"
   ]
  },
  {
   "cell_type": "code",
   "execution_count": 24,
   "metadata": {
    "colab": {
     "base_uri": "https://localhost:8080/",
     "height": 35
    },
    "id": "bYLocdX3O9Nn",
    "outputId": "e853d7a4-5675-4097-cad4-bbefb428f84d"
   },
   "outputs": [
    {
     "data": {
      "application/vnd.google.colaboratory.intrinsic+json": {
       "type": "string"
      },
      "text/plain": [
       "'ABCD'"
      ]
     },
     "execution_count": 24,
     "metadata": {},
     "output_type": "execute_result"
    }
   ],
   "source": [
    "# All the characters after the first space\n",
    "s[s.index(\" \")+1:]"
   ]
  },
  {
   "cell_type": "markdown",
   "metadata": {
    "id": "TIp29MYrPX6k"
   },
   "source": [
    "## Converting numbers to strings\n",
    "\n",
    "Use **`str`** to convert a number to a sting. One common use for this is to access individual digits of a number."
   ]
  },
  {
   "cell_type": "code",
   "execution_count": 26,
   "metadata": {
    "colab": {
     "base_uri": "https://localhost:8080/"
    },
    "id": "bNOPE59yPkY2",
    "outputId": "67e890cd-0d02-49b7-d0cf-848dacb5e95c"
   },
   "outputs": [
    {
     "name": "stdout",
     "output_type": "stream",
     "text": [
      "The first digit of num is 3\n"
     ]
    }
   ],
   "source": [
    "num = 3141592654\n",
    "s = str(num)\n",
    "print(\"The first digit of num is\", s[0])"
   ]
  },
  {
   "cell_type": "markdown",
   "metadata": {
    "id": "kPlXiYFfQA8H"
   },
   "source": [
    "Another use for **`str`** is if we need to put a number into a string with some other stuff. This might be useful in a program that needs to create a bunch of files with similar names."
   ]
  },
  {
   "cell_type": "code",
   "execution_count": 30,
   "metadata": {
    "colab": {
     "base_uri": "https://localhost:8080/",
     "height": 35
    },
    "id": "dmmypYZkQPXK",
    "outputId": "fb5d41fb-9aa1-4498-bf14-683a8fd88c28"
   },
   "outputs": [
    {
     "data": {
      "application/vnd.google.colaboratory.intrinsic+json": {
       "type": "string"
      },
      "text/plain": [
       "'filename3.txt'"
      ]
     },
     "execution_count": 30,
     "metadata": {},
     "output_type": "execute_result"
    }
   ],
   "source": [
    "x = 3\n",
    "\"filename\" + str(x) + \".txt\""
   ]
  },
  {
   "cell_type": "markdown",
   "metadata": {
    "id": "EHWpc9UvR9KZ"
   },
   "source": [
    "## Converting strings to numbers"
   ]
  },
  {
   "cell_type": "code",
   "execution_count": 40,
   "metadata": {
    "colab": {
     "base_uri": "https://localhost:8080/"
    },
    "id": "_tMDNR_TRPy8",
    "outputId": "1a167b40-ee66-4491-b0e3-b63dbe29eb74"
   },
   "outputs": [
    {
     "data": {
      "text/plain": [
       "str"
      ]
     },
     "execution_count": 40,
     "metadata": {},
     "output_type": "execute_result"
    }
   ],
   "source": [
    "s = \"5\"\n",
    "type(s)"
   ]
  },
  {
   "cell_type": "code",
   "execution_count": 41,
   "metadata": {
    "colab": {
     "base_uri": "https://localhost:8080/"
    },
    "id": "wEJ97fg5RVE0",
    "outputId": "142fb86b-b2eb-48e7-f8b0-52825cba70df"
   },
   "outputs": [
    {
     "name": "stdout",
     "output_type": "stream",
     "text": [
      "The value of num is 5 and its type is <class 'int'>\n"
     ]
    }
   ],
   "source": [
    "# Convert s to an integer\n",
    "num = int(s)\n",
    "print(\"The value of num is\", num, \"and its type is\", type(num))"
   ]
  },
  {
   "cell_type": "code",
   "execution_count": 42,
   "metadata": {
    "colab": {
     "base_uri": "https://localhost:8080/"
    },
    "id": "GTnqBJkJSJ0P",
    "outputId": "83c8326a-8cb2-40c2-be0d-b820eb2c8013"
   },
   "outputs": [
    {
     "name": "stdout",
     "output_type": "stream",
     "text": [
      "The value of num is 5.0 and its type is <class 'float'>\n"
     ]
    }
   ],
   "source": [
    "# Convert s to a decimal number\n",
    "num = float(s)\n",
    "print(\"The value of num is\", num, \"and its type is\", type(num))"
   ]
  },
  {
   "cell_type": "code",
   "execution_count": 1,
   "metadata": {},
   "outputs": [
    {
     "name": "stdout",
     "output_type": "stream",
     "text": [
      "Hello World\n"
     ]
    }
   ],
   "source": [
    "print(\"Hello World\")"
   ]
  },
  {
   "cell_type": "code",
   "execution_count": 1,
   "metadata": {},
   "outputs": [
    {
     "data": {
      "text/plain": [
       "'abcd'"
      ]
     },
     "execution_count": 1,
     "metadata": {},
     "output_type": "execute_result"
    }
   ],
   "source": [
    "s = \"abcd\"\n",
    "s"
   ]
  },
  {
   "cell_type": "code",
   "execution_count": 2,
   "metadata": {},
   "outputs": [
    {
     "name": "stdout",
     "output_type": "stream",
     "text": [
      "a\n",
      "b\n",
      "c\n",
      "d\n"
     ]
    }
   ],
   "source": [
    "for c in s:\n",
    "    print(c)"
   ]
  },
  {
   "cell_type": "code",
   "execution_count": null,
   "metadata": {},
   "outputs": [],
   "source": []
  }
 ],
 "metadata": {
  "colab": {
   "authorship_tag": "ABX9TyPSnAys7890NbQasbMC0dnw",
   "include_colab_link": true,
   "provenance": [],
   "toc_visible": true
  },
  "kernelspec": {
   "display_name": "Python 3 (ipykernel)",
   "language": "python",
   "name": "python3"
  },
  "language_info": {
   "codemirror_mode": {
    "name": "ipython",
    "version": 3
   },
   "file_extension": ".py",
   "mimetype": "text/x-python",
   "name": "python",
   "nbconvert_exporter": "python",
   "pygments_lexer": "ipython3",
   "version": "3.9.5"
  }
 },
 "nbformat": 4,
 "nbformat_minor": 4
}
