{
 "cells": [
  {
   "cell_type": "markdown",
   "metadata": {},
   "source": [
    "# Defining an R Code Repository"
   ]
  },
  {
   "cell_type": "code",
   "execution_count": 1,
   "metadata": {},
   "outputs": [
    {
     "name": "stdout",
     "output_type": "stream",
     "text": [
      "[1] \"R version 4.0.3 (2020-10-10)\"\n",
      "[1] \"Anaconda Version: \"\n",
      "[1] \"# packages in environment at C:\\\\Users\\\\John\\\\ANACON~1:\"           \n",
      "[2] \"#\"                                                                 \n",
      "[3] \"# Name                    Version                   Build  Channel\"\n",
      "[4] \"anaconda                  2020.07                  py38_0  \"       \n"
     ]
    }
   ],
   "source": [
    "print(R.version.string)\n",
    "\n",
    "result <- system2('conda', \n",
    "                  args='list -n base anaconda$', \n",
    "                  stdout=TRUE, wait=TRUE)\n",
    "print('Anaconda Version: ')\n",
    "print(result)"
   ]
  },
  {
   "cell_type": "code",
   "execution_count": null,
   "metadata": {},
   "outputs": [],
   "source": []
  }
 ],
 "metadata": {
  "kernelspec": {
   "display_name": "R",
   "language": "R",
   "name": "ir"
  },
  "language_info": {
   "codemirror_mode": "r",
   "file_extension": ".r",
   "mimetype": "text/x-r-source",
   "name": "R",
   "pygments_lexer": "r",
   "version": "4.0.3"
  }
 },
 "nbformat": 4,
 "nbformat_minor": 4
}
