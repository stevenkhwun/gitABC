{
 "cells": [
  {
   "cell_type": "markdown",
   "id": "75c30c44-903c-4060-8894-dc0eba6f38eb",
   "metadata": {},
   "source": [
    "<font size=\"6\">Tricks in Jupyter Notebook markdown</font>"
   ]
  },
  {
   "cell_type": "markdown",
   "id": "c87890f2-a25b-4471-920c-7d65ed149dfe",
   "metadata": {},
   "source": [
    "# HTML codes to control font sizes\n",
    "\n",
    "`<font size=\"6\">Text here</font>`"
   ]
  },
  {
   "cell_type": "markdown",
   "id": "e7f2c4c6-2ed5-4357-a8b1-8ec5cd2fdd06",
   "metadata": {},
   "source": [
    "# Markdown for Jupyter notebooks cheatsheet\n",
    "\n",
    "The following website contains many tricks in Jupyter notebooks markdown.\n",
    "\n",
    "[Markdown for Jupyter notebooks cheatsheet](https://www.ibm.com/docs/en/db2-event-store/2.0.0?topic=notebooks-markdown-jupyter-cheatsheet)"
   ]
  },
  {
   "cell_type": "markdown",
   "id": "7b38f43c-60a6-4d0e-af22-0c4d26d320ad",
   "metadata": {},
   "source": [
    "<center>\r\n",
    "    <img src=\"https://cf-courses-data.s3.us.cloud-object-storage.appdomain.cloud/IBMDeveloperSkillsNetwork-DS0105EN-SkillsNetwork/labs/Module2/images/SN_web_lightmode.png\" width=\"300\" alt=\"cognitiveclass.ai logo\">\r\n",
    "</center>\r\n"
   ]
  },
  {
   "cell_type": "markdown",
   "id": "976d8734-901e-409e-89ac-61478649b6e4",
   "metadata": {},
   "source": [
    "<center>\n",
    "    <img src=\"https://github.com/stevenkhwun/gitABC/blob/main/20120818_02_IMG_8278.png\" width=\"300\" alt=\"cognitiveclass.ai logo\">\n",
    "</center>"
   ]
  },
  {
   "cell_type": "markdown",
   "id": "724a9399-8e8c-435d-bf17-5c64efbe12c4",
   "metadata": {},
   "source": [
    "<center>\n",
    "    <img src=\"https://github.com/stevenkhwun/gitABC/blob/66c8105301b65d0bf4d932bc00d872b86cd108e5/20120818_02_IMG_8278.JPG\" width=\"300\" alt=\"cognitiveclass.ai logo\">\n",
    "</center>"
   ]
  },
  {
   "cell_type": "code",
   "execution_count": null,
   "id": "581556f1-7c45-4c70-8f55-ee24e412a237",
   "metadata": {},
   "outputs": [],
   "source": []
  }
 ],
 "metadata": {
  "kernelspec": {
   "display_name": "Python 3 (ipykernel)",
   "language": "python",
   "name": "python3"
  },
  "language_info": {
   "codemirror_mode": {
    "name": "ipython",
    "version": 3
   },
   "file_extension": ".py",
   "mimetype": "text/x-python",
   "name": "python",
   "nbconvert_exporter": "python",
   "pygments_lexer": "ipython3",
   "version": "3.11.5"
  }
 },
 "nbformat": 4,
 "nbformat_minor": 5
}
