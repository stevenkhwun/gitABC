{
 "cells": [
  {
   "cell_type": "markdown",
   "id": "75c30c44-903c-4060-8894-dc0eba6f38eb",
   "metadata": {},
   "source": [
    "<font size=\"6\">Tricks in Jupyter Notebook markdown</font>"
   ]
  },
  {
   "cell_type": "markdown",
   "id": "c87890f2-a25b-4471-920c-7d65ed149dfe",
   "metadata": {},
   "source": [
    "# HTML codes to control font sizes\n",
    "\n",
    "`<font size=\"6\">Text here</font>`"
   ]
  },
  {
   "cell_type": "markdown",
   "id": "e7f2c4c6-2ed5-4357-a8b1-8ec5cd2fdd06",
   "metadata": {},
   "source": [
    "# Markdown for Jupyter notebooks cheatsheet\n",
    "\n",
    "The following website contains many tricks in Jupyter notebooks markdown.\n",
    "\n",
    "[Markdown for Jupyter notebooks cheatsheet](https://www.ibm.com/docs/en/db2-event-store/2.0.0?topic=notebooks-markdown-jupyter-cheatsheet)"
   ]
  },
  {
   "cell_type": "code",
   "execution_count": null,
   "id": "e5a7f4d8-0876-4daa-acc5-fa3c041ea51a",
   "metadata": {},
   "outputs": [],
   "source": []
  }
 ],
 "metadata": {
  "kernelspec": {
   "display_name": "Python 3 (ipykernel)",
   "language": "python",
   "name": "python3"
  },
  "language_info": {
   "codemirror_mode": {
    "name": "ipython",
    "version": 3
   },
   "file_extension": ".py",
   "mimetype": "text/x-python",
   "name": "python",
   "nbconvert_exporter": "python",
   "pygments_lexer": "ipython3",
   "version": "3.11.5"
  }
 },
 "nbformat": 4,
 "nbformat_minor": 5
}
